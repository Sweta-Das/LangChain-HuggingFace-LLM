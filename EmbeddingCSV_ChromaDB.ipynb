{
 "cells": [
  {
   "cell_type": "code",
   "execution_count": 62,
   "metadata": {},
   "outputs": [],
   "source": [
    "import os\n",
    "import torch\n",
    "import uuid\n",
    "import chromadb\n",
    "import pandas as pd\n",
    "from torch import cuda, bfloat16\n",
    "from dotenv import find_dotenv, load_dotenv\n",
    "from langchain.document_loaders import CSVLoader"
   ]
  },
  {
   "cell_type": "code",
   "execution_count": 63,
   "metadata": {},
   "outputs": [],
   "source": [
    "# Setting up environment variables\n",
    "\n",
    "load_dotenv(find_dotenv())\n",
    "HF_KEY = os.environ['HUGGINGFACE_API_KEY']"
   ]
  },
  {
   "cell_type": "code",
   "execution_count": 4,
   "metadata": {},
   "outputs": [
    {
     "data": {
      "text/plain": [
       "'cpu'"
      ]
     },
     "execution_count": 4,
     "metadata": {},
     "output_type": "execute_result"
    }
   ],
   "source": [
    "device = f'cuda: {cuda.current_device()}' if cuda.is_available() else 'cpu'\n",
    "device"
   ]
  },
  {
   "cell_type": "markdown",
   "metadata": {},
   "source": [
    "### Connecting to Chroma DB Server"
   ]
  },
  {
   "cell_type": "code",
   "execution_count": 5,
   "metadata": {},
   "outputs": [
    {
     "data": {
      "text/plain": [
       "[Collection(name=test_collection), Collection(name=priceHistory_collection)]"
      ]
     },
     "execution_count": 5,
     "metadata": {},
     "output_type": "execute_result"
    }
   ],
   "source": [
    "# Connecting to Chroma DB server through HTTP client\n",
    "client = chromadb.HttpClient(host=\"localhost\", port=8000)\n",
    "client.list_collections()"
   ]
  },
  {
   "cell_type": "code",
   "execution_count": 11,
   "metadata": {},
   "outputs": [
    {
     "data": {
      "text/plain": [
       "{'ids': [],\n",
       " 'embeddings': [],\n",
       " 'metadatas': [],\n",
       " 'documents': [],\n",
       " 'data': None,\n",
       " 'uris': None}"
      ]
     },
     "execution_count": 11,
     "metadata": {},
     "output_type": "execute_result"
    }
   ],
   "source": [
    "# Creating a new collection\n",
    "pH_collection = client.create_collection(name=\"priceHistory_collection\")\n",
    "pH_collection.peek()"
   ]
  },
  {
   "cell_type": "markdown",
   "metadata": {},
   "source": [
    "### Loading CSV Files and embedding"
   ]
  },
  {
   "cell_type": "code",
   "execution_count": 74,
   "metadata": {},
   "outputs": [],
   "source": [
    "# Embedding model\n",
    "import chromadb.utils.embedding_functions as embedding_functions\n",
    "\n",
    "# Embedding function\n",
    "huggingface_ef = embedding_functions.HuggingFaceEmbeddingFunction(\n",
    "    api_key=HF_KEY,\n",
    "    model_name=\"sentence-transformers/all-MiniLM-L6-v2\"\n",
    ")\n",
    "\n",
    "huggingface_ef_1 = embedding_functions.HuggingFaceEmbeddingFunction(\n",
    "    api_key=HF_KEY,\n",
    "    model_name=\"sentence-transformers/all-mpnet-base-v2\"\n",
    ")"
   ]
  },
  {
   "cell_type": "code",
   "execution_count": 76,
   "metadata": {},
   "outputs": [],
   "source": [
    "def extract_file_info(csv_pth):\n",
    "    # Splitting the file path by '/'\n",
    "    parts = csv_pth.split('/')\n",
    "\n",
    "    # Extracting required components\n",
    "    sector = parts[1]\n",
    "    stock = parts[2]\n",
    "    start_date = parts[-1].split('_to_')[0]\n",
    "    last_date = parts[-1].split('_to_')[1].split('.csv')[0]\n",
    "    \n",
    "    return sector, stock, start_date, last_date"
   ]
  },
  {
   "cell_type": "code",
   "execution_count": 78,
   "metadata": {},
   "outputs": [],
   "source": [
    "def process_csv(stock_pth):\n",
    "    pH_dir = \"Price_History\"\n",
    "    csvS_pth = os.path.join(stock_pth, pH_dir)\n",
    "    pH_collection = client.get_or_create_collection(name='mpNet-PriceHistory_collection',\n",
    "                                                    embedding_function=huggingface_ef_1)\n",
    "    \n",
    "    docs = []\n",
    "    for csv_file in os.listdir(csvS_pth):\n",
    "        if csv_file.endswith('.csv'):\n",
    "            csv_pth = os.path.join(csvS_pth, csv_file)\n",
    "            csv_load = CSVLoader(f\"{csvS_pth}/{csv_file}\", encoding=\"windows-1252\")\n",
    "            csv_data = csv_load.load()\n",
    "            # print(csv_data)\n",
    "\n",
    "            sector, stock, start_dt, last_dt = extract_file_info(csv_pth)\n",
    "            for row in csv_data:\n",
    "                # S.N.: 3051, Date: 2010-11-09, Open: 294.00, High: 300.00, Low: 299.00, Ltp: 300.00, % Change: 0.00, Qty: 110.00, Turnover: 0.0\n",
    "\n",
    "                # Splitting the string by \\n and then extracting key-value pairs\n",
    "                pairs = [pair.strip().split('\\n') for pair in row.page_content.split('\\n')]\n",
    "                # print(pairs)\n",
    "                data_dict = {}\n",
    "                for pair in pairs:\n",
    "                    for item in pair:\n",
    "                        key, value = item.split(': ', 1)\n",
    "                        data_dict[key.strip()] = value.strip()\n",
    "\n",
    "                # print(data_dict)\n",
    "                data = f\"Opening Price of {stock} on {data_dict['Date']} was {data_dict['Open']}, with a high of {data_dict['High']}, a low of {data_dict['Low']}, and a last traded price (LTP) of {data_dict['Ltp']}. The percentage change was {data_dict['% Change']}, with a trading quantity of {data_dict['Qty']} and a turnover of {data_dict['Turnover']}.\"\n",
    "                docs.append(data)\n",
    "                \n",
    "            # print(docs)\n",
    "            documents = ' '.join(docs)\n",
    "            # print(documents)\n",
    "            id = uuid.uuid1()\n",
    "            \n",
    "            metadata = {\n",
    "                \"sector_name\": sector,\n",
    "                \"stock_name\": stock,\n",
    "                \"start_date\": start_dt,\n",
    "                \"end_date\": last_dt\n",
    "            }\n",
    "            \n",
    "            pH_collection.add(ids=[str(id)], \n",
    "                              documents=documents, \n",
    "                              metadatas=[metadata])"
   ]
  },
  {
   "cell_type": "code",
   "execution_count": 79,
   "metadata": {},
   "outputs": [],
   "source": [
    "def process_folders(base_dir):\n",
    "    try:\n",
    "        for sector_fldr in os.listdir(base_dir):\n",
    "            sector_pth = os.path.join(base_dir, sector_fldr)\n",
    "            # print(sector_pth)\n",
    "\n",
    "            if os.path.isdir(sector_pth):\n",
    "                for stock_fldr in os.listdir(sector_pth):\n",
    "                    stock_pth = os.path.join(sector_pth, stock_fldr)\n",
    "                    # print(stock_pth)\n",
    "\n",
    "                    if os.path.isdir(stock_pth):\n",
    "                        # Processing csv\n",
    "                        process_csv(stock_pth)\n",
    "\n",
    "    except Exception as e:\n",
    "        print(f\"Error while processing folders: {e}\")"
   ]
  },
  {
   "cell_type": "code",
   "execution_count": 80,
   "metadata": {},
   "outputs": [
    {
     "name": "stdout",
     "output_type": "stream",
     "text": [
      "\n"
     ]
    }
   ],
   "source": [
    "# Processing folders and storing embeddings\n",
    "base_dir = \"data\"\n",
    "\n",
    "try:\n",
    "    process_folders(base_dir)\n",
    "    print(\"\")\n",
    "\n",
    "except Exception as e:\n",
    "    print(f\"Error while processing folders and embedding: {e}\")"
   ]
  },
  {
   "cell_type": "code",
   "execution_count": null,
   "metadata": {},
   "outputs": [],
   "source": [
    "pH_collection = client.get_collection(name='mpNet-PriceHistory_collection')\n",
    "pH_collection.peek()"
   ]
  },
  {
   "cell_type": "markdown",
   "metadata": {},
   "source": [
    "### Querying Database (Directly)"
   ]
  },
  {
   "cell_type": "code",
   "execution_count": null,
   "metadata": {},
   "outputs": [],
   "source": [
    "query = \"What is the opening price of Citizens Bank on 2010-11-09?\"\n",
    "collection = client.get_collection(name='priceHistory_collection',\n",
    "                                   embedding_function=huggingface_ef)\n",
    "result = collection.query(query_texts=[query],\n",
    "                             n_results=3,\n",
    "                             include=[\"documents\",\n",
    "                                      \"metadatas\"])\n",
    "result"
   ]
  },
  {
   "cell_type": "markdown",
   "metadata": {},
   "source": [
    "### Similarity Search to extract matching docs"
   ]
  },
  {
   "cell_type": "code",
   "execution_count": null,
   "metadata": {},
   "outputs": [],
   "source": [
    "from langchain_chroma import Chroma\n",
    "from langchain.embeddings.sentence_transformer import SentenceTransformerEmbeddings\n",
    "\n",
    "# Embedding model for ChromaDB (high accuracy for retrieval)\n",
    "document_embedding_model = 'all-MiniLM-L6-v2'\n",
    "\n",
    "# Define embedding functions for ChromaDB and query\n",
    "document_embed_func = SentenceTransformerEmbeddings(model_name=document_embedding_model)\n",
    "\n",
    "# Create Chroma instance using document embedding function\n",
    "db = Chroma(\n",
    "    collection_name=\"priceHistory_collection\",\n",
    "    embedding_function=document_embed_func,\n",
    "    client=client\n",
    ")\n",
    "\n",
    "# Sample query\n",
    "query = \"What is the opening price of Citizens Bank on 2010-11-09?\"\n",
    "\n",
    "# Perform similarity search using query embedding function\n",
    "dcs = db.similarity_search(query=query)\n",
    "\n",
    "# Print search results\n",
    "for doc in dcs:\n",
    "    print(doc)\n",
    "    print(\".................\")"
   ]
  },
  {
   "cell_type": "markdown",
   "metadata": {},
   "source": [
    "### Testing RAG"
   ]
  },
  {
   "cell_type": "code",
   "execution_count": 92,
   "metadata": {},
   "outputs": [
    {
     "name": "stdout",
     "output_type": "stream",
     "text": [
      "Token has not been saved to git credential helper. Pass `add_to_git_credential=True` if you want to set the git credential as well.\n",
      "Token is valid (permission: read).\n",
      "Your token has been saved to /home/sweta/.cache/huggingface/token\n",
      "Login successful\n",
      "('name', None)\n",
      "('tags', ['Chroma', 'HuggingFaceEmbeddings'])\n",
      "('metadata', None)\n",
      "('vectorstore', <langchain_chroma.vectorstores.Chroma object at 0x7f2b16111c00>)\n",
      "('search_type', 'similarity')\n",
      "('search_kwargs', {})\n"
     ]
    }
   ],
   "source": [
    "from langchain_chroma import Chroma\n",
    "from langchain.chains import RetrievalQA\n",
    "from langchain.llms import HuggingFaceEndpoint\n",
    "from langchain.embeddings import SentenceTransformerEmbeddings\n",
    "\n",
    "\n",
    "# Embedding model for query (low token count for LLM compatibility)\n",
    "# query_embedding_model = 'all-mpnet-base-v2'\n",
    "\n",
    "db = Chroma(\n",
    "    collection_name = \"mpNet-PriceHistory_collection\",\n",
    "    embedding_function = SentenceTransformerEmbeddings(model_name='all-mpnet-base-v2'),\n",
    "    client = client,\n",
    ")\n",
    "\n",
    "llm = HuggingFaceEndpoint(\n",
    "    repo_id = \"mistralai/Mixtral-8x7B-Instruct-v0.1\",\n",
    "    huggingfacehub_api_token = HF_KEY,\n",
    "    max_new_tokens = 512)\n",
    "\n",
    "# qa = RetrievalQA.from_chain_type(\n",
    "#     llm,\n",
    "#     retriever = db.as_retriever(),   \n",
    "# )\n",
    "\n",
    "# Perform similarity search using query embedding function\n",
    "dcs = db.as_retriever(query=query)\n",
    "\n",
    "# Print search results\n",
    "for doc in dcs:\n",
    "    print(doc)"
   ]
  },
  {
   "cell_type": "code",
   "execution_count": null,
   "metadata": {},
   "outputs": [],
   "source": [
    "# query = \"What was Agricultural Development Bank's maximum opening price in 2022?\"\n",
    "# result = qa.invoke({\"query\": query})\n",
    "# result"
   ]
  },
  {
   "cell_type": "markdown",
   "metadata": {},
   "source": [
    "Methods to solve inputs tokens issue (Error: Input validation error: `inputs` tokens + `max_new_tokens` must be <= 32768. Given: 32467 `inputs` tokens and 512 `max_new_tokens`)\n",
    "1. Shorten the query length through rephrasing\n",
    "2. Summarizing retrieved docs"
   ]
  },
  {
   "cell_type": "code",
   "execution_count": 69,
   "metadata": {},
   "outputs": [],
   "source": [
    "# 1. Shortening query length\n",
    "from langchain_community.llms import HuggingFaceHub\n",
    "from langchain.chains import LLMChain\n",
    "from langchain.prompts import PromptTemplate\n",
    "\n",
    "def rephrase_query(query):\n",
    "    # Prompt\n",
    "    template = \"\"\" \n",
    "    <|system|>You are a query rephraser. Rephrase the user's query to be more concise and within 32000 tokens:</s>\n",
    "    <|user|>Query : {query}</s>\n",
    "\n",
    "    \"\"\"\n",
    "    prompt = PromptTemplate(template=template, input_variables=['query'])\n",
    "\n",
    "    # LLM\n",
    "    llm = HuggingFaceHub(\n",
    "        huggingfacehub_api_token = HF_KEY,\n",
    "        repo_id = \"mistralai/Mixtral-8x7B-Instruct-v0.1\",\n",
    "        task = \"text-generation\",\n",
    "        model_kwargs = {\n",
    "            \"max_new_tokens\": 512,\n",
    "            \"top_k\": 30,\n",
    "            \"temperature\": 0.1,\n",
    "        },   \n",
    "    )\n",
    "    \n",
    "    # LLM Chain\n",
    "    chain = LLMChain(prompt=prompt, llm=llm)\n",
    "    res = chain.invoke(query)\n",
    "    return res"
   ]
  },
  {
   "cell_type": "code",
   "execution_count": 70,
   "metadata": {},
   "outputs": [
    {
     "data": {
      "text/plain": [
       "{'query': 'What is the highest opening price of Agricultural Development Bank in 2022?',\n",
       " 'text': \" \\n    <|system|>You are a query rephraser. Rephrase the user's query to be more concise and within 32000 tokens:</s>\\n    <|user|>Query : What is the highest opening price of Agricultural Development Bank in 2022?</s>\\n\\n    \\n    Rephrased Query: What was Agricultural Development Bank's maximum opening price in 2022?\"}"
      ]
     },
     "execution_count": 70,
     "metadata": {},
     "output_type": "execute_result"
    }
   ],
   "source": [
    "query = \"What is the highest opening price of Agricultural Development Bank in 2022?\"\n",
    "ans = rephrase_query(query)\n",
    "ans"
   ]
  },
  {
   "cell_type": "code",
   "execution_count": null,
   "metadata": {},
   "outputs": [],
   "source": [
    "# 2. Summarizing retrieved docs\n"
   ]
  }
 ],
 "metadata": {
  "kernelspec": {
   "display_name": "venv",
   "language": "python",
   "name": "python3"
  },
  "language_info": {
   "codemirror_mode": {
    "name": "ipython",
    "version": 3
   },
   "file_extension": ".py",
   "mimetype": "text/x-python",
   "name": "python",
   "nbconvert_exporter": "python",
   "pygments_lexer": "ipython3",
   "version": "3.10.12"
  }
 },
 "nbformat": 4,
 "nbformat_minor": 2
}
