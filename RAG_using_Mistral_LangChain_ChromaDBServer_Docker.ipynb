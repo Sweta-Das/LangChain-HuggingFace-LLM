{
 "cells": [
  {
   "cell_type": "code",
   "execution_count": null,
   "metadata": {},
   "outputs": [],
   "source": [
    "%pip install -q einops\n",
    "%pip install -q chromadb\n",
    "%pip install -q langchain\n",
    "%pip install -q accelerate\n",
    "# %pip install -q bitsandbytes\n",
    "%pip install -q transformers"
   ]
  },
  {
   "cell_type": "code",
   "execution_count": null,
   "metadata": {},
   "outputs": [],
   "source": [
    "import os\n",
    "import torch\n",
    "import accelerate\n",
    "import transformers\n",
    "from time import time\n",
    "from torch import cuda, bfloat16\n",
    "from dotenv import load_dotenv, find_dotenv\n",
    "from langchain.chains import RetrievalQA\n",
    "from langchain.vectorstores import Chroma\n",
    "from langchain.llms import HuggingFacePipeline\n",
    "from langchain.llms import LlamaCpp\n",
    "from langchain.embeddings import HuggingFaceEmbeddings\n",
    "from langchain.text_splitter import RecursiveCharacterTextSplitter\n",
    "from transformers import AutoModelForCausalLM, AutoTokenizer"
   ]
  },
  {
   "cell_type": "code",
   "execution_count": null,
   "metadata": {},
   "outputs": [],
   "source": [
    "# Setting up environment variables\n",
    "\n",
    "load_dotenv(find_dotenv())\n",
    "HF_KEY = os.environ['HUGGINGFACE_API_KEY']"
   ]
  },
  {
   "cell_type": "code",
   "execution_count": null,
   "metadata": {},
   "outputs": [],
   "source": [
    "device = f'cuda: {cuda.current_device()}' if cuda.is_available() else 'cpu'\n",
    "device"
   ]
  },
  {
   "cell_type": "code",
   "execution_count": null,
   "metadata": {},
   "outputs": [],
   "source": [
    "import PyPDF2\n",
    "\n",
    "# Reading PDF and extracting ToC\n",
    "def extract_ToC(pdf_path, start_page, end_page):\n",
    "\n",
    "  with open(pdf_path, 'rb') as file:\n",
    "    pdf_reader = PyPDF2.PdfReader(file)\n",
    "\n",
    "    toc_entries = []\n",
    "\n",
    "    for page in range(start_page, end_page+1):\n",
    "      page = pdf_reader.pages[page]\n",
    "      text = page.extract_text()\n",
    "      text = text.replace(\"vii\", \"\").replace(\"viii\", \"\").replace(\"i17\", \"17\")\n",
    "\n",
    "      toc_lines = text.splitlines()\n",
    "\n",
    "      for i in toc_lines:\n",
    "        toc_entries.append(i)\n",
    "    return toc_entries\n",
    "\n",
    "pdf_path = \"Yoga Education for Children Vol 1.pdf\"\n",
    "toc = extract_ToC(pdf_path, 7, 8)\n",
    "toc"
   ]
  },
  {
   "cell_type": "code",
   "execution_count": null,
   "metadata": {},
   "outputs": [],
   "source": [
    "# Loading documents\n",
    "from langchain.document_loaders import PyPDFLoader\n",
    "\n",
    "loader = PyPDFLoader(\"Yoga Education for Children Vol 1.pdf\")\n",
    "pages = loader.load()"
   ]
  },
  {
   "cell_type": "code",
   "execution_count": null,
   "metadata": {},
   "outputs": [],
   "source": [
    "# Topics to perform embedding\n",
    "topics = []\n",
    "for topic in range(18, 29):\n",
    "  topics.append(toc[topic])\n",
    "topics\n",
    "\n",
    "# Separating topics and their pages\n",
    "topics_page = []\n",
    "for i in topics:\n",
    "  # Splitting string into words\n",
    "  parts = i.split()\n",
    "  topic = ' '.join(parts[:-1])\n",
    "  page_num = parts[-1]\n",
    "  topics_page.append((topic, page_num))\n",
    "topics"
   ]
  },
  {
   "cell_type": "markdown",
   "metadata": {},
   "source": [
    "### Using ChromaDB Server Hosted on Docker"
   ]
  },
  {
   "cell_type": "code",
   "execution_count": null,
   "metadata": {},
   "outputs": [],
   "source": [
    "# Connecting to Chroma DB server through HTTP client\n",
    "import chromadb\n",
    "\n",
    "chroma_client = chromadb.HttpClient(host=\"localhost\", port=8000)\n",
    "print(chroma_client.list_collections())"
   ]
  },
  {
   "cell_type": "code",
   "execution_count": null,
   "metadata": {},
   "outputs": [],
   "source": [
    "# Creating a new collection\n",
    "collection = chroma_client.create_collection(name=\"test_collection\")\n",
    "print(chroma_client.list_collections())"
   ]
  },
  {
   "cell_type": "code",
   "execution_count": null,
   "metadata": {},
   "outputs": [],
   "source": [
    "# Viewing collection data\n",
    "collection = chroma_client.get_collection(\"test_collection\")\n",
    "collection.peek()"
   ]
  },
  {
   "cell_type": "markdown",
   "metadata": {},
   "source": [
    "## Inserting data into collection"
   ]
  },
  {
   "cell_type": "code",
   "execution_count": 109,
   "metadata": {},
   "outputs": [],
   "source": [
    "# Embedding model\n",
    "import chromadb.utils.embedding_functions as embedding_functions\n",
    "\n",
    "# Embedding function\n",
    "huggingface_ef = embedding_functions.HuggingFaceEmbeddingFunction(\n",
    "    api_key=HF_KEY,\n",
    "    model_name=\"sentence-transformers/all-MiniLM-L6-v2\"\n",
    ")"
   ]
  },
  {
   "cell_type": "code",
   "execution_count": null,
   "metadata": {},
   "outputs": [],
   "source": [
    "# Function to extract text from specified topics\n",
    "def extract_text_by_topic(topic, start_page, end_page):\n",
    "  pdf_path = \"Yoga Education for Children Vol 1.pdf\"\n",
    "  \n",
    "  with open(pdf_path, 'rb') as file:\n",
    "    pdf_reader = PyPDF2.PdfReader(file)\n",
    "    text = ''\n",
    "    for page_num in range(start_page, end_page):\n",
    "      page = pdf_reader.pages[page_num]\n",
    "      text += page.extract_text()\n",
    "  return text"
   ]
  },
  {
   "cell_type": "code",
   "execution_count": null,
   "metadata": {},
   "outputs": [],
   "source": [
    "import uuid\n",
    "\n",
    "collection = chroma_client.get_collection(name=\"test_collection\", embedding_function=huggingface_ef)\n",
    "\n",
    "for i in range(len(topics_page) - 1):\n",
    "    topic, start_page = topics_page[i]\n",
    "    if i+1 < len(topics_page):\n",
    "        _, end_page = topics_page[i + 1]\n",
    "        text = extract_text_by_topic(topic, int(start_page)+8, int(end_page)+8)\n",
    "        id = uuid.uuid1()\n",
    "        metadata = {'topic': topic}\n",
    "        collection.add(ids=[str(id)], documents=[text], metadatas=[metadata])"
   ]
  },
  {
   "cell_type": "code",
   "execution_count": null,
   "metadata": {},
   "outputs": [],
   "source": [
    "collection.peek(limit=1)"
   ]
  },
  {
   "cell_type": "markdown",
   "metadata": {},
   "source": [
    "## Querying Database"
   ]
  },
  {
   "cell_type": "code",
   "execution_count": null,
   "metadata": {},
   "outputs": [],
   "source": [
    "query = \"Yoga Techniques for Classroom\"\n",
    "result = collection.query(query_texts=[query], n_results=3, include=[\"documents\", \"metadatas\", \"distances\"])\n",
    "result "
   ]
  },
  {
   "cell_type": "code",
   "execution_count": null,
   "metadata": {},
   "outputs": [],
   "source": [
    "for ids, docs, dists in zip(result['ids'], result['documents'], result['distances']):\n",
    "    for id, doc, dist in zip(ids, docs, dists):\n",
    "        print(f\"ID: {id}, Doc: {doc}, Similarity: {1-dist}\")\n",
    "        print(f\"\\n\")"
   ]
  },
  {
   "cell_type": "markdown",
   "metadata": {},
   "source": [
    "## Testing RAG"
   ]
  },
  {
   "cell_type": "code",
   "execution_count": 103,
   "metadata": {},
   "outputs": [],
   "source": [
    "from langchain.llms import TextGen\n",
    "from langchain.chains import LLMChain\n",
    "from langchain.prompts import PromptTemplate\n",
    "from langchain_chroma import Chroma\n",
    "from sentence_transformers import SentenceTransformer"
   ]
  },
  {
   "cell_type": "code",
   "execution_count": 138,
   "metadata": {},
   "outputs": [
    {
     "name": "stdout",
     "output_type": "stream",
     "text": [
      "page_content='17620\\nSurya Namaskara\\n SALUTATIONS TO THE SUN\\nPosition 1: Pranamasana (prayer pose)\\nFace the sun if possible.\\nStand erect with feet together, palms together resting on the centre of the chest, arms relaxed against the body.Breathe in and out with awareness until the breath is normal.The whole body should be completely relaxed, spinal column straight but not rigid.\\nBenefits: This asana establishes a state of concentration, \\ncalmness and awareness of the practice being performed.BSY ©\\n177\\nBSY © BSY ©\\nPosition 2 Position 3\\nPosition 2: Hasta Utthanasana (raised arms pose)\\nInhale deeply while slowly raising the arms above the \\nhead. Keep the arms separated, shoulder width apart.Tilt the pelvis while arching the back and bending the head back as far as is comfortable. The spinal column is arched slightly in the beginning. The amount of the arch can increase with practice.\\nBenefits : This asana stretches all the abdominal organs fully, \\nexercises the arms and shoulders, tones the spinal cord and opens up the lungs .\\nPosition 3: Padahastasana (hand to foot pose)\\nExhale deeply while slowly bending forward, keeping the knees straight. Place the fingers or palms of the hands beside the toes on the floor. Try to touch the knees with the forehead. The spinal column is bent forward at the hip joints. Initially bend forward only as far as is comfortable. With practice it will come easily.178Benefits : This asana aids in preventing, relieving and \\neliminating stomach ailments. It reduces surplus ab -\\ndominal fat, improves digestion, eliminates constipation, \\nimproves circulation and keeps the spine supple.\\nPosition 4: Ashwa Sanchalanasana (equestrian pose)\\nKeep the palms of the hands or the fingertips on the floor beside the feet.Inhale deeply while slowly stretching the right leg back as far as is possible, and bending the left knee.The right toe and knee touch the floor. Arch the back and look up.The spinal column is once again arched and the chin should be raised as high as is possible. After some practice the spinal arch will become very pronounced.\\nBenefits\\n: This asana tones the abdominal muscles, streng -\\nthens the muscles of the thighs and legs and induces balance in the nervous system. \\nPosition 5: Parvatasana (mountain pose)\\nExhale deeply while slowly stretching the right leg back and placing it beside the left leg.At the same time raise the buttocks and lower the head between the arms, so that the back and legs form two sides of a triangle.The legs and arms should be straight in the final position.\\nBSY ©179BSY ©\\nBSY ©Try to keep the heels on the ground and bring the head \\ntowards the knees. This is often called the dog pose.\\nBenefits : This asana strengthens the nerves and muscles of \\nthe arms and legs, exercises the spine and stimulates circulation especially in the upper spine. It is an inverted posture which can be practised by those who are unable to do sirshasana, the headstand pose, due to myopia.\\nPosition 6: Ashtanga Namaskara (salute with 8 limbs)\\nSlowly lower the knees to the floor, then the chest and finally the chin.In the final position only the toes, knees, chest, hands and chin touch the floor.The spinal column is arched slightly in this balancing pose.With practise, it should be possible to touch the knees, chest and chin to the floor at the same time.Exhale and inhale as much as is necessary in this position, or retain the breath outside. \\nBenefits : This asana tones the shoulders and neck muscles, \\nstrengthens leg and arm muscles and develops the chest.180Position 7: Bhujangasana (cobra pose)\\nWhile inhaling deeply slowly lower the buttocks and hips \\nto the floor. Straighten the elbows, arch the back and push the chest forward into the cobra pose.Bend the head back.\\nBenefits : As given for ashtanga namaskara. Also, in this \\nasana the abdominal stretch helps to squeeze stagnant blood from the abdominal organs and encourage a flow of fresh blood. This pose is useful for all stomach ailments, including indigestion and constipation. The arching of the back keeps the spine supple, improves circulation and revitalizes most important spinal nerves. It also has a balancing effect on many hormones.\\nPosition 8: Parvatasana (mountain pose)\\nRelax the arch and exhale deeply, while slowly raising the buttocks and lowering the heels to the floor.The hands and feet do not move from position 7.The body should look like a triangle as in position 5 with the chin tucked in close to the chest.\\nPosition 9: Ashwa Sanchalanasana (equestrian pose)\\nWhile inhaling deeply slowly bring the left foot forward between the two hands.At the same time, lower the right knee down to the floor and push the pelvis forward.\\nArch the back and look up, with the chin as high as pos  -\\nsible. This is the same as position 4.\\nBSY ©181Position 10: Padahastasana (hand to foot pose)\\nWhile exhaling slowly bring the left foot forward next to \\nthe right foot.Straighten the knees and bring the forehead as close as possible to the knees without straining, as in position 3.\\nPosition 11: Hasta Utthanasana (raised arms pose)\\nInhale deeply while slowly raising the body from the hip and stretching the arms overhead, shoulder width apart.Tilt the pelvis then arch the back, and raise the chin as high as possible, as in position 2.\\nPosition 12: Pranamasana (prayer pose)\\nExhale while bringing the palms together in front of the chest, standing erect as in position 1.Relax the body and watch the breath return to normal.\\nPositions 13–24 : Positions 1–12 constitute half a round. The \\nsecond half round consists of the same twelve positions. The only difference is in position 16 where the left leg is taken back, and in position 21 where the right foot is brought forward between the hands. Start the second half round when the heartbeat and breath have returned to normal. When a number of full rounds have been completed, lie in shavasana to rest and relax the body and breath.\\nBenefits : \\nWhen one performs surya namaskara synchro -\\nnizing the physical movements with the breath, all the muscles, joints and major internal organs are stimulated and balanced. It is for this reason that surya namaskara is an ideal practice for people with only a limited amount of time to devote to the practice of asana and pranayama. Surya namaskara also influences the pineal gland and the hypothalamus, helping to prevent pineal degeneration and calcification. This balances the transition period between childhood and adolescence in growing children. ' metadata={'topic': '20. Surya Namaskara: Salutations to the Sun'}\n",
      "...................\n",
      "page_content='165Pawanmuktasana 3\\nENERGIZING ASANAS\\nThese asanas are also combined with breathing, synchroniza -\\ntion of movements and breath. They are called shakti \\nbandha, or energy releasing asanas.\\nGayatmak Meru Vakrasana (dynamic spinal twist)\\nSit with both legs outstretched. \\nSeparate the legs as wide apart as is comfortable. Raise the arms straight out to the sides, twist the upper body and reach for the left toes with the right hand.The left hand is stretched out behind the back and the head is turned to look at the outstretched left hand.Close the eyes and feel the body. Open the eyes and slowly twist the upper body back to the front and then to the other side.\\nBSY ©166Touch the right toes with the left hand and stretch the \\nright hand behind the back. The head is turned to look at the outstretched right hand.Again close the eyes and feel the whole body. This is one round. At the beginning, the exercise is done slowly, then the speed is gradually increased.Do at least 10 rounds.Exhale as you twist; inhale as you return to the centre.\\nPrecautions : People suffering from high blood pressure or \\nslipped disc should not practise this asana.\\nBenefits : This asana is not only beneficial for reducing the \\nwaistline and keeping the lateral movements of the spinal cord supple, but when practised with a little speed it stimulates and massages the abdominal organs and helps remove sluggishness and constipation.\\nNamaskarasana (salutation pose)Stage 1 : Squat with feet flat on the floor and the knees wide \\napart. Place the hands together at the chest in a gesture of prayer. Press the elbows against the inner side of the knees. In this posture it is as if the elbows and knees are glued together. Where the knees go the elbows go, where the elbows go the knees go. There are 4 parts to this asana so altogether it takes concentration.\\nStage 2: Inhale and bend the head backwards, pushing the \\nknees as wide apart as possible.\\nStage 3: Exhale while lowering the chin to the chest, and \\nstraightening the arms directly in front of the body. At the same time push the upper arms in with the knees. \\nStage 4 : Inhale while raising the head and chin and pushing \\nthe knees wide apart with the elbows. Bring the hands to the chest, palms together in prayer position, as in stage one.\\nStage 5: Exhale and lower the head and chin back down to \\nthe chest.Practise 5 to 8 rounds.167\\nBSY ©\\nBSY ©\\nBenefits : This practice has a very powerful effect on the \\nnerves of the thighs, knees, shoulders, arms and neck. It \\nalso increases flexibility in the hips. When practised in 4 stages it helps to develop concentration and awareness of body and breath moving in harmony.\\nVayu Nishkasana (wind releasing pose)\\nSquat with both feet flat on the floor, 60 cm apart.If the heels will not touch the floor then place a blanket or pillow under them so that the whole foot is taking the body weight, not just the toes.Place the fingers under the feet from the inside so that the palms are under the arches, with the back of the hands resting on the floor. The elbows should press against the inner sides of the knees.Inhale and raise the head.Exhale, while straightening the legs, raising the buttocks, and bringing the head forward towards the knees.168Maintain the position for a few seconds.\\nInhale and return to the starting position.Practise up to 8 times slowly and with great control and awareness.\\nPrecautions : People with high blood pressure, sciatica or \\nslipped disc should not practise this asana.\\nBenefits : This asana is beneficial for the nerves and muscles \\nof the thighs, knees, shoulders, arms and neck. It stretches the hamstrings and promotes flexibility of the knee and hip joints. \\nUdarakarshanasana (abdominal stretch pose)\\nSquat with both feet flat on the floor and the hands on the knees.Bring the right knee to the ground near the left foot while turning the trunk as much as possible to the left.Look behind the body, and keep the hands on the knees.Return to the starting position.Repeat the same procedure twisting the body in the opposite direction. Twist the body up to 10 times each way. Inhale in the starting position, exhale turning to the side.\\nBSY ©\\nBSY ©169\\nBSY ©\\nBenefits : This is a very useful asana for abdominal ailments \\nbecause it alternately compresses and stretches the \\ndigestive organs and muscles. Constipation sufferers should practise it regularly.\\nPractice note : This is one of the asanas practised during \\nshankhaprakshalana for cleaning the intestines and stomach.\\nUtthanasana (squat and rise pose)\\nStand with the feet about 1 metre apart.Turn the toes out to the sides.Interlock the fingers in front of the abdomen and allow the arms to hang freely.\\nStage 1 : Slowly bend the knees and lower the buttocks about \\n20 cm.Straighten the knees and return to the upright position. \\nStage 2: Bend the knees and descend about half a metre.\\nAgain return to the upright position.\\nStage 3: Bend the knees and descend again until the hands \\nare about 30 cms from the floor. Make sure that the spinal column is kept straight and the buttocks tucked in. Return to the upright position.\\nStage 4: Finally, lower the buttocks until the hands rest on\\nor near the floor. Try not to bend forward.Return to the upright position.Repeat 5 to 10 times.170Breathing : Exhale while lowering, inhale while rising.\\nBenefits : This exercise strengthens the muscles of the middle \\nof the back, pelvis and uterus, and also the inner thighs, \\nknees and ankles. It helps encourage correct posture.\\nSaithalyasana (animal relaxation pose)\\nSit in the base position.Bend the right knee and place the sole of the foot against the inside left thigh.Bend the left knee and place the heel to the outside of the left buttock.Inhale and raise both hands slowly above the head.While exhaling slowly bend forward over the right knee, bringing the forehead to the floor. Retain the position for about 1 minute, breathing normally and rhythmically.Inhale while raising the arms and body, exhale and lower the hands to the right knee.Practise 5 times on the right side, then reverse the position of the legs and repeat 5 times on the left side.\\nBSY ©\\nBSY ©' metadata={'topic': 'Pawanmuktasana 3: Energizing Asanas'}\n",
      "...................\n",
      "page_content='156Pawanmuktasana 2\\nANTI-GASTRIC ASANAS\\nIn this group of exercises the children are asked to synchro -\\nnize the physical movements of the body with deep relaxed \\nbreathing. Breath and body movements should be of equal length. The student should be reminded to observe the breath and heartbeat before and between exercises. If either are fast, just wait until they are normal before starting the next posture. The most relaxing pose is shavasana, but it can be done while sitting or standing.\\nSpinal massage\\nStage 1: Lie flat on the back, legs folded up to the chest.\\nWrap the arms around the knees and pull them gently towards the chest as you exhale.While inhaling, relax the pull on the knees but do not place the feet back onto the floor. This results in a rocking movement.\\nBSY ©157Repeat at least 10 times and then stretch the legs out, \\nassuming shavasana.\\nStage 2 : Lie flat on the back as in the previous exercise with \\nthe legs folded up to the chest, holding the knees with the hands.Rotate the knees as if you are drawing circles with them, 10 times clockwise and 10 times anti-clockwise.Exhale as the knees are brought close to the body and inhale as they are moved away from the body.When completed, exhale while stretching the legs out and assuming shavasana.This exercise benefits the lumbar nerves and muscles.\\nJhulana Lurhakanasana (rocking and rolling)Stage 1: Lie on the back, the legs folded up to the chest.\\nInterlock the fingers and clasp the legs around the knees.Roll the body from side to side, touching the elbow and the side of the legs to the floor.Rolling to the right and then to the left is one round.Do 10 rounds, rolling very slowly and carefully with complete awareness placed on the entire spinal column.When completed, exhale while returning legs to the floor.\\nStage 2: Sit in the squatting position with the buttocks just \\nabove the floor.Interlock the fingers of both hands and wrap them around both knees. Rock the whole body forwards and backwards on the spine.\\nBSY ©158Try to come into a squatting pose on the feet when \\nrocking forward.Do 5 to 10 backward and forward movements.\\nPrecautions : Use a folded blanket so there is no possibility \\nof causing damage to the spine, and be careful not to hit the head on the ground while rocking back. The head should be held tilted towards the chest.Do not strain.\\nBenefits : This exercise massages the back, buttocks and \\nhips, and is most beneficial if practised first thing in the morning. It should not be performed by anyone with spinal problems.\\nSupta Pawanmuktasana 1 (simple leg lock pose)\\nLie in shavasana. Become aware of the whole body and make sure that it is relaxed and steady.Slowly bend the right knee and bring the thigh near the chest.Interlock the fingers and place them over the knee.Inhale and pull the knee as close to the chest as possible while retaining the breath inside.Slowly exhale, return the right leg to the floor and resume shavasana.Check the breath and heartbeat. If they are normal, repeat the same procedure with the left leg.\\nBSY ©159Then repeat with both legs together.\\nThe right leg, left leg and both legs together equals one round.Practise 5 to 10 rounds.\\nBenefits : As a general rule, the lungs are empty when one \\npractises bending forward or bringing the knees close to the chest, causing pressure on the lungs. However, in this exercise the lungs are filled. The extended diaphragm gently presses against the abdominal organs, bringing stimulation through activation of pressure receptors, and helping to remove constipation and flatulence.\\nSupta Pawanmuktasana 2 (leg lock pose)\\nLie in shavasana.Inhale slowly, bend the right knee and bring it close to the chest. Interlock the fingers and place them over the knee.While exhaling, raise the head and pull the knee close to the chest so that the forehead or nose touches the knee.Hold as long as is comfortable with the breath held out.Inhale and bring the head back to the floor.\\nBSY ©\\nBSY ©160Release the leg from the chest but keep it folded and \\nclasped with the hands. Make sure that the shoulders, head and neck are completely relaxed.Exhale while raising the head, pulling the knee close to the chest so that the forehead and knee touch again. Inhale while returning the head to the floor as before.Practise from 3 to 7 times.Then, while exhaling, return the right leg to the floor and resume shavasana.When the heartbeat and breath rate are normal, repeat the same procedure with the left leg, and then with both legs together.\\nBenefits : This exercise has a direct massaging influence on \\nthe abdomen and digestive organs and is, therefore, \\nhighly recommended for anyone suffering from flatu -\\nlence and constipation. It strengthens and relaxes the lower back muscles and loosens the spinal vertebrae.\\nChakra Padasana (leg rotation)\\nLie in shavasana. Become calm and steady.Raise the right leg 5 cm off the ground, keeping the knee straight. Rotate the right leg clockwise 10 times, making a large circle. The heel should not touch the floor during the rotation.\\nBSY ©161Breathe deeply.\\nReturn the leg to the floor.Rotate 10 times in the opposite direction.Repeat the same procedure with the left leg.Then rotate both legs clockwise and then anti-clockwise up to 5 times.Keep the rest of the body, including the head, flat on the floor. Always check the breath and heartbeat after completion of the 10 rounds and allow them to become normal before starting again. Remember that the pelvic joint is a ball and socket so try to get maximum movement during the exercise without any strain.\\nBenefits : Good for hip joints, obesity, toning of abdominal \\nand spinal muscles.\\nPada Sanchalanasana (cycling) \\nLying in shavasana, become calm and steady.Raise the right leg and make cycling movements as if cycling forward at least 10 times, then cycle backwards 10 times.Repeat the same with the left leg.Then cycle with both legs, alternating as if riding a bicycle.Breathe deeply. Keep the rest of the body, including the head, flat on the floor.\\nBSY ©162After completing each part of the exercise, rest in \\nshavasana until respiration returns to normal.Do not strain.\\nBenefits\\n: Good for hip and knee joints. Strengthens abdomi -\\nnal and lower back muscles.\\nShashankasana (pose of the moon or hare pose)\\nSit in vajrasana and place the hands on the knees.Keep the spine and head straight.Bring the awareness to the whole body and become steady and relaxed. While slowly inhaling, raise the arms above the head, synchronizing the movement of arms and breath. Keep the arms shoulder-width apart. Exhale slowly and bend the trunk forward bringing the chest to rest on the thighs and the forehead to the floor in front of the knees.The arms remain outstretched in front of the body and the palms and elbows are resting on the floor.Breathe normally, holding the posture for 10 seconds.Inhale while returning slowly back to the upright position with arms stretched over the head.Repeat up to 10 times.After inhaling and returning to the upright position, exhale and bring the hands back to rest on the knees.The breath should be slow and coordinated with the physical movements.Concentration may be focused on manipura chakra, the solar plexus, or the natural breath.\\nBSY ©163BSY ©Benefits : This asana (and variation 1) is very effective for \\ntoning the pelvic muscles, relaxing the sciatic nerves \\nand regulating the functioning of the adrenal glands. \\nShashank  asana helps relieve constipation, sciatica and \\nanger. It is also a very effective asana for preventing an underdeveloped pelvis, and is beneficial for removing sexual disorders in general.\\nVariation 1 : Sit in vajrasana and hold the right wrist with the \\nleft hand behind the back.Become aware of the whole body and become relaxed and steady. Inhale slowly and deeply.While exhaling slowly bend the body forward, bringing the chest to rest on the thighs and the forehead to the floor in front of the knees.Breathe normally while maintaining the position for about 10 seconds. Inhale deeply and slowly raise the body to the upright position. Repeat up to 10 times.\\nVariation 2 : Sit in vajrasana and place the fists in front of the \\nlower abdomen. Let the little fingers of the fists rest on the lap.Inhale deeply. While exhaling slowly bend the body forward to rest the chest on the thighs and the forehead to the floor in front of the knees. Breathe normally while holding the posture for about 10 seconds.\\n164Inhale while returning to the upright position.\\nRepeat up to 10 times.For greater comfort and easier execution, overweight people can place the hands flat on the abdomen.\\nBenefits : This variation massages and improves the \\nefficiency of the intestines and digestive organs and is especially recommended for anyone suffering from constipation and excessive wind.\\nBSY ©' metadata={'topic': 'Pawanmuktasana 2: Anti-Gastric Asanas'}\n",
      "...................\n",
      "page_content='141Pawanmuktasana 1\\nANTI-RHEUMATIC ASANAS\\nThese exercises will beneficially influence the different joints \\nand organs of the body. Though they seem simple, they have subtle effects on the practitioner. This group of exercises is also known as sukshma vyayam in Sanskrit, meaning ‘subtle \\nexercises’. This series of exercises should be performed at the beginning of the daily asana session to loosen the joints and make the muscles supple.\\n Pawanmuktasana, like any other yoga asana, should be \\nadapted to the age of the children. They may also be applied in a classroom situation in many ways. Good examples proposed by RYE to balance the physical development of children can be found in chapter 15. In a playgroup environment or with pre-school children it is fun to play with finger paints or with two brushes while rotating wrists or using individual fingers for painting. There are many songs and games used in playgroups that are ideal ways of developing awareness of the different body parts.\\n Our first set of pawanmuktasan a exercises, the anti-\\nrheumatic, is a systematic movement of all the joints in the body. The child is asked to think and feel more in terms of the bony structure than the muscular structure. With small children, let them look at pictures of a skeleton, pointing out the different joints.142Parambhik Sthiti (base position)\\nSit with the legs stretched in front of the body.\\nPlace the hands on the floor slightly behind the trunk. There is a slight backward inclination of the body.The legs are slightly apart.\\nPractice 1: Padanguli Naman (toe bending) \\nSit in the base position.Become aware of the toes. Slowly bend the toes of both feet forward and backward without moving the ankles.Repeat 10 times slowly.\\nPractice 2: T oe spreading\\nSit in the base position.Bring the awareness to the toes – spread them as far apart as possible. Relax, allow the toes to come together again.Repeat slowly and smoothly 10 times.\\nPractice note : Avoid causing cramp by tensing too strongly. \\nIf the child is unable to spread the toes, the hands can be used to spread the toes, one foot at a time. \\nBSY ©\\nBSY ©143Practice 3: Goolf Naman (ankle bending) \\nSit in the base position.\\nBring the awareness to the ankles. Slowly bend the feet as far forward as possible.Then slowly bend them as far back as possible.Repeat 10 times with awareness, at a slow, even rhythm.\\nPractice 4: Goolf Chakra (ankle rotation)\\nSit in the base position with the feet slightly separated.Become aware of the ankles. Slowly rotate the right foot 10 times in a clockwise direction. Try to make the movement as wide as possible. Imagine that you have a piece of chalk on the end of the big toe and you are drawing a large circle with the chalk.Now rotate the right foot 10 times anti-clockwise.Repeat the practice with the left foot.Now repeat with both feet, moving them together in the same direction.The legs and body should remain relaxed, with the only movement being in the ankles.\\nPractice 5: Goolf Ghoornan (ankle crank)\\nSit in the base position.Bend the right knee and place the right ankle on the left thigh. The right hand rests on the right knee or ankle, the left hand holds the toes of the right foot.Bring the awareness to the right ankle. Rotate the right foot with the left hand 10 times clockwise and then 10 times anti-clockwise.Return to the base position. Repeat with the left foot.\\nPractice 3 Practice 4BSY © BSY ©144Practice 6: Janu Naman (knee bending)\\nSit in the base position.\\nBring the awareness to the hip and the knee. Bend the right knee and hold the back of the thigh with clasped hands. Bend the right leg at the knee so that the thigh is close to the chest and the right heel close to the buttocks.Straighten the arms and leg but do not allow the leg or foot to touch the ground.Repeat 10 times, then return to the base position.Repeat with the left leg.\\nPractice 5BSY ©\\nBSY ©145Practice 7: Janu Chakra (knee crank)\\nSit in the base position.\\nBend the right leg at the knee. Clasp the hands around the back of the thigh, bringing the thigh close to the trunk.Become aware of the knee. Rotate the lower leg in a circular motion around the knee 10 times clockwise and 10 times anti-clockwise.Return to the base position and repeat with the left leg.\\nPractice 8: Ardha Titali Asana (half butterfly)\\nThis asana has six variations. Practise one after the other with the right leg. Then repeat the sequence with the left leg.\\nVariation 1: Sit in the base position, with the legs outstretched \\nin front of the body.Fold the right leg and place the right sole against the inside of the left thigh.Hold the right foot with the left hand and place the right hand on the top of the bent right knee.Gently move the bent leg up and down with the right hand, allowing the muscles of the leg to relax as much as possible.Continue this practice until after some weeks or months the right knee starts to touch, or nearly touch, the floor. \\nBSY ©146Variation 2 : Sitting in half butterfly, hold the right knee with \\nthe right hand and the right foot with the left hand.\\nPush gently with the left hand moving the knee to the right towards the side. Keep the foot and knee as close to the floor as possible.Then relax and let the right foot come back to rest on the left thigh.Repeat about 10 times. \\nBSY ©\\nVariation 1\\nVariation 2BSY ©\\nVariation 3BSY ©147Variation 3 : Sitting in half butterfly, hold the toes of the right \\nfoot with the right hand and the heel with the left hand.\\nRaise the foot up to about face level. Do not straighten the knee or ankle but keep them slightly bent.Gently lower the foot back to rest on the left thigh.Repeat about 10 times. \\nVariation 4: Sitting in half butterfly, hold the right foot as \\nbefore. Raise the foot up to eye level.Bend the elbows and pull the foot gently towards the face so the toes come to touch the eyebrow centre. The foot is brought to the head, not the head down to the foot.Straighten the arms and repeat 10 times. \\nVariation 4\\nVariation 5BSY ©\\nBSY ©148Variation 5 : Sit in half butterfly, with the right foot resting in \\nthe hands, the right knee pointing towards the ceiling.\\nMake sure that the right arm is inside the right leg. Push the foot up, so the the right knee moves past the shoulder and to the back.Relax and let the foot rest in the hands on the floor.Repeat about 10 times. \\nVariation 6 : Sitting in half butterfly, hold the lower right leg \\nat the calf with both hands, making sure that the right arm is under the right leg.Slide the right arm further and further under the right lower leg, pushing the leg up and back.Straighten the back so that the inside thigh is resting against the back and the lower right leg is sticking over the shoulder. Let the leg rest on the shoulder for a few seconds.Lower the leg slowly back to the floor into the half butterfly. Now repeat the six variations with the left leg.\\nBenefits : This series of movements is very important for \\nmaintaining suppleness in the joints of the legs and thighs. When stiffness has already occurred, this series is most beneficial in making all the joints flexible. After some days or weeks of practice, the knees should rest comfortably on the floor without effort.\\nBSY ©Variation 6149Mushtika Bandhana (hand clenching)\\nSit in the base position, or in sukhasana.\\nRaise the arms and stretch them in front of the body at shoulder level. The awareness is in the hands and fingers.Open the hands and spread the fingers as wide as possible, creating as much tension as is comfortable, then relax the hands.Now, folding the thumbs inside, clench the fists as tightly as is comfortable, then relax. It is important that the thumbs are placed inside the fists in order to achieve maximum movement in the thumb joints.This is one round.Practise flowing from tension to relaxation to tension etc.After 10 rounds, relax the arms and bring the hands to the knees.\\nManibandha Naman (wrist bending)\\nSit in the base position, or adopt sukhasana.Stretch the arms in front of the body at shoulder level, with palms facing away from the body and fingertips pointing towards the ceiling. Bring the awareness to the wrists.Bend the hands forward from the wrists so that the fingers point to the floor.\\nBSY ©\\nBSY ©150Slowly return them to point towards the ceiling. This is \\none round.Repeat 10 times, slowly and with complete awareness of the wrists.Make sure that there is no tension generated in the arms or hands.\\nManibandha Chakra (wrist joint rotation)\\nSit in the base position or sukhasana.Extend the right arm in front of the body at shoulder level.The left hand may be used to support the right arm at the elbow. Bring the awareness to the wrist and hand. Make a fist with the right hand. Move the fist in a complete circle, slowly rotating 10 times clockwise and then 10 times anti-clockwise.Relax the arm. Repeat with the left hand.Practise with both hands together, moving them in the same direction.Make sure that only the wrist is moving and not the arm. Notice the difference between the two hands.\\nBSY ©151Kehuni Naman (elbow bending)\\nSit in the base position or sukhasana.\\nRaise the arms and stretch them out in front with the palms upward.The awareness should be at the elbows with no tension in the arms or hands.Slowly bend the elbows and bring the tips of the fingers to touch the shoulders, keeping the elbows at chest level.Then slowly straighten the arms again.Repeat 10 times, then rest the hands on the knees.Raise both arms again, this time to the sides, palms upward.Retaining the awareness at the elbows, slowly bend the elbows and touch the shoulders with the fingertips.Slowly straighten the arms to the sides.Repeat 10 times.Keep the back, neck and shoulders relaxed throughout this practice.\\nSkandha Chakra (shoulder socket rotation)\\nSit in the base position or sukhasana.Place the fingertips of the right hand on the right shoulder and slowly draw a large circle with the right elbow.Practise slowly 10 times clockwise and 10 times anti-clockwise.Repeat on the left side.\\nBSY ©152Then rotate both elbows together in a large circle, trying \\nto touch the chest, ears and sides of the trunk. \\nBenefits : Remember this is a ball and socket joint so achieve \\nas much movement as is comfortable. Awareness is in the shoulder joints and the muscles of the back. This practice is especially good for children who have been sitting, writing or drawing for some hours each day.\\nGreeva Sanchalana (neck movements)Stage 1: Forward and back\\nSit in the base position or sukhasana.Bring the awareness to the neck.Slowly exhale and tilt the head forward, bringing the chin close to the chest.Inhale and slowly move the head back as far as is comfortable. Do not strain.Repeat slowly 10 times with the eyes closed.\\nStage 2: Side to side\\nSit in the base position, with the eyes closed.Turn the head to face the right so that the chin is in line with the shoulder.Slowly turn the head back to the centre and around to the left so that the chin is in line with the left shoulder.Inhale while turning to the front.Exhale while turning to the side.This is one round. Practise 10 rounds.\\nBSY ©153Stage 3: Right to left\\nFacing forward, place the palms on the knees and \\nstraighten the elbows. This will cause the shoulders to be slightly raised.Close the eyes. Slowly tilt the head to the right and try to touch the right ear to the right shoulder.Then move the head to the left and try to touch the left ear to the left shoulder.Inhale as the head moves up.Exhale as the head moves to the side.Practise 10 times to each side.Do not force the ear to touch the shoulder; it is the movement of the neck which is important.\\nStage 1 Stage 2\\nStage 3 Stage 4BSY ©154Stage 4: Neck rotation\\nSit in the base position, or sukhasana.\\nClose the eyes. Slowly rotate the head downward, to the right, back, and then to the left side in a relaxed, smooth, rhythmic, circular movement. This is one complete rotation of the head. The ear drums are affected by this exercise so it is important to be as relaxed as possible.Repeat 5 rotations clockwise then 5 rotations in an anti-clockwise direction.\\nPrecautions : This exercise should not be practised by \\nanyone suffering from low or very high blood pressure, cervical spondylosis, or vertigo.\\nBenefits : All the nerves connecting the different organs and \\nlimbs of the body pass through the neck. Therefore, the muscles of the neck and head accumulate tension, especially after prolonged work at a desk. These exercises release tension, heaviness and stiffness in the head, neck and shoulder region. Blood circulation to the head is also stimulated so there is more fresh blood supplied to the eyes and brain, which is particularly important for students.\\nBalancing on the buttocks\\nSit in the base position.Bend the knees, bringing the thighs close to the trunk, and clasp the hands under the thighs.Slowly raise the feet from the floor, easing back onto the buttocks to balance. Keep the eyes open and stare at a fixed point in front to maintain balance.After practising for a while, close the eyes and relax the body as much as possible, still maintaining the posture.Begin practising for 1 minute, then gradually increase to 3 to 5 minutes.With eyes open, maintaining the balance, rotate the lower legs slowly 10 times clockwise then 10 times anti-clockwise.Return to the base position.155Sukhasana (easy pose)\\nSit with the legs stretched in front of the body.\\nBend the right leg and place the foot under the left thigh. Bend the left leg and place the foot under the right thigh.Place the hands on the knees, and keep the spine, neck and head in a straight line.If this posture is difficult at first, a cloth or belt may be tied around the knees and lower back for support.\\nBSY ©\\nBSY ©\\n' metadata={'topic': 'Pawanmuktasana 1: Anti-Rheumatic Asanas'}\n",
      "...................\n"
     ]
    }
   ],
   "source": [
    "from langchain.embeddings.sentence_transformer import SentenceTransformerEmbeddings\n",
    "\n",
    "def query_based_docs_extraction(query):\n",
    "    embedding_func = SentenceTransformerEmbeddings(model_name='all-MiniLM-L6-v2')\n",
    "    db = Chroma(\n",
    "        collection_name=\"test_collection\",\n",
    "        embedding_function=embedding_func,\n",
    "        client=chroma_client\n",
    "    )\n",
    "    \n",
    "    docs = db.similarity_search(query)\n",
    "    for doc in docs:\n",
    "        print(doc)\n",
    "        print(\"...................\")\n",
    "\n",
    "query = \"Provide steps for Surya Namaskar.\"\n",
    "query_based_docs_extraction(query)"
   ]
  },
  {
   "cell_type": "code",
   "execution_count": 132,
   "metadata": {},
   "outputs": [],
   "source": [
    "from langchain.chains import RetrievalQA\n",
    "from langchain.llms import HuggingFaceEndpoint"
   ]
  },
  {
   "cell_type": "code",
   "execution_count": null,
   "metadata": {},
   "outputs": [],
   "source": [
    "embedding_func = SentenceTransformerEmbeddings(model_name='all-MiniLM-L6-v2')\n",
    "db = Chroma(\n",
    "        collection_name=\"test_collection\",\n",
    "        embedding_function=embedding_func,\n",
    "        client=chroma_client\n",
    ")\n",
    "\n",
    "llm = HuggingFaceEndpoint(\n",
    "    repo_id = \"mistralai/Mixtral-8x7B-Instruct-v0.1\",\n",
    "    huggingfacehub_api_token = HF_KEY)\n",
    "\n",
    "qa = RetrievalQA.from_chain_type(\n",
    "    llm,\n",
    "    retriever = db.as_retriever()\n",
    ")"
   ]
  },
  {
   "cell_type": "code",
   "execution_count": 136,
   "metadata": {},
   "outputs": [
    {
     "data": {
      "text/plain": [
       "{'query': 'Provide steps for Surya Namaskar.',\n",
       " 'result': ' Sure, here are the steps for Surya Namaskar:\\n1. Pranamasana (prayer pose)\\n2. Hasta Utthanasana (raised arms pose)\\n3. Padahastasana (hand to foot pose)\\n4. Ashwa Sanchalanasana (equestrian pose)\\n5. Parvatasana (mountain pose)\\n6. Ashtanga Namaskara (salute with 8 limbs)\\n7. Bhujangasana (cobra pose)\\n8. Parvatasana (mountain pose)\\n9. Ashwa Sanchalanasana (equestrian pose)\\n10. Padahastasana (hand to foot pose)\\n11. Hasta Utthanasana (raised arms pose)\\n12. Pranamasana (prayer pose)\\nPositions 13–24 : Positions 1–12 constitute half a round. The second half round consists of the same twelve positions. The only difference is in position 16 where the left leg is taken back, and in position 21 where the right foot is brought forward between the hands. Start the second half round when the heartbeat and breath have returned to normal. When a number of full rounds have been completed, lie in shavasana to rest and relax the body and breath.\\nBenefits : When one performs surya namaskara synchronizing the physical movements with the breath, all the muscles, joints and major internal organs are stimulated and balanced. It is for this reason that surya namaskara is an ideal practice for people with only a limited amount of time to devote to the practice of asana and pranayama. Surya namaskara also influences the pineal gland and the hypothalamus, helping to prevent pineal degeneration and calcification. This balances the transition period between childhood and adolescence in growing children.'}"
      ]
     },
     "execution_count": 136,
     "metadata": {},
     "output_type": "execute_result"
    }
   ],
   "source": [
    "query = \"Provide steps for Surya Namaskar.\"\n",
    "result = qa.invoke({\"query\": query})\n",
    "result"
   ]
  },
  {
   "cell_type": "markdown",
   "metadata": {},
   "source": [
    "## Deleting in Chroma DB"
   ]
  },
  {
   "cell_type": "code",
   "execution_count": null,
   "metadata": {},
   "outputs": [],
   "source": [
    "# Deleting items in collection\n",
    "collection.delete()"
   ]
  },
  {
   "cell_type": "code",
   "execution_count": null,
   "metadata": {},
   "outputs": [],
   "source": [
    "# Deleting collection\n",
    "chroma_client.delete_collection(name='test_collection')"
   ]
  }
 ],
 "metadata": {
  "kernelspec": {
   "display_name": "venv",
   "language": "python",
   "name": "python3"
  },
  "language_info": {
   "codemirror_mode": {
    "name": "ipython",
    "version": 3
   },
   "file_extension": ".py",
   "mimetype": "text/x-python",
   "name": "python",
   "nbconvert_exporter": "python",
   "pygments_lexer": "ipython3",
   "version": "3.10.12"
  }
 },
 "nbformat": 4,
 "nbformat_minor": 2
}
