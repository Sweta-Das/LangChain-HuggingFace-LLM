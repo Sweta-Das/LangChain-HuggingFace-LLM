{
 "cells": [
  {
   "cell_type": "code",
   "execution_count": null,
   "metadata": {},
   "outputs": [],
   "source": [
    "%pip install -q einops\n",
    "%pip install -q chromadb\n",
    "%pip install -q langchain\n",
    "%pip install -q accelerate\n",
    "# %pip install -q bitsandbytes\n",
    "%pip install -q transformers"
   ]
  },
  {
   "cell_type": "code",
   "execution_count": 1,
   "metadata": {},
   "outputs": [
    {
     "name": "stderr",
     "output_type": "stream",
     "text": [
      "d:\\SD\\GenAI\\RAG_LangChain_ChromaDB\\.venv\\Lib\\site-packages\\tqdm\\auto.py:21: TqdmWarning: IProgress not found. Please update jupyter and ipywidgets. See https://ipywidgets.readthedocs.io/en/stable/user_install.html\n",
      "  from .autonotebook import tqdm as notebook_tqdm\n"
     ]
    }
   ],
   "source": [
    "import os\n",
    "import torch\n",
    "import accelerate\n",
    "import transformers\n",
    "from time import time\n",
    "from torch import cuda, bfloat16\n",
    "from dotenv import load_dotenv, find_dotenv\n",
    "from langchain.chains import RetrievalQA\n",
    "from langchain.vectorstores import Chroma\n",
    "from langchain.llms import HuggingFacePipeline\n",
    "from langchain.llms import LlamaCpp\n",
    "from langchain.embeddings import HuggingFaceEmbeddings\n",
    "from langchain.text_splitter import RecursiveCharacterTextSplitter\n",
    "from transformers import AutoModelForCausalLM, AutoTokenizer"
   ]
  },
  {
   "cell_type": "code",
   "execution_count": 2,
   "metadata": {},
   "outputs": [],
   "source": [
    "# Setting up environment variables\n",
    "\n",
    "load_dotenv(find_dotenv())\n",
    "HF_KEY = os.environ['HUGGINGFACE_API_KEY']"
   ]
  },
  {
   "cell_type": "code",
   "execution_count": 3,
   "metadata": {},
   "outputs": [
    {
     "data": {
      "text/plain": [
       "'cpu'"
      ]
     },
     "execution_count": 3,
     "metadata": {},
     "output_type": "execute_result"
    }
   ],
   "source": [
    "device = f'cuda: {cuda.current_device()}' if cuda.is_available() else 'cpu'\n",
    "device"
   ]
  },
  {
   "cell_type": "markdown",
   "metadata": {},
   "source": [
    "## 1. Using LlamaCpp Approach"
   ]
  },
  {
   "cell_type": "code",
   "execution_count": null,
   "metadata": {},
   "outputs": [],
   "source": [
    "# Loading model\n",
    "\n",
    "from langchain.llms import LlamaCpp\n",
    "\n",
    "model = LlamaCpp(\n",
    "    streaming=True,\n",
    "    model_path = 'mistral-7b-instruct-v0.1.Q3_K_S.gguf',\n",
    "    temperature = 0.75,\n",
    "    top_p = 1, \n",
    "    n_ctx = 4096\n",
    ")\n",
    "model"
   ]
  },
  {
   "cell_type": "markdown",
   "metadata": {},
   "source": [
    "### Querying Model directly"
   ]
  },
  {
   "cell_type": "code",
   "execution_count": 13,
   "metadata": {},
   "outputs": [
    {
     "name": "stderr",
     "output_type": "stream",
     "text": [
      "Llama.generate: prefix-match hit\n",
      "\n",
      "llama_print_timings:        load time =    5117.94 ms\n",
      "llama_print_timings:      sample time =      53.47 ms /   256 runs   (    0.21 ms per token,  4788.09 tokens per second)\n",
      "llama_print_timings: prompt eval time =  136417.56 ms /     2 tokens (68208.78 ms per token,     0.01 tokens per second)\n",
      "llama_print_timings:        eval time =   62558.84 ms /   255 runs   (  245.33 ms per token,     4.08 tokens per second)\n",
      "llama_print_timings:       total time =   66900.32 ms /   257 tokens\n"
     ]
    },
    {
     "name": "stdout",
     "output_type": "stream",
     "text": [
      "AI: There are many popular yoga poses or \"asanas\" in Yoga practice, but here are some of the most commonly practiced and well-known ones:\n",
      "\n",
      "1. Downward Facing Dog (Adho Mukha Svanasana) - This is a great pose to start with, as it stretches your entire back, arms, and legs.\n",
      "2. Mountain Pose (Uttasana) - This pose strengthens the spine, calves, thighs, and ankles while also stretching the groins and chest.\n",
      "3. Warrior II (Virabhadrasana II) - This pose is great for building strength in your legs and core, as well as increasing balance and focus.\n",
      "4. Tree Pose (Vrksasana) - This challenging pose helps improve balance, stability, and strength in your legs.\n",
      "5. Child's Pose (Balasana) - This restorative pose is great for stretching the hips, thighs, and ankles while also providing a gentle spine stretch.\n",
      "6. Cobra Pose (Bakasana) - This pose helps to stretch the neck, chest, and abdomen while strengthening the /n Time taken: 66.95218062400818 sec\n"
     ]
    }
   ],
   "source": [
    "query = \"What are some of the most popular Yoga asanas?\"\n",
    "prompt = f\"\"\"\n",
    "<|system|>\n",
    "You are a Yoga GPT that gives advices and suggestions related to Yoga. Please give correct and detailed stepwise instructions.\n",
    "</s>\n",
    "<|user|>\n",
    "{query}\n",
    "</s>\n",
    "<|Yoga GPT|>\n",
    "\"\"\"\n",
    "\n",
    "t1 = time()\n",
    "response = model.invoke(prompt)\n",
    "t2 = time()\n",
    "print(f\"AI: {response} /n Time taken: {t2-t1} sec\")"
   ]
  },
  {
   "cell_type": "markdown",
   "metadata": {},
   "source": [
    "### RAG Implementation"
   ]
  },
  {
   "cell_type": "code",
   "execution_count": 14,
   "metadata": {},
   "outputs": [],
   "source": [
    "import PyPDF2"
   ]
  },
  {
   "cell_type": "code",
   "execution_count": 15,
   "metadata": {},
   "outputs": [
    {
     "data": {
      "text/plain": [
       "['Contents',\n",
       " 'Introduction  1',\n",
       " 'Yoga and Education  ',\n",
       " ' 1. The Need for a Y oga-Based Education System  13',\n",
       " ' 2. Yoga and Children’s Problems  22',\n",
       " ' 3. Yoga with Pre-School Children  25',\n",
       " ' 4. Yoga Lessons Begin at Age Eight  31',\n",
       " ' 5. Student Unr est and Its Remedy  34',\n",
       " ' 6. Yoga and the Youth Problem  39',\n",
       " ' 7. Better Ways of Educatio n 45',\n",
       " ' 8. Yoga at School  50',\n",
       " ' 9. Yoga and Education  57',\n",
       " '10. Questions and Answers  65',\n",
       " 'Yoga as Therapy  ',\n",
       " '11. Yoga for Emotional Disturbances  77',\n",
       " '12. Yoga for the Disabled  83',\n",
       " '13. Yoga Benefits Juvenile Diabetes  87',\n",
       " 'Practices  ',\n",
       " '14. Yoga Techniques for Pre-School Children  93',\n",
       " '15. Yoga Techniques for 7–14 Y ear-Olds  101',\n",
       " '16. Yoga Techniques for the Classroom  110',\n",
       " '17. Introduction to Asana  133',\n",
       " '18. Pawanmuktasana Series  139',\n",
       " 'Pawanmuktasana 1: Anti-Rheumatic Asanas  141',\n",
       " 'Pawanmuktasana 2: Anti-Gastric Asanas  156',\n",
       " 'Pawanmuktasana 3: Energizing Asanas  165',\n",
       " '19.  Eye Exercises  171',\n",
       " '20. Surya Namaskara: Salutations to the Sun  176',\n",
       " '21. Chandra Namaskara: Salutations to the Moon  182',\n",
       " '22. Warrior Sequence  188',\n",
       " '23. Relaxation Asanas  193',\n",
       " '24. Animal Asanas  196',\n",
       " '25. Object Asanas  222',\n",
       " '26. Characters and P ersons  249',\n",
       " '27. Alphabet Asanas  255',\n",
       " '28. Asanas Done in Pairs  259',\n",
       " '29. Pranayama  264',\n",
       " '30. Practical Teaching Syllabus  271',\n",
       " '31. Light of Existence Explained  285',\n",
       " 'Bibliography  290',\n",
       " 'Index of Practices  293',\n",
       " 'General Index  299']"
      ]
     },
     "execution_count": 15,
     "metadata": {},
     "output_type": "execute_result"
    }
   ],
   "source": [
    "# Reading PDF and extracting ToC\n",
    "def extract_ToC(pdf_path, start_page, end_page):\n",
    "\n",
    "  with open(pdf_path, 'rb') as file:\n",
    "    pdf_reader = PyPDF2.PdfReader(file)\n",
    "\n",
    "    toc_entries = []\n",
    "\n",
    "    for page in range(start_page, end_page+1):\n",
    "      page = pdf_reader.pages[page]\n",
    "      text = page.extract_text()\n",
    "      text = text.replace(\"vii\", \"\").replace(\"viii\", \"\").replace(\"i17\", \"17\")\n",
    "\n",
    "      toc_lines = text.splitlines()\n",
    "\n",
    "      for i in toc_lines:\n",
    "        toc_entries.append(i)\n",
    "    return toc_entries\n",
    "\n",
    "pdf_path = \"Yoga Education for Children Vol 1.pdf\"\n",
    "toc = extract_ToC(pdf_path, 7, 8)\n",
    "toc"
   ]
  },
  {
   "cell_type": "code",
   "execution_count": 16,
   "metadata": {},
   "outputs": [
    {
     "data": {
      "text/plain": [
       "['14. Yoga Techniques for Pre-School Children  93',\n",
       " '15. Yoga Techniques for 7–14 Y ear-Olds  101',\n",
       " '16. Yoga Techniques for the Classroom  110',\n",
       " '17. Introduction to Asana  133',\n",
       " '18. Pawanmuktasana Series  139',\n",
       " 'Pawanmuktasana 1: Anti-Rheumatic Asanas  141',\n",
       " 'Pawanmuktasana 2: Anti-Gastric Asanas  156',\n",
       " 'Pawanmuktasana 3: Energizing Asanas  165',\n",
       " '19.  Eye Exercises  171',\n",
       " '20. Surya Namaskara: Salutations to the Sun  176',\n",
       " '21. Chandra Namaskara: Salutations to the Moon  182']"
      ]
     },
     "execution_count": 16,
     "metadata": {},
     "output_type": "execute_result"
    }
   ],
   "source": [
    "# Topics to extract text from\n",
    "topics = []\n",
    "for topic in range(18, 29):\n",
    "  topics.append(toc[topic])\n",
    "topics"
   ]
  },
  {
   "cell_type": "code",
   "execution_count": 17,
   "metadata": {},
   "outputs": [
    {
     "data": {
      "text/plain": [
       "['14. Yoga Techniques for Pre-School Children  93',\n",
       " '15. Yoga Techniques for 7–14 Y ear-Olds  101',\n",
       " '16. Yoga Techniques for the Classroom  110',\n",
       " '17. Introduction to Asana  133',\n",
       " '18. Pawanmuktasana Series  139',\n",
       " 'Pawanmuktasana 1: Anti-Rheumatic Asanas  141',\n",
       " 'Pawanmuktasana 2: Anti-Gastric Asanas  156',\n",
       " 'Pawanmuktasana 3: Energizing Asanas  165',\n",
       " '19.  Eye Exercises  171',\n",
       " '20. Surya Namaskara: Salutations to the Sun  176',\n",
       " '21. Chandra Namaskara: Salutations to the Moon  182']"
      ]
     },
     "execution_count": 17,
     "metadata": {},
     "output_type": "execute_result"
    }
   ],
   "source": [
    "# Separating topics and their pages\n",
    "topics_page = []\n",
    "for i in topics:\n",
    "  # Splitting string into words\n",
    "  parts = i.split()\n",
    "  topic = ' '.join(parts[:-1])\n",
    "  page_num = parts[-1]\n",
    "  topics_page.append((topic, page_num))\n",
    "topics"
   ]
  },
  {
   "cell_type": "code",
   "execution_count": 18,
   "metadata": {},
   "outputs": [],
   "source": [
    "# Function to extract text from specified topics\n",
    "def extract_text_by_topic(topic, start_page, end_page):\n",
    "  with open(pdf_path, 'rb') as file:\n",
    "    pdf_reader = PyPDF2.PdfReader(file)\n",
    "    text = ''\n",
    "    for page_num in range(start_page, end_page):\n",
    "      page = pdf_reader.pages[page_num]\n",
    "      text += page.extract_text()\n",
    "  return text"
   ]
  },
  {
   "cell_type": "code",
   "execution_count": 28,
   "metadata": {},
   "outputs": [],
   "source": [
    "all_splits = []\n",
    "documents = {}\n",
    "for i in range(len(topics_page)-1):\n",
    "  topic, start_page = topics_page[i]\n",
    "  if i+1 < len(topics_page):\n",
    "    _, end_page = topics_page[i + 1]\n",
    "    text = extract_text_by_topic(topic, int(start_page) + 8, int(end_page) + 8)\n",
    "    documents['metadata'] = topic\n",
    "    documents['page_content'] = text\n",
    "    all_splits.extend(documents)"
   ]
  },
  {
   "cell_type": "code",
   "execution_count": 31,
   "metadata": {},
   "outputs": [
    {
     "data": {
      "text/plain": [
       "['9314\\nYoga Techniques \\nfor Pre-School Children\\nRishi Arundhati\\nThe setting and the sessions are two important aspects to  \\nconsider when presenting yoga, especially if it is being \\nincorporated into regular playgroup activities. Let us first \\nconsider the setting for these activities.\\n Place of practice : A space that is free from furniture or \\nobjects with sharp edges is necessary. It should be carpeted if possible but this is not absolutely necessary; small carpet pieces or a small towel, large enough for the child to sit on, will be enough.\\n Time of practice : The practice should not immediately \\nfollow a meal. Usually two hours are allowed between eating and starting yoga activities. \\n Length of practice : Children at this pre-school age \\nnor mally have a fairly short concentration span; ther efore, \\nwe need to time the exercises according to the children involved, always watching their involvement. The constant \\nmove  ment of arms and legs and not being able to sit still for \\nany length of time – sudden spurts of ‘mad’ activity, rushing about aimlessly and useless repetitive movement patterns – all result from development taking place within the nervous system of the child and are major differences between the behaviour of adults and children. Usually, yoga sessions with children are about one hour in length. This does not mean that one is doing one activity for the whole hour. If the teacher is able to create an interesting atmosphere and keeps 94each posture within a reasonable time span, the posture \\nsession alone can take 30 to 40 minutes with the children enjoying every minute.\\nTeaching aids\\n• Pictures : When lessons are presented and accompanied \\nby visual aids, the learning process is enhanced and \\nthis is also true when learning through play. Not only are pictures a good source for labelling and classifying words, but they can lead to what one psychologist calls ‘representation competence’ the ability to recognize three-dimensional objects presented in flat two-dimensional form, which is an important skill for schoolwork. Since many asanas, or physical postures, done with children of this age have animal names, it is good to have pictures of these animals for them to see. Children in my classes have a notebook of their own in which they stick pictures of the different animals, flowers, objects and so forth.\\n• Blackboard : A blackboard  is a very important teaching aid \\nfor anyone presenting yoga to pre-school children. Often the asanas are drawn as stick figures. These are done by the teacher one bit at a time, allowing the children to copy each part either into their own notebooks or onto their blackboards.\\n• Rhythm instruments  are very easy to make and are essential \\nauditory tools. Music and rhythm are very important methods for developing auditory attention in children.\\nThe session\\nWhat is involved in a yoga session with children of this \\nage? It is customary when conducting a yoga class, or when doing one’s own practice, to begin with the physical \\npostures, then breathing exercises, then relaxation, concen -\\ntration or meditation. This same structure is used for pre-school children, so let us look at each of these three parts individually.95POSTURES\\nYoga zoo\\nAs previously stated, many postures normally done with \\nchildren of this age have the names of animals. Sometimes they are trying to assume the position of that animal, while relaxing, while moving and so on. With children of pre-school age these postures are presented as our ‘yoga zoo’. With the children we pretend to go to the yoga zoo and at the zoo we see a lion, a tiger, a duck, rabbit, etc. One can also go on a safari into the jungle or any place where one might meet any of these animals.\\n This form of play is used to include vocabulary for the \\nchild. We can go to the ‘aviary’ to see the crow, the stork, the swan, or to the ‘reptile’ house to see the cobra. The butterfly can be seen flying from a rose to a lily. The children are encouraged to suggest a flower that the butterfly is going to land on next; or it may fly from a pink rose, to a white rose, to a red rose, a yellow rose, to roses of all colours.\\n P . Levenstein (1973) in her paper, ‘Cognitive Develop  ment \\nThrough Verbalized Play’, argues that children’s intellectual development is closely linked to their verbal growth and their cognitive development can be influenced by the amount and quality of verbal interaction between child and mother. This holds true as well for teachers, playgroup leaders and yoga teachers. Levenstein is supported in this argument by other researchers such as Bruner and Deutch, who maintain that intellectual development linked to later academic success seems to be closely tied to the child’s verbal development occurring between twenty months and four years.\\n Make believe play is at its height between the ages of \\nabout eighteen months and seven or eight years. This coincides with learning to refer to objects in their absence, and with communication by means of language or symbolic gestures. As children develop during this period, they make enormous strides in their ability to ‘communicate’ to self and others, broadly speaking, and to assimilate and use communications from others. Teachers should use their own 96imaginations to make the asanas exciting and informative for \\nthe young child. For example, while visiting the lion we see he has his tongue hanging out. He is feeling very hot so he is cooling himself. What other animals hang their tongues \\nout to cool them  selv es? Does your dog do it? In this way the \\nyoga teacher can introduce ideas, knowledge, all sorts of information while making believe with the child.\\nThe blossoming lotus\\nThe children should sit in a circle with their feet pointing \\ntowards the centre, holding hands. They then bring their heads down towards their knees and their hands towards the feet, as in paschimottanasana, still holding hands. They are told that the flower is sleeping because it is night time and as the sun comes up over the horizon the flower slowly starts to wake up. First they raise their body back to the sitting position, then slowly raise their arms above their heads. Still holding hands they slowly lie down on the floor. They then raise one leg very slowly, followed by the other leg, then finally bring them both down to the floor behind the head, in halasana. The flower is then fully opened. When it is evening, the flower will slowly close and go to sleep again.\\nThe tree\\nThe children can begin this from a squatting position. The \\ntree is just a small seed planted in the ground. The rain comes and brings water to the seed. Then the sun comes out and the light causes the seed to send roots down into the ground and shoots above the ground. As the tree grows the children first stand, then stretch up onto tiptoes with their arms stretched high above their heads with fingers spread wide apart as they become full-grown.\\nThe bridge\\nWhile some children are being a bridge, others can be fish \\nor alligators or anything that the child imagines is swimming under the bridge.97\\nBSY ©Teapot pose\\nIn this posture the child balances on the left leg, while holding \\nthe right ankle with the right hand. The left elbow is bent and the left hand is sticking out, with the fingers pointing away from the body at about shoulder height. Slowly bend forward, causing the right foot and the knee to come up behind the back, maintaining balance at the same time.\\nChildren can learn to sing while practising this posture:\\nI’m a little teapot, short and stout,\\nHere is my handle, (right arm)\\nHere is my spout. (left hand)When the tea is ready hear me shout,Tip me over and pour me out. (bend forward)\\n I have found that young children who start such postures \\nat about three years of age, often by about age five can be observed combining different postures in their own ‘dance’. You can see how they carefully experiment with the movement out of one posture flowing into the next. This \\nindicates a tremendous develop  ment in body awareness and  \\ncreative thinking .98BREATHING\\nBhramari pranayama (humming bee breath)\\nThe easiest breathing technique to teach children of this age \\nis bhramari pranayama, the humming bee breath. When small children are asked to breathe in deeply they tend to inhale very noisily but very shallowly. To encourage deep inhalation the child has to be made aware of doing long, slow exhalation first. In bhramari they are asked to hum out as long as possible with one breath, listening to the sound all the time. This encourages deep inhalation after having practised a few times, as well as developing concentration and listening. \\n The childr en readily join in this practice because they \\nlove making sounds. Quite often in a play  group, one child \\nwill start to hum or maybe even repeat a word again and again. This is usually taken up by the others present and becomes a sort of chant. So the humming bee breath is readily practised by children of this age.\\nAbdominal breathing\\nTo encourage abdominal breathing, ask the child to lie down \\non the floor. Place a small paper boat, which the children have made previously, at their navels. Explain that when they breathe in, a wave is created by the stomach as it swells out; when they breathe out the wave subsides. By being able to watch the boat on the waves, children develop awareness of the abdomen and abdominal breathing which they normally do unconsciously.\\nBSY ©99RELAXATION, VISUALIZATION  \\nAND CREATIVE ATTENTION\\nYoga nidra\\nA child of this age cannot be expected to stay still for a very \\nlong time. Yoga nidra is a very powerful form of relaxation, though relaxation is only a by-product of the technique. \\nTwo important parts of the technique are rotation of aware -\\nness, that is, developing awareness of the physical body, and creative visualization. Practices like yoga nidra have to be modified for children of this age. Instead of asking young children to feel a body part without moving it, they are asked to practise it in the following way:\\nT echnique\\nFirst be a statue without moving until I count to 10. \\nBend your elbows, now make them straight. Bend your knees, straighten them again. Wriggle your toes, make them still. Raise your head, lower it. Move the eyeballs with your eyes closed, now stop. Move the lips as if to whistle, relax them.\\nPractice note: This practice helps children to localize their \\nawareness in the different body parts. \\nVariation: The children can imagine their own front door, \\nsee the colour and all the details, see their pet, the family car, their own shoes, etc. Or one can combine it with antar mouna, listening.\\nAntar mouna\\nAntar mouna is a technique for learning to make the mind \\nquiet and receptive. At a certain stage in the practice the practitioner is asked to be completely aware of all external experiences. This part of antar mouna can also be used very successfully with children of this age. However, instead of just being asked to listen to all the sounds, the child is asked to listen while the teacher points out all the sounds within the environment. He or she may say, “Hear the bird 100singing. Hear the bus moving down the street. Which way is \\nit travelling? How many different sounds can you hear? How many different sounds can you hear at the same time? Locate where the sound is coming from.”\\nKirtan\\nKirtan is a method of using sound for focusing attention and \\ndeveloping aural perceptions, as well as express  ing emotions. \\nSounds are produced with the voice in singing or chanting, \\nor with the hands or feet in keeping rhythm, or by using all of them, as we have previously said.\\n Rhythm instruments may also be used for kirtan. Singing  \\nand using rhythm instruments are very important forms of yoga to do with children of this age. This helps to develop auditory attention which is very important for later learning, especially for learning to read. Kirtans are so simple that even the youngest child can sing them. They are not too concerned with what the song means but quite willingly join in. \\n There are many children’s songs that occur in more than \\none language. They are simply fun and the children love to sing them in many languages. One example is:\\nAre you sleeping? Are you sleeping?Brother John, Brother JohnMorning bells are ringing, morning bells are ringing,Ding, dang, dong; ding, dang, dong.\\nBruder Jacob, Bruder Jacob,\\nSchlaefst Du noch? Schlaefst Du noch?Es laeuten schon die Glocken,Es laeuten schon die Glocken,Bim, bam, bong; bim, bam, bong.\\nFrere Jacques, Frere Jacques,\\nDormez vous? Dormez vous?Sonnent les Matines, Sonnent les Matines,Ding, dang, dong; ding, dang, dong.',\n",
       " '10115\\nYoga Techniques for \\n7–14 Year-Olds\\nRishi Arundhati & Swami Yogabhakti Saraswati\\nYoga classes for children should be presented differently  \\n from classes designed for adults. The asanas should be \\npresented more as dynamic rather than static postures and \\nperfection of the asanas is not demanded with children. This will come with practice. Any of the asanas or pranayamas described in chapters 16 to 31 may be used for classes with children of this age group. The teacher should use imagination to make these practices interesting and varied for the children.\\n Below are a few suggestions for asanas, games, prana -\\nyama and relaxation to use with children of this age. It is a good idea to work with the children sitting in a circle. This helps them develop a feeling of group participation since none have their backs to any other children. Yoga and modern dance have been successfully used with this age group. The body awareness that is developed through the yoga postures is used in expressing concrete or abstract ideas \\nby the dance move  ments.102POSTURES\\nBlossoming lotus\\nSit with feet pointed towards the centre and assume \\npaschimottanasana. Slowly sit up, trying to keep in rhythm with the person on either side. Arms are stretched high above the head. Gradually lower the back, then the head, down to the floor, bringing the arms to the floor by the sides. (Later the arms may be brought to the floor, still outstretched over the head.) Raise the right leg until the foot is above the navel, then raise the left leg bringing the feet together.Then, lowering the feet towards the head, lift the hips up off the floor. Straighten the legs back up in the air into sarvangasana, supporting the waist with the hands if necessary. Slowly lower the right toes to the floor behind the head. Then lower the left toes and place them beside the right ones, assuming halasana. Now the flower has bloomed completely. \\nPractice note: This differs from the exercise described in \\nthe previous chapter in that the children are not holding hands. It may be practised in both ways.Any children who are unable to participate in these asanas can be the stamen of the lotus and stand at the centre of the flower with arms upstretched in tadasana.The blossoming lotus is a very beautiful asana when done with a large group of children so that one has smaller circles within circles. \\nVariation 1: While in halasana take tiny side steps and walk \\nas far to the right as possible, then return walking to the centre behind the head. Then walk as far to the left as possible, returning back to centre.This variation is also known as the twisting lotus.\\nBenefits : This variation brings in a very important movement \\nfor the spine. It also provides the benefits of the twisting asanas.103Variation 2: From halasana bring the right arm slowly up \\nover the head and take hold of the right ankle. Bring \\nthe left arm up and take hold of the left ankle. Slowly open the legs as wide as possible, continuing to hold the ankles. Try to bring the foot and hand close to the foot and hand of the people on the other side, then bring the feet back together.\\nVariation 3: From halasana bend the knees and try to place \\nthem on the floor beside the right ear. Straighten the legs again. Then bend the knees and bring them to the floor near the left ear and straighten them. Again bend the knees and bring the right knee beside the right ear and the left knee beside the left ear. Then bring the arms up and wrap them around the thighs, as in pashinee mudra.\\nSurya Namaskara (salutations to the sun)\\nSurya namaskara is described in chapter 20. Stress the \\nmental counting of 1 to 12 while teaching the asanas so that the children start to subvocalize the numbers.\\nChandra Namaskara (salutations to the moon)\\nThere are three different sequences in this practice, all are \\nfully described in chapter 21.\\nWarrior sequence\\nThe warrior sequence has three levels of practice. The first \\nlevel is easy and the two following levels increase in difficulty. This sequence is well described in chapter 22.\\nAsanas done in pairs\\nWheelbarrow, stambhanasana, dancing duo, see-saw, the \\ndouble windmill, and the Chinese dragon are just some of many asanas that children can do together. Building pyramids is also a very enjoyable way to do asanas and it involves several children at one time.104YOGA GAMES\\nAnimal spirits\\nThe ancient rishis of India devised a number of asanas based \\non their patient observations of nature. Earth, ocean and sky, sun and space, and all that could be seen or heard through common experience were contemplated by the sages who had a wealth of knowledge about human life. It is not by chance that a whole jungle of animal postures is known in hatha yoga terminology. Each posture or pose, whether the lion, camel, cat or peacock, has a meaning of its own.\\n Underlying all these is a warning from Mother Nature \\nthat we are born of her, and that no mastery is possible until the animal in us has been fully recognized and accepted. Only then can it be conquered, not by force, but through a process of maturation. We call it ‘growth’, and this is what the course of human life is showing us. It is natural for children to live the first stage of their evolution with joy and enthusiasm. Let them love the movements of animals, the sounds of the beasts and birds, and the rustling of the wind through the trees.\\nBeing trees\\nIt is difficult for young children to stand on only one foot, \\nsince the mechanism for equilibrium is slow to develop. Why not train it the best possible way? One of the asanas that can help develop balance is eka pada pranamasana, which children from six to eleven will enjoy doing.\\n The children stand in a circle or in line. There should be \\nenough space between them so that they will not touch each other when they raise one foot in the way that suits them best. Don’t insist on the correct arrangement of legs and feet as is taught in the yoga manuals. In time the children will learn. First let them learn how to manage their balance somehow, while moving their trunk and arms. \\n Once they have understood and tried the process, you  \\nmay tell them, “Now lift your right leg and place your right 105foot on top of the left foot, or just a bit above the floor, as you \\nlike. Now slowly raise your arms sideways, as if they were big branches spreading under the sky. Your fingers are the smaller twigs and branches, and your hair is the leaves. Hear the leaves rustling in the gentle breeze. As the wind is passing by, you are swayed to and fro. See if you can close your eyes. (Most will lose their balance in doing so; they have to learn that too!) You are little trees growing in the forest. When you feel tired you can change legs. Now the wind has stopped blowing, you are motionless, calm and happy. Gently bring down your foot and lower your arms.”\\n Children will imbibe a lot from this game, as they will \\nbe made to feel how closely they are related to the world of plants. Our kinship with trees has often been emphasized in various scriptures, and the pleasure that children derive from playing ‘trees’ proves this to be a deep instinct in the human race. It will also make them aware of their upright position in space and will develop their balance on the physical as well as the emotional plane. By observing their change of feeling when they close their eyes, older children will realize the importance of concentrating their gaze on one single point while doing this posture.\\nWatch the cat\\nThe children should sit on their knees and then bend \\nforward in marjariasana, the ‘cat pose’, stretching their arms and meowing. Then they should silently relax sideways, as cats often do when basking in the sun, lying completely limp as if they were empty bundles of fur, but even then remaining fully aware of what is going on around them. \\n If a cat hears a meaningful noise, immediately it will \\nspring onto its feet. So while the children are relaxing fully on the floor, keep on speaking to them: “Now you are lying down as if you were asleep, but you are not. You are vigilant cats, even though you look like sleeping cats, and you are listening attentively to me. As soon as I say the word ‘mouse’ (or any other word or sound you choose), you will spring into 106the stretching cat pose again in a flash. For the moment you \\nare doing nothing; feel your body, breath going in and out \\nof your nose  . . .”\\n Keep on giving them instructions on how to relax in the \\nright way until in the course of your talking, without any warning, you mention the word ‘mouse’ (or any other). This will immediately bring the children onto their knees again. This game is a favourite with children from five to twelve years. Children will learn the meaning of awareness from such games. They will be made to feel that relaxation can be allied with vigilance.\\nThe wise cat and the proud lion\\nYogic games can be followed by suitable stories adapted for \\nchildren which enlarge upon the practices already learned. This is an excellent way to inculcate spiritual truths without boredom or loss of interest arising. Take, for example, the story of the wise cat.\\n The cat is a great guru indeed, as the following story will \\nshow. Long ago, in the times when the animals spoke, the cat was regarded as the wisest creature of all. Some cats even displayed such intelligence and capacities that their fellow animals came long distances to learn from them. Once there was a cat who was considered to be a great master, so much so that even fish would swim the oceans and rivers to his abode, and cows and monkeys would travel for months to be taught by him. Even kingly eagles would leave their snow-capped mountain peaks to ask his advice. The wise cat was living a simple life in the forest, and the animals who came to be his pupils served him with love and reverence.\\n A lion once happened to knock at the door of the cat’s \\nhouse and said, “I have come from my native jungle to learn from you. Please, teach me so that I can improve. I will listen to you in every way.” The cat accepted and taught him how to spring, to hunt and to roar loudly. He showed the lion how to fight with courage, sniff his prey from afar, run swiftly over hills and through valleys, and see in the dark 107on moonless nights. The lion lived peacefully within the \\ncommunity and learned how to feed sparingly when there was not enough to eat, and to share in times of plenty.\\n So he thought he had become wise in his turn, but he \\nhad also developed great pride because he was the strongest and most fearless of animals. He said to himself, “Now the cat has transmitted all his knowledge to me and I have come to know as much as he. I am also bigger and stronger than he. I am tired of listening to him, I will now take his place.” Once, as the cat was sleeping all by himself under a big oak tree, the lion pounced on him to swallow him up. But the cat had sensed his presence, for he was not fully asleep, and was able to jump onto the highest branch of the tree. Although the lion, wild with rage, tried to catch him, it was no use.\\n The cat spoke to him from the top of the tree: “Don’t \\nthink that you have learned everything from me. I still know more. Now go away from here and be content to remain what you are.” And since that time the lion and the cat have parted ways.\\nBREATHING AND RELAXATION PRACTICES\\nPranayama\\nAny breathing practices from chapters 16 and 29 will be \\nfun and very useful for the children. Some examples are, the punctured balloon, or the deflated tyre and the Tibetan purification exercise. The importance of pranayama for children cannot be overstated. Emotional stability comes about more easily for children who regularly practise breathing techniques.\\nRelaxation is also for children\\nCan we balance our children through relaxation? Some \\nteachers have tried it. Knowing that a child’s capacity for listening is closely related to his physical and emotional state and that restlessness grows year by year among students, these teachers are practising a few easy relaxation exercises.108 The results of this foresight is that their pupils learn and \\nexpress themselves much more easily. If the children do not \\nhave this opportunity at school, you can teach them to relax even without ever having practised these exercises yourself. However, experience makes the best teachers. Take care to adjust the instructions to the level of the children and do not force them to focus their attention for more than 10 minutes. Here are four exercises all inspired by yoga. Each exercise has a particular quality.\\nConcentration without effort\\nThe first is a famous exercise which has been adopted by \\ncountless American businessmen. Elbows are on the table, hands cupped over the closed eyes. Breathe in deeply, and slowly breathe out. Practise twelve times. Evoke in the children a landscape or place that they like. Let them imagine that they are there, at one with trees, mountains, sea or sky.\\nAttention and imagination\\nPlace an object or picture in front of the children. Eyes are \\nmotionless but without tension. Let them look at the object for 30 seconds. Then, with closed eyes, encourage them to see the object clearly. Then, for a second time, let them look at the object in detail with open eyes.\\nBSY ©109Inner peace of mind\\nThis exercise is based on listening to sounds. While the \\nchildren are lying, or better, sitting with the back straight and eyes closed, closed, ask them to breathe six times, repeating mentally either the word ‘peace’ or ‘relaxation’ at the end of each breath. breath. Then make them listen to the noises, first in the distance, in the street, then in the room, but without trying to interpret them. A different way to practise with smaller children is for the teacher to produce three different sounds, for example, those of crumpled paper, a click of a ballpen and the sound of a step (when someone walks). Then ask them in which order the sounds were produced.\\nRelaxation without sleeping (yoga nidra)\\nWith the children lying down, name the different parts of \\nthe body which they have to feel without moving. Start with the thumb of the right hand, move up the arm and then down the right side to the toes. Practise the same way for the left side of the body. Finish with the head. Then suggest visualization of pleasant pictures to imagine. See chapter 16 on yoga techniques in the classroom for ideas about how to structure yoga nidra for children of this age.',\n",
       " '11016\\nYoga Techniques for the \\nClassroom\\nSwami Yogabhakti Saraswati\\nThe techniques described in this chapter are for use in  \\nnormal school classrooms, even those with fixed desks \\nand seats. Most of the exercises can be done while standing \\nand moving between the desks, others can even be done while sitting at the desk.\\nLimbering up and developing body awareness\\nThe following exercises are described in chapter 18. In the \\nclassroom it is not even necessary for the children to remove their shoes in order to perform them.\\n 1. Ankle bending (5 times).\\n 2. Ankle rotation (5 times clockwise then 5 times anti-clock -\\nwise). Either both together or one at a time, depending upon the time available.\\n 3. Knee bending (5 times each leg).\\n 4. Squat and rise pose (5 times).\\n 5. Hand clenching (5 tim es).\\n 6. Wrist bending (5 times).\\n 7. Wrist rotation (5 times clockwise/anti-clockwise). Each \\nwrist individually or both together.\\n 8. Elbow bending (5 times). Slow inhalation as arm is \\nextended, slow exhalation as elbow is bent.\\n 9. Shoulder rotations (5 times clockwise/anti-clockw ise).\\n10. Neck movements (5 times) each variation.111\\nBSY ©11. Eye movements.\\n12. Palming.\\nAll these exercises lend themselves well to synchronization \\nof the breath. When being used in a language classroom, for example, these exercises are often practised in rhythm to a popular tune of that language, which the children can all respond to readily.\\nTibetan purification exercise \\nThis is also called the Ha Ha  exercise. It is a breathing \\nand cleansing exercise that gives an outlet for children’s \\nagitation when they want to shout and you cannot silence them. Suppose they are coming in from outside and are very excited. If you tell them to shout, they will be very pleased and you will later be able to discipline their animal spirits.\\nT echnique\\nStand with the hands resting against the sides of the \\nbody at the level of the floating ribs, at about waist level. As you are breathing in feel the lower ribs expanding. While breathing out, press gently with the hands. Inhale slowly, and exhale while gently bending forward a little at the waist. This helps expel the air.\\n112Now bring the hands up level with the middle of the \\nribcage. Inhale, expand the chest, and press gently while exhaling, bending forward slightly more.Place the palms of the hands on the upper part of the chest near the shoulders. Inhale and press gently while exhaling, at the same time bending forward slightly.Now practise all three together. Inhale with the hands moving quickly on either side of the ribcage. Exhale by shouting “Ha”, simultaneously bending slightly forward and pressing; another “Ha” bending further and pressing; and again “Ha”, letting the hands drop down and the head remains down. This is very good for the brain.Then inhale slowly, starting with the head down, raise the \\nbody upright and repeat the Ha  . . . Ha . . . Ha . . . exercise \\nagain, dropping the hands and head down at the end.Watch the faces of the children and you will observe that their eyes are brighter and they are more relaxed from releasing tension through the shouting and breathing.\\nMaking a mandala\\nThis is a group practice. A mandala is a collection of geo -\\nmetrical patterns. Here we make a large circle or maybe a circle within a circle, depending upon the number of children involved. In yoga, colours and shapes are very important for influencing the deeper levels of the child’s mind.\\nT echnique\\nStand in a circle, with the left palm facing the ceiling \\nand the right palm facing the floor so that the hands are joined with the next person. First we create an atmosphere in the group. Then we will create a link through breathing.Inhale through the left palm, then exhale through the right palm. Feel that a current is passing through the hands and around the circle. Close the eyes and go on inhaling through the left palm and exhaling through the right. It is like electricity passing from left to right. Then relax the arms and release the hands of your neighbours.113Becoming statues: STOP exercise\\nThis practice aims to create a lively atmosphere where \\nchildren can learn about movement and motionlessness. It is important to create a lively atmosphere for children, so that they feel it is good to be alive and it is pleasant to be at school, or to be together in a group. This is a classic yoga exercise. Sometimes the master said to the disciples, “STOP! Stop whatever you are doing!” So they had to stop whatever they were doing, whether cutting wood, sweeping the floor, \\nor reading a manuscript.  \\n The idea of this ex ercise is to make one realize: “What am \\nI doing? Who am I? Where am I? Where is my awareness?” These STOP exercises are greatly enjoyed by children and are called ‘becoming statues’.\\nT echnique\\nStage 1 : Just walk and move about randomly, bringing your \\nattention to the different parts of the body as they are named. When you hear ‘ STOP’  shouted loudly, then stop \\nand bring the attention to whatever is asked of you.\\n• Move about randomly and feel the soles of your feet,\\n• Feel your back but keep on walking and moving about,\\n• Feel the tip of your nose,\\n• Chest,\\n• Knees, keep moving,\\n• Right hand,\\n• Feel your navel.\\n• STOP! Do not move your eyes, fingers, hair or  \\n anything.\\nStage 2 : Start to move around again but move more quickly; \\ndo not touch anyone else. Take great care not to touch anyone.\\n• Move backwards without touching anyone.\\n• Move sideways without touching anyone.\\n• STOP!114Potato stop\\nThis practice aims to balance awareness between motion and \\nmotionlessness. There is a little rhyme in English which you may well remember: One potato, two potato, three potato, four. Other rhymes in other languages may be used for teaching purposes as well as for releasing tensions. One may use the word ‘banana’ or any other favourite word as long as it has three syllables.\\nT echnique\\nStage 1 : While shouting each line of the above rhyme, move \\nabout making big strides and bending the knees in turn, stretching the legs as far as possible so that the steps are very big, and large amounts of space are covered. ‘Four’ means STOP , but stop is not shouted out.Take another stride so that you are facing the person closest to you. Say, “Oh, you are here, how come?” and start a conversation with that person.\\nStage 2: Repeat the movement, this time moving more \\nquietly and whispering the rhyme. After ‘Four’ turn to the person nearby and pay him or her a compliment.\\nStage 3: Repeat the movement but this time only repeat the \\nrhyme mentally. After ‘Four’ turn to the person nearby and look at him or her very closely. Then close your eyes and try to remember that person’s face. Open your eyes and check your memory. Close your eyes again and try to remember again. Then open your eyes.\\nOstrich pose\\nThis practice aims to correct spinal defects. It is also used to \\ndevelop balance, atten  tion and concentration. As a dynamic \\npose it is the ostrich running around, releasing tensions. \\nT echnique\\nForm a circle. \\nDo the ostrich pose (see page 216 for instructions). Exhale, then inhale and come upright again. 115\\nBSY ©\\nExhale, then do the ostrich again. \\nInhale, move to a vertical position and rise up on the toes, then exhale and move to the horizontal position of the ostrich. Repeat several times. Then start to move around the circle in the ostrich posture, walking then gradually increasing the speed until the ostrich is running. \\nThe growing tree\\nIn learning to breathe we notice that breathing takes place \\non three different levels. We will use sound to locate these, and try to feel the relaxation from chanting the sounds. We will also make movements like a growing tree. The tree is like a child, first it is very small, then it gets bigger, then makes branches and leaves spreading towards the sky.\\nT echnique\\nFirst level of sound is aa as in car. Second level is oo as in \\ndoor. Third level is ee as in tree.\\nLet your arms hang down by your sides and you will breathe better in the abdomen. Chant car or aa.\\nNow put the arms, elbow to elbow close by in front of your chest. Chant door or oo.116Then raise your arms up above your head, spreading the \\nfingers like the trees. Leaves burst forth. Chant tree or ee.\\nNow chant in reverse e oo am (closing your mouth). \\nInhale and repeat, a oo e, inhale, e oo ammm.\\nRepeat ‘the growing tree’ and add the sounds following your own rhythm. Mmmm  creates a balance by bringing relaxation. To create \\nenergy do not add the mmm to the end of the vowel.\\nTrataka (concentrated gazing)\\nThis exercise involves trataka , or fixed gazing, which devlops \\nconcentration and memory. The first stage is the wide screen \\nwith the eyes open, looking externally, and the second level is the mental screen. The figure below can serve as a model for objects to be used in this exercise.\\nBSY ©117T echnique\\nStage 1: Hold the paper card out in front of you, about an \\narm’s length away at eye level.Practise trataka (fixed gazing) on the little point in the middle of the word on the paper.Look at the word on the paper card.Look at it, and do not move for 60 seconds.Fix the gaze on the central point.\\nStage 2: Now close your eyes for a second.\\nThen open them and look at the dot below the word on the paper.The counter-image will come and go.It is an optical process; there is nothing magic about it.Repeat it again. Look at the dot.Close your eyes.Now look at the dot below the word on the paper.Again close the eyes.Put the paper down.Keep the eyes closed and see what happens.\\nStage 3: Now sing om together.\\nInhale but keep looking inside at the point.Om, om, om.Now finish the practice and open your eyes.\\nStop and write\\nThis practice aids in developing the sense of touch. Assume \\nit is that time of day when we want to wake up a bit, to feel full of energy. So we are going to write and do important things but we will use our backs for that, like a blackboard.\\nT echnique\\nStage 1: Just walk around anywhere and after a while I will \\nstay STOP . Today you will walk around while imitating a profession, for example, like typewriting, painting and so on. One of these is your profession and while walking around you will mime it. So walk around, showing that you are a professional.118Stage 2 : STOP . Now tell your friend next to you what you are \\ndoing and talk about your job.\\nStage 3: STOP . Now one of the two partners turns his back \\nto the other. The back is like a blackboard but it has to \\nbe wiped clean. So rub the board clean. (This is a very nice way of massaging your friend’s back.)Next you will write. It is an exercise in tactile attention. With your finger, write a letter on the back (blackboard) and the other person will sing the letters. Do not forget to wipe the board clean in between writing the letters.\\nStage 4: STOP . Now change roles. Whoever was previously \\nthe blackboard should write a few letters on the other person’s back. \\nBenefits : This exercise leaves the children feeling very active \\nand very much alive.\\nChanting vowels\\nThis practice aims to develop touch awareness and relaxation. \\nT echnique\\nWhile chanting a vowel place your hands on your head, \\nthen on the ribcage, back, abdomen, chest, throat and so on to perceive the parts of the body where the vowel sounds are resounding most. Chant each vowel in this way.\\nOm mantra merry-go-round\\nThis practice aids in developing concentration and group \\nawareness.\\nT echnique\\nForm three circles. The outer, larger circle will move \\nclockwise and chant the sound aaa. The middle circle \\nwill move anti-clockwise while chanting uuu. The small, inner circle will move clockwise chanting mmm . Then \\ngently slow down and stop the movement, but continue chanting for a while.119Correlating asanas and sound\\nThis practice aims to develop the child’s attention and \\nmemory. Children must learn yoga for their own well-being. Here we have devised an exercise in which we combine hatha and nada yoga for the development of attention and memory.\\nT echnique\\nStage 1: Here we will practise the asanas and sounds \\ntogether:Do tadasana which will be associated with the sound aaa. \\nClose the eyes and listen to the aaa sound and visualize \\nthe pose.\\nStage 2: Do the second posture, eka pada pranamasana , the \\ntree pose. Stand on one leg as a tree. This posture will be associated with ee as in bee. Close the eyes, hear the \\nsound ee, and visualize the pose.\\nStage 3: Do the third posture, garudasana, the eagle. It is \\nassociated with the sound oo, as in good. Now close the eyes, hear oo and visualize the eagle with oo.\\nStage 4: Do the fourth posture, dolasana, the pendulum \\npose. It is associated with the sound o, as in bow. Close \\nthe eyes, hear the o sound and visualize the pose.\\nNow move around and when I call out one of the sounds, do the pose associated with this sound. Walk around quickly and the stop signal will be the vowel sounds: ee, o, oo, o, aa, ee, oo, ee, aa, etc.\\nSitting at a desk\\nThis practice aids in straightening the back. We are going \\nto do an exercise which can be done while sitting on a chair. In classrooms one has to pick out the exercises that can be done either sitting on chairs at a desk, or standing between tables and chairs.\\n Children usually say that it hurts. When I tell them, “In \\nthat case we will not do it”, they protest and say they will do it. I remind them that it hurts, and they say, “Y es, but it does us good.” So we all laugh together.120T echnique\\nStage 1: Sit upright, now lean slightly forward, placing the \\nfists on either side of the neck, just below the ears. If at a desk, the chest can rest lightly on the desk.Imagine that the head is winning and is pulling the fists with it. (Use the head to push backwards.)Then imagine that the fists are winning and pushing the head forward. (Use the fists to pull the head forwards.)Now imagine that the fists are pushing but the head resists. Then make little wings with the elbows. Push the shoulder blades back together as much as possible and smile.\\nStage 2: Then inhale and sit upright as straight as possible, \\nas straight as an umbrella. Exhale and push the head forward, but do not touch the table with your head, only the chest should be touching.\\nStage 3: Inhale, sit upright, keep the shoulders up.\\nExhale forcefully and drop your head forward. Then lower your arms.\\nThe punctured balloon\\nThe following practices aid in relaxing the back.\\nT echnique\\nEither sitting or standing, keep the legs slightly apart. \\nAs you inhale through the nostrils, imagine that you are a big balloon or a big tyre that is being filled up with air, cheeks and all, while I am blowing. (This is done \\nrhythmi  cally in 3 or 4 puffs.)\\nThen, unfortunately there is a puncture. Breathing out through the mouth, psst the air goes out, as you drop the upper body forward and down.\\nVariation : Imagine that you are completely exhausted. Your \\nback is bent and I am going to pump air into you so that you feel really full of pep.Exhale, then inhale – pump, pump, pump, pump, pump.Straighten up slightly with each pump.Exhale through the mouth.121And the back is bent once more.\\nThis time we will do the reverse process.We inhale continuously, and straighten up smoothly to an upright sitting posture.And exhale in spurts: ha-ha-ha-ha-ha .\\nLowering more and more with each spurt.Then inhale and feel you are refreshed.\\nBreathing with pictures\\nThese techniques aim to develop imagination and correct \\nbreathing. Here we are using types of breathing which are classical techniques in yoga. Children are fond of images, so in this practice we use pictures and imagination to assist in the performance of breathing. Imagine how you would teach breathing to children. First children have to learn that they breathe and these techniques are designed to make them aware of it. Some children may be anxious about silence, closing their eyes and relaxing. When you try it you will see that some children do not like it. They are afraid, so do not think all children will like silence as adults do.\\n You can teach breathing by letting children look at a \\npicture. Use anything to summon the awareness of the breath -\\ning process. They may use the fingers to trace the outline because children need something concrete to do. Their minds are not yet totally abstract. They want to look, feel, touch, see and smell. There are ways to help children become aware of their breath, as instructed in the following techniques:\\nFigure A\\nBSY ©122T echnique 1: Breathing with a circle or square\\nBreathing is like a circle. \\nInhale and exhale around the circle, inhaling half way around, then exhaling and completing the circle. (You may also use a square; see Figure A.)\\nT echnique 2: Breathing with a staircase\\nLook at the figures (see Figure B).First we have a picture of a staircase.Inhale while ascending the stairs.Exhale descending the lift, or on the banister.We can also reverse this technique (see Figure C)Inhale while ascending in a lift or escalator.Exhale while descending the stairs.\\nT echnique 3: Breathing and drawing with a pencilStage 1: Drawing circles\\nWhile moving up across the circle (see Figure A) say “I am inhaling.”\\nFigure C\\nBSY ©\\nFigure B123\\nFigure DBSY ©While moving down under the circle, say “I am exhaling, \\nI know it.”\\nPractice note: After a little while the children can be made \\nto realize that there is a break between inhaling and exhaling. Just like a wave, when the sea rises and falls, there is a moment when there is no movement. The same thing is happening with breathing. It is like a big wave.\\nStage 2: Drawing castles\\nThen you repeat the breathing and drawing, with William the Conqueror’s castle (see above Figure D).Inhale, stop! Exhale, stop! Inhale, stop! Exhale, stop!\\nPractice note : Imagining being a castle shape is actually \\nvery interesting for children and they can actually draw it while breathing. With pen in hand, they draw it while breathing in, then stop. While exhaling they draw and stop. This is also a way to breathe regularly while doing something.\\nNadi shodhana using hands, arms or legs\\nAmong all the types of respiration techniques there is one \\nthat is most precious. It is called nadi shodhana, or alternate nostril breathing, which creates a balance between the ida and pingala nadis and also maintains the pineal gland in good condition. Research has shown that it is absolutely essential for children to practise exercises where both sides of the brain are stimulated. Nadi shodhana is an excellent technique for this.124 I should say it would be ex cellent but it is so difficult \\nand boring for the children. Besides there is a problem. \\nVery often you will find in class that half the children will not do it because one of their nostrils is blocked by a cold or something else. So we must find another way of doing alternate breathing. We have found a few exercises to do this without the inconvenience of the nostrils being alternately closed and opened.\\nT echnique\\nSit with the hands on the knees and practise alternate \\nbreathing using the fingers.Raise the right index finger while inhaling, exhale while lowering the left index finger.Inhale, raise left index finger, exhale, lower right index finger. Continue in this way.\\nVariation 1: You can also use all the fingers alternately. \\nIt becomes more complex but demands more concentration and attention.\\nVariation 2 : It can also be done while sitting and raising the \\narms alternately instead of raising the fingers. Find other ways to vary this same exercise\\nVariation 3: The same practice can be done using legs as \\nwell. Lie down in  makarasana , the crocodile pose.\\nBSY ©125\\nBSY ©\\nVariation 3\\nBreathe in and bend the right leg up, slowly put the foot \\nback down with exhalation.Breathe in, bend the left leg, breathe out and slowly put the foot back down.\\nPractice note: This is a little game between the two feet, \\nan interplay between the legs and the breath. While the children are doing this, they can also listen to some music.\\nDirecting attention\\nThis practice aims to develop concentration and direct \\nattention. Two readers are chosen to stand on either side of the class to read different stories simultaneously. It is decided to listen only to the story from the reader standing on the right side. So first the students should rub the right ear, massage it slightly, pulling it up, down and sideways; making sure that they can hear, then continue with the following instructions:\\nT echnique\\nStage 1: Listen to the reader on the right. (Allow the stories \\nto be read for a few minutes.) STOP .\\nStage 2: Now they should rub the other ear but continue to \\nconcentrate on the story from the reader on the right. STOP .\\nPractice note : As said in the scriptures, the horses are being \\nled by the charioteer. The mind (the charioteer) decides what it is going to imbibe from the senses (the horses). 126Manas (mind) is directing it all. So concentration \\nis deciding to be attentive and it does not come automatically. You also have to decide that you want to listen to one thing and not the other.\\nSun and moon gazing\\nThis practice develops concentration, memory and balancing \\nthe breath, while creating a balance between ida and pingala, the moon and sun, thinking and vitality. The technique combines nadi shodhana with a picture and, at the same time, trataka on the centre. \\nBSY ©127T echnique\\nLook at the sun and moon drawing.\\nLook at the sun and moon in the middle of the card and see if you can see the lines on the right and left sides.Keep the eyes fixed on the sun and moon in the centre of the card.Inhale up the left side and exhale through the dotted line down to the sun at the bottom right. (That is B to A; then A to D.)Inhale up the sun side and exhale on the moon side, down to the bottom. (D to C; then C to B.)Again inhale up the moon side, exhale down to the sun. (B to A; A to D.)Then inhale up the sun side and exhale down to the moon. (D to C; C to B.)Now, after exhaling on the left side stop the exercise. Rub the hands together above the head until very warm. Put the palms on the eyes and gently move the head from left to right. Sing a song to yourself that you liked as a baby. Then relax the hands and open the eyes. Practise for five minutes only.\\nRelaxation and creative visualization practices\\nThere are two techniques given here. The yoga nidra \\npractice must be adapted for children. It must be very quick because children go deeper than adults and it is very difficult to call them back if they are too deeply into the practice. So it should be very short and they should be asked not to sleep.\\nT echnique 1: Yoga nidra\\nStage 1: Preparation\\nRemove your glasses. Lie down on the floor in shavasana, if possible or sit comfortably at your desk with your hands in your lap and shoulders relaxed. Relax completely and close your eyes.Make yourself as comfortable as possible.128Stage 2: Awareness of sounds\\nFirst feel your body on the floor.\\nYou are here in this room.It is (day of the week).Hear the sounds outside.Imagine a big circle.On the circle place the sounds that you hear.Place the sound (for example, of a car) on the circle.It is as if the car is moving around that circle.Inside this circle there is another.It has the same centre as the first circle.Hear another sound and then place it on this second circle. Then another circle inside this one with another sound on it.I will make three sounds.First sound: (hands rubbing together).Second sound: (stepping with feet).Third sound: (clicking with tongue).Please remember the sounds. (The sounds are repeated again).Now remember the sounds.Make them come alive on the circles.Now another sound at the centre of the circle.Your breath. This is at the centre.\\nStage 3: Awareness of touch\\nNow feel your body on the floor.Imagine a butterfly settling on the different parts of the body.Imagine a slight touch of the butterfly on your right hand.On the top of your head. Now your neck, On your right shoulder,On your left shoulder, Tip of your nose, Top of your head.129Stage 4: Visualization\\nNow the butterfly flies to a tree in bloom.\\nOh, there is a bloom from the tree falling down.No, it is not a bloom but the butterfly, flying again.You are under that tree and looking at the blue sky through the leaves.You are breathing energy through the leaves.You feel happy.What do you see?A rocket. A rocket is coming down.A rocket is landing near you. Oh, that is fantastic.Who do you see in that rocket? E.T .! E.T . is coming out.You know him already. Fantastic, he is coming to you and you are not afraid. E.T . is asking if you would like to come to his planet. You say, “No, I can’t.”He says, “Well, just come and have a look at your house from above.” So you agree.Get into the rocket with E.T .; you are very pleased.The rocket goes up and you see your house.You see your mother.You see your family from above.And now it is time to come down.The rocket is coming down and E.T . is saying goodbye.You are so happy to be alive.You are so happy to be alive and so relaxed.\\nStage 5: Ending the practice\\nSlowly move your fingers, hands and whole body.Slowly sit up and open your eyes.Now sing OM together.Om, Om, Om.\\nHari Om Tat Sat.130T echnique 2: Imbibing your favourite colour\\nStage 1: Preparation\\nLie down on your back.Feel the contact of the floor.Feel as if you are sending roots into the ground. You are grounded.\\nStage 2: Visualization\\nImagine you are a little island in the sea.A little island with palm trees, under the blue sky.And your body is that island with its curves, its gulfs and creeks. The forest is your hair and your eyes are two beautiful lakes.In between your fingers are nice little harbours.Imagine that you hear the sound of waves along the beach, and the waves are your breath.\\nCount 7 waves or breaths that you are listening to  . . . \\nWhen you finish, imagine that you are floating above your island and you see it from above.You are smiling, with the breeze in your hair.\\nStage 3: Awareness of colours\\nYou are floating and come to a rainbow.You are going to bathe in the colours of the rainbow.Please note which colour you prefer to bathe in.Red, imagine you are all red and floating in red.Orange, yellow, green, blue, dark blue, purple, gold, \\ngolden colour  . . .pause. \\nNow I will repeat them and you pick the colour you prefer. Golden colour, purple, dark blue, blue, green, \\nyellow, orange, red  . . .pause.\\nStage 4: Breath awareness\\nNow imagine you are still bathing in your favourite colour, while on the floor.You are breathing it in.While breathing it out, it permeates your whole body.While you inhale, it comes from outside.While you exhale it spreads into your arms, legs and into your trunk. It is spreading into your head and neck. 131Now feel that the quality of your favourite colour is in \\nyou. It has given you its quality.And when you get up you will retain it. You will feel as beautiful and as fresh as your favourite colour. Maybe tomorrow it will be another colour, but today bathe in today’s favourite colour.\\nStage 5: Feelings\\nSlowly stop that image. Feel how well you are.Remember a time when you were so happy because you had learned something pleasant, something difficult which you had finally mastered. How happy you felt that you could do it at last. And how your parents congratulated you for doing it.This feeling you are going to keep with you.\\nStage 6: Ending the practice\\nSlowly move the fingers. Slowly move the whole body, then open the eyes and sit up.\\nHari Om Tat Sat.\\nUsing the techniques with children\\nThe teacher should never constrain the motivation and \\ninitiative of the child by failing to make the sessions interesting and varied. The practices should always be presented in a spirit of creative imagination and variation. Many of the same exercises can be presented in different ways.\\n Bodily and mental dissipation of ener gy is the most \\nimportant problem for the school child; a lack of a centring within themselves. A mandala is a universal symbol made up of patterns, colours, sounds, etc. Concentration on these geometrical designs helps children to centre themselves and also aids in mathematics, geometry and trigonometry studies. The importance of children actually physically performing a geometrical design, for example rotating 60 degrees around themselves in a circle, then 180 degrees so that they are facing in the opposite direction, etc., is finally 132being understood and implemented with great success by \\neducators involved in teaching these higher mathematics to mentally disabled children with the aid of computers.\\n It should never be forgotten that children are harmonized \\nbeings. Therefore, that children are harmonized beings more delicate than than adults in many ways. It is essential to be particularly careful in these cases:\\n• Before starting to do any flexion of the spinal column the \\nchild must learn to maintain correct posture, while both sitting and standing.\\n• It is important that before the child does backwar d \\nbending postures, the pelvis is tilted slightly.\\n Anyone involved in education knows that we should work \\nprogressively from the most simple to the most complex techniques. Broadly speaking there are two principal phases:\\n1. A preparation phase of awareness of the different body \\nparts, natural breath, and of mental agility and release of tension. It must be obvious that one cannot bring influence to bear on something one does not know about.\\n2. A more active phase of work on the self and a phase of \\nincreasing depth.\\n All the aspects of the child’s personality should be \\nsimulta  neously br ought into harmony. It would, therefore, \\nbe wrong to work exclusively on the body or the mind. The activities should be synthesized. We present a great variety of exercises, both physical and mental, in the knowledge that the human being forms a whole, which is one, and that there is always an interaction between the physical body, the emotions and the mind.',\n",
       " '13317\\nIntroduction to Asana\\nWhen you are starting to teach yoga to children, it is  \\nimportant that at least a basic knowledge of anatomy \\nand physiology is at hand. It is important that teachers \\nalways bear in mind that their own bodies and those of their students are at different stages of development, and therefore they need to understand how physical and cognitive growth takes place in the child.\\n Body growth in children is a continuing process through -\\nout the years of childhood and adolescence. It is exceedingly rapid in the first two years of life and less so during the middle years of childhood. Later there is a growth spurt in relation to puberty followed by cessation of growth when the adult height is reached. Growth and development in the skeleton, or bone age, have been described by Tanner and his colleagues using X-rays of the left wrist and hand as a method of assessment. Functional and structural changes which the body undergoes at puberty make it capable of procreation. In both boys and girls the subcutaneous fat on the trunk and limbs increases in thickness rapidly during the first years of life and then decreases during the middle years of childhood.\\n The brain rapidly increases in size during the early years. \\nIn developing the visual systems, Bower, among others, has shown that the primary visual system localized in the superior colliculi of the corpora quadrigemina complex, 134the ‘where’ vision, is highly operative in the neonate. The \\nsecondary, ‘what’ vision, associated with the visual cortex of the brain, develops very rapidly in cats at an early age, as shown by Hubel and Wiezel. They demonstrated the importance of the growth taking place within the visual system at an early age, and the effect of the environment on its ultimate perceptual abilities. \\n So the physical bodies of the students we are teaching are \\nstill changing, and yoga asanas and pranayamas can have a very direct effect upon their anatomy and physiology.\\n Disorders of growth may be caused by many factors. \\nOrganic disorders of the central nervous system and the cardiovascular, respiratory, renal, haematopoietic or alimentary systems may interfere with growth. In addition, adverse psychological factors due to an unhappy home life are very important in this respect. Children whose growth has been slowed by illness show a greater than normal rate of growth upon correction of the disorder. This phase of rapid growth is called ‘catch up’ growth.\\n Yoga asanas are classified according to either difficulty \\nof performance or dynamic/static practices. When teaching children, the easy asanas should be taught first, then the intermediate, progressing on to the more difficult and advanced postures. For children’s classes the asanas taught are predominantly dynamic practices but some static asanas should also be taught, because the children should also be able to sit quietly without movement for short periods. As children grow older and mature, they themselves will begin to enjoy and demand more static postures.\\nDynamic or static practices\\nDynamic practices involve dynamic movements of the body. \\nIn this book we will refer to them as asanas, although the precise meaning of the word asana is ‘steady pose’. This group of dynamic practices are not intended to develop muscles, but to loosen up the body and remove stagnant blood in different areas of the body. They help tighten 135the skin and muscles, strengthen the lungs and encourage \\nmovement in the digestive and excretory systems. They are particularly useful for children. Dynamic practices include surya namaskara, chandra namaskara, warrior sequence, \\npawan  muktasana series, dynam  ic paschimottanasan a and \\ndynamic bhujangasana.\\n Static practices are performed with little or no movement \\nof the body, often remaining in one position for a few minutes or more. These are intended to gently massage the internal organs, glands and muscles as well as to relax the nerves throughout the body. They are specifically concerned with bringing tranquility to the mind and preparing the \\npractitioner for the higher practices of yoga such as prana -\\nyama, relaxation or concentration. Some prepare the body for meditation by making the body steady and firm. In these practices the respiration rate is generally slowed down and the practitioner directs his or her awareness to one particular part of the body, depending upon the asana.\\nGeneral advice and precautions\\nBefore beginning the practice of asanas, certain precautions \\nmust be taken. \\n Breathing : Always breathe through the nose unless \\ninstructed otherwise. In dynamic asanas the breath and movements are slow, long and coordinated. Follow the individual instructions given for the static asanas.\\n Body awareness : The difference between dynamic \\nyogasanas and gymnastics is body awareness and the speed at which the movements are executed. Asana practice without awareness of the body is not yoga. Body awareness \\ninduces relaxation while in the posture. When the asana is maintained with tension, it will have the opposite effect. For example, if sarvangasana, the shoulderstand, is practised with the body tense, the sex glands can be overstimulated resulting in a continual emission of semen, rather than regulated production of the spermatozoa.136 Relaxation : Practise shavasana before the asana session \\nso that you begin with the body relaxed and the mind and \\nemotions centred on the practices at hand. If you feel tired during asana practice, do shavasana. After completing the asanas, lie down in shavasana for at least 10 to 15 minutes to remove any fatigue.\\n Sequence : Asanas should be practised first, then \\npranayama, ending with relaxation or concentration. \\n Time of practice : Asanas can be practised at any time of \\nthe day, except after meals. However, the best time to do all yoga practices is in the early morning. The atmosphere is pure, quiet and filled with solar radiation. The activities of the stomach and intestines have stopped. The mind has no deep impressions on the conscious level and it is empty of thoughts in preparation for the day ahead.\\n Place of practice : The place of practice should be \\na clean, well-ventilated room which is quiet and insect free. If possible practise outdoors in a garden or pleasant \\nsurround  ing but only if the air is free of pollution and ther e \\nis no strong wind or cold air. If introducing yoga into the classroom, make sure that there is enough space to carry out the practices, free from furniture if possible. Most accidents occur when you fall against an object rather than falling from an asana. When the classroom has fixed furniture then the asanas have to be adapted to suit the situation. Some practices can be done while sitting at a desk.\\n Blanket : Practise on a folded blanket or a small carpet, \\nlaid on a level floor. Do not use foam rubber or air mattresses.\\n Clothing : During the practice of asanas it is better \\nto wear loose, comfortable and light clothing. Remove spectacles, watches and any body ornaments.\\n Empty bowels and bladder : The bowels should be \\nevacuated and the bladder empty before asana practice.\\n Empty stomach : Asanas should be done only when the \\nstomach is empty, therefore, early morning practice before eating is best. At least three or four hours should elapse after a heavy meal before starting the asana practice.137 Diet: There are no special dietary rules for practitioners \\nof asanas, though it is better to eat natural foods and in \\nmoderation. Contrary to popular opinion, yoga does not say you must become a vegetarian, though in the more advanced stages it does advise people to do so.\\n If one is suffering from a particular disease then dietary \\nrestrictions should be imposed in accordance with the ailment, and advice should be sought from an expert.\\n No straining : Never exert undue force or strain while \\ndoing or trying to do an asana. Regular practice will remove stiff joints and muscles and make even the most advanced asanas easy. \\n Limitations : All age groups, both male and female, \\ncan practise the asanas included in this book. Many asanas can be practised in some form even by severely disabled children.\\n Restrictions : Anyone suffering from any form of chronic \\ndisease such as ulcers, tuberculosis, hernia or slipped disc, should consult a doctor and an experienced yoga therapist before commencing asanas. Sufferers of dizziness or high blood pressure should not attempt inverted postures, dynamic spinal twists or head rolls. Anyone with pus in the ears, detached retina, myopia, etc., should not do inverted postures where there is pressure on the head from the floor.\\n Closing of eyes : Dynamic asanas and those involving \\nbalance are best practised with eyes open. As one advances the eyes can be closed.\\n Daily practice : There should always be a balance in the \\nchosen asana, ensuring that glandular stimulation re  ceived \\nfrom the posture is well balanced. When determining the asanas for a class or for one’s own daily practice, there are six main elements to be included in the choice of asana.\\n1. A forward bending asana to keep the spine supple in the \\nforward direction. \\n2. A backward bending asana, ar ching, as a counterbalance.\\n3. Twisting asana for maintaining supple lateral movements \\nof the spine.1384. Balancing asana. This is a very important element that \\nshould not be left out. Balance is an ability we acquire \\nas children and lose as we become older. Many doctors, especially those working with geriatrics, suggest that balancing exercises should be practised daily in order to maintain this very important ability that we learned as children.\\n5. An inverted asana for stimulation of glands in the head \\nand reversing the pressure of blood flowing to the lower extremities.\\n6. A sitting asana for developing the ability to sit for some \\ntime without moving the body in order to practise pranayama and meditation.',\n",
       " '13918\\nPawanmuktasana Series\\nPawanmuktasana is a group of exercises which release  \\nwind and gases from the body. Pawan means ‘wind’; \\nmukta means ‘release’, asana  means ‘posture’. The pawan -\\nmuktasana series is very simple, yet it is most effective in \\nregulating what are referred to in India as the humours: phlegm or kapha , wind or vata and acid/bile, pitta.\\n According to the ancient medical science known as \\nayurveda, these three humours control all the functions of the body. If any irregularity arises in their functions, negative reactions take place in the metabolism of the body and disease results.\\nPhysical yoga \\nPawanmuktasana are simple exercises for the development \\nof body awareness. During the practice of each exercise the children should be encouraged to feel the part of the body being used. Since one covers all the body parts with these exercises it is like giving oneself a complete external physical \\nexamination. One quickly notices the difference in develop -\\nment of the two body sides. If pawanmuktasana is introduced to children it will facilitate equal development of the body, and both right and left hemispheres of the brain.\\n The pawanmuktasana series should be practised very \\nslowly. Since slow motion movements need more attention, this helps to develop concentration and in itself helps to 140induce relaxation. It is important to build in the discipline \\nof counting from the very beginning.\\n Pawanmuktasana movements are simple; all yoga \\nexercises and asanas are slow, conscious stretching or conscious postures and not the fast energy burning movements that we experience in gymnastics or keep fit classes. Problems such as straining or pulled ligaments or muscles should never occur since one should at all times be completely aware of the movement in the particular body part being used. This awareness is the important difference between yoga asanas and gymnastics.\\n The pawanmuktasana series of exercises is divided into \\nthree distinct groups: anti-rheumatic, anti-gastric, and energy-releasing.',\n",
       " '141Pawanmuktasana 1\\nANTI-RHEUMATIC ASANAS\\nThese exercises will beneficially influence the different joints \\nand organs of the body. Though they seem simple, they have subtle effects on the practitioner. This group of exercises is also known as sukshma vyayam in Sanskrit, meaning ‘subtle \\nexercises’. This series of exercises should be performed at the beginning of the daily asana session to loosen the joints and make the muscles supple.\\n Pawanmuktasana, like any other yoga asana, should be \\nadapted to the age of the children. They may also be applied in a classroom situation in many ways. Good examples proposed by RYE to balance the physical development of children can be found in chapter 15. In a playgroup environment or with pre-school children it is fun to play with finger paints or with two brushes while rotating wrists or using individual fingers for painting. There are many songs and games used in playgroups that are ideal ways of developing awareness of the different body parts.\\n Our first set of pawanmuktasan a exercises, the anti-\\nrheumatic, is a systematic movement of all the joints in the body. The child is asked to think and feel more in terms of the bony structure than the muscular structure. With small children, let them look at pictures of a skeleton, pointing out the different joints.142Parambhik Sthiti (base position)\\nSit with the legs stretched in front of the body.\\nPlace the hands on the floor slightly behind the trunk. There is a slight backward inclination of the body.The legs are slightly apart.\\nPractice 1: Padanguli Naman (toe bending) \\nSit in the base position.Become aware of the toes. Slowly bend the toes of both feet forward and backward without moving the ankles.Repeat 10 times slowly.\\nPractice 2: T oe spreading\\nSit in the base position.Bring the awareness to the toes – spread them as far apart as possible. Relax, allow the toes to come together again.Repeat slowly and smoothly 10 times.\\nPractice note : Avoid causing cramp by tensing too strongly. \\nIf the child is unable to spread the toes, the hands can be used to spread the toes, one foot at a time. \\nBSY ©\\nBSY ©143Practice 3: Goolf Naman (ankle bending) \\nSit in the base position.\\nBring the awareness to the ankles. Slowly bend the feet as far forward as possible.Then slowly bend them as far back as possible.Repeat 10 times with awareness, at a slow, even rhythm.\\nPractice 4: Goolf Chakra (ankle rotation)\\nSit in the base position with the feet slightly separated.Become aware of the ankles. Slowly rotate the right foot 10 times in a clockwise direction. Try to make the movement as wide as possible. Imagine that you have a piece of chalk on the end of the big toe and you are drawing a large circle with the chalk.Now rotate the right foot 10 times anti-clockwise.Repeat the practice with the left foot.Now repeat with both feet, moving them together in the same direction.The legs and body should remain relaxed, with the only movement being in the ankles.\\nPractice 5: Goolf Ghoornan (ankle crank)\\nSit in the base position.Bend the right knee and place the right ankle on the left thigh. The right hand rests on the right knee or ankle, the left hand holds the toes of the right foot.Bring the awareness to the right ankle. Rotate the right foot with the left hand 10 times clockwise and then 10 times anti-clockwise.Return to the base position. Repeat with the left foot.\\nPractice 3 Practice 4BSY © BSY ©144Practice 6: Janu Naman (knee bending)\\nSit in the base position.\\nBring the awareness to the hip and the knee. Bend the right knee and hold the back of the thigh with clasped hands. Bend the right leg at the knee so that the thigh is close to the chest and the right heel close to the buttocks.Straighten the arms and leg but do not allow the leg or foot to touch the ground.Repeat 10 times, then return to the base position.Repeat with the left leg.\\nPractice 5BSY ©\\nBSY ©145Practice 7: Janu Chakra (knee crank)\\nSit in the base position.\\nBend the right leg at the knee. Clasp the hands around the back of the thigh, bringing the thigh close to the trunk.Become aware of the knee. Rotate the lower leg in a circular motion around the knee 10 times clockwise and 10 times anti-clockwise.Return to the base position and repeat with the left leg.\\nPractice 8: Ardha Titali Asana (half butterfly)\\nThis asana has six variations. Practise one after the other with the right leg. Then repeat the sequence with the left leg.\\nVariation 1: Sit in the base position, with the legs outstretched \\nin front of the body.Fold the right leg and place the right sole against the inside of the left thigh.Hold the right foot with the left hand and place the right hand on the top of the bent right knee.Gently move the bent leg up and down with the right hand, allowing the muscles of the leg to relax as much as possible.Continue this practice until after some weeks or months the right knee starts to touch, or nearly touch, the floor. \\nBSY ©146Variation 2 : Sitting in half butterfly, hold the right knee with \\nthe right hand and the right foot with the left hand.\\nPush gently with the left hand moving the knee to the right towards the side. Keep the foot and knee as close to the floor as possible.Then relax and let the right foot come back to rest on the left thigh.Repeat about 10 times. \\nBSY ©\\nVariation 1\\nVariation 2BSY ©\\nVariation 3BSY ©147Variation 3 : Sitting in half butterfly, hold the toes of the right \\nfoot with the right hand and the heel with the left hand.\\nRaise the foot up to about face level. Do not straighten the knee or ankle but keep them slightly bent.Gently lower the foot back to rest on the left thigh.Repeat about 10 times. \\nVariation 4: Sitting in half butterfly, hold the right foot as \\nbefore. Raise the foot up to eye level.Bend the elbows and pull the foot gently towards the face so the toes come to touch the eyebrow centre. The foot is brought to the head, not the head down to the foot.Straighten the arms and repeat 10 times. \\nVariation 4\\nVariation 5BSY ©\\nBSY ©148Variation 5 : Sit in half butterfly, with the right foot resting in \\nthe hands, the right knee pointing towards the ceiling.\\nMake sure that the right arm is inside the right leg. Push the foot up, so the the right knee moves past the shoulder and to the back.Relax and let the foot rest in the hands on the floor.Repeat about 10 times. \\nVariation 6 : Sitting in half butterfly, hold the lower right leg \\nat the calf with both hands, making sure that the right arm is under the right leg.Slide the right arm further and further under the right lower leg, pushing the leg up and back.Straighten the back so that the inside thigh is resting against the back and the lower right leg is sticking over the shoulder. Let the leg rest on the shoulder for a few seconds.Lower the leg slowly back to the floor into the half butterfly. Now repeat the six variations with the left leg.\\nBenefits : This series of movements is very important for \\nmaintaining suppleness in the joints of the legs and thighs. When stiffness has already occurred, this series is most beneficial in making all the joints flexible. After some days or weeks of practice, the knees should rest comfortably on the floor without effort.\\nBSY ©Variation 6149Mushtika Bandhana (hand clenching)\\nSit in the base position, or in sukhasana.\\nRaise the arms and stretch them in front of the body at shoulder level. The awareness is in the hands and fingers.Open the hands and spread the fingers as wide as possible, creating as much tension as is comfortable, then relax the hands.Now, folding the thumbs inside, clench the fists as tightly as is comfortable, then relax. It is important that the thumbs are placed inside the fists in order to achieve maximum movement in the thumb joints.This is one round.Practise flowing from tension to relaxation to tension etc.After 10 rounds, relax the arms and bring the hands to the knees.\\nManibandha Naman (wrist bending)\\nSit in the base position, or adopt sukhasana.Stretch the arms in front of the body at shoulder level, with palms facing away from the body and fingertips pointing towards the ceiling. Bring the awareness to the wrists.Bend the hands forward from the wrists so that the fingers point to the floor.\\nBSY ©\\nBSY ©150Slowly return them to point towards the ceiling. This is \\none round.Repeat 10 times, slowly and with complete awareness of the wrists.Make sure that there is no tension generated in the arms or hands.\\nManibandha Chakra (wrist joint rotation)\\nSit in the base position or sukhasana.Extend the right arm in front of the body at shoulder level.The left hand may be used to support the right arm at the elbow. Bring the awareness to the wrist and hand. Make a fist with the right hand. Move the fist in a complete circle, slowly rotating 10 times clockwise and then 10 times anti-clockwise.Relax the arm. Repeat with the left hand.Practise with both hands together, moving them in the same direction.Make sure that only the wrist is moving and not the arm. Notice the difference between the two hands.\\nBSY ©151Kehuni Naman (elbow bending)\\nSit in the base position or sukhasana.\\nRaise the arms and stretch them out in front with the palms upward.The awareness should be at the elbows with no tension in the arms or hands.Slowly bend the elbows and bring the tips of the fingers to touch the shoulders, keeping the elbows at chest level.Then slowly straighten the arms again.Repeat 10 times, then rest the hands on the knees.Raise both arms again, this time to the sides, palms upward.Retaining the awareness at the elbows, slowly bend the elbows and touch the shoulders with the fingertips.Slowly straighten the arms to the sides.Repeat 10 times.Keep the back, neck and shoulders relaxed throughout this practice.\\nSkandha Chakra (shoulder socket rotation)\\nSit in the base position or sukhasana.Place the fingertips of the right hand on the right shoulder and slowly draw a large circle with the right elbow.Practise slowly 10 times clockwise and 10 times anti-clockwise.Repeat on the left side.\\nBSY ©152Then rotate both elbows together in a large circle, trying \\nto touch the chest, ears and sides of the trunk. \\nBenefits : Remember this is a ball and socket joint so achieve \\nas much movement as is comfortable. Awareness is in the shoulder joints and the muscles of the back. This practice is especially good for children who have been sitting, writing or drawing for some hours each day.\\nGreeva Sanchalana (neck movements)Stage 1: Forward and back\\nSit in the base position or sukhasana.Bring the awareness to the neck.Slowly exhale and tilt the head forward, bringing the chin close to the chest.Inhale and slowly move the head back as far as is comfortable. Do not strain.Repeat slowly 10 times with the eyes closed.\\nStage 2: Side to side\\nSit in the base position, with the eyes closed.Turn the head to face the right so that the chin is in line with the shoulder.Slowly turn the head back to the centre and around to the left so that the chin is in line with the left shoulder.Inhale while turning to the front.Exhale while turning to the side.This is one round. Practise 10 rounds.\\nBSY ©153Stage 3: Right to left\\nFacing forward, place the palms on the knees and \\nstraighten the elbows. This will cause the shoulders to be slightly raised.Close the eyes. Slowly tilt the head to the right and try to touch the right ear to the right shoulder.Then move the head to the left and try to touch the left ear to the left shoulder.Inhale as the head moves up.Exhale as the head moves to the side.Practise 10 times to each side.Do not force the ear to touch the shoulder; it is the movement of the neck which is important.\\nStage 1 Stage 2\\nStage 3 Stage 4BSY ©154Stage 4: Neck rotation\\nSit in the base position, or sukhasana.\\nClose the eyes. Slowly rotate the head downward, to the right, back, and then to the left side in a relaxed, smooth, rhythmic, circular movement. This is one complete rotation of the head. The ear drums are affected by this exercise so it is important to be as relaxed as possible.Repeat 5 rotations clockwise then 5 rotations in an anti-clockwise direction.\\nPrecautions : This exercise should not be practised by \\nanyone suffering from low or very high blood pressure, cervical spondylosis, or vertigo.\\nBenefits : All the nerves connecting the different organs and \\nlimbs of the body pass through the neck. Therefore, the muscles of the neck and head accumulate tension, especially after prolonged work at a desk. These exercises release tension, heaviness and stiffness in the head, neck and shoulder region. Blood circulation to the head is also stimulated so there is more fresh blood supplied to the eyes and brain, which is particularly important for students.\\nBalancing on the buttocks\\nSit in the base position.Bend the knees, bringing the thighs close to the trunk, and clasp the hands under the thighs.Slowly raise the feet from the floor, easing back onto the buttocks to balance. Keep the eyes open and stare at a fixed point in front to maintain balance.After practising for a while, close the eyes and relax the body as much as possible, still maintaining the posture.Begin practising for 1 minute, then gradually increase to 3 to 5 minutes.With eyes open, maintaining the balance, rotate the lower legs slowly 10 times clockwise then 10 times anti-clockwise.Return to the base position.155Sukhasana (easy pose)\\nSit with the legs stretched in front of the body.\\nBend the right leg and place the foot under the left thigh. Bend the left leg and place the foot under the right thigh.Place the hands on the knees, and keep the spine, neck and head in a straight line.If this posture is difficult at first, a cloth or belt may be tied around the knees and lower back for support.\\nBSY ©\\nBSY ©\\n',\n",
       " '156Pawanmuktasana 2\\nANTI-GASTRIC ASANAS\\nIn this group of exercises the children are asked to synchro -\\nnize the physical movements of the body with deep relaxed \\nbreathing. Breath and body movements should be of equal length. The student should be reminded to observe the breath and heartbeat before and between exercises. If either are fast, just wait until they are normal before starting the next posture. The most relaxing pose is shavasana, but it can be done while sitting or standing.\\nSpinal massage\\nStage 1: Lie flat on the back, legs folded up to the chest.\\nWrap the arms around the knees and pull them gently towards the chest as you exhale.While inhaling, relax the pull on the knees but do not place the feet back onto the floor. This results in a rocking movement.\\nBSY ©157Repeat at least 10 times and then stretch the legs out, \\nassuming shavasana.\\nStage 2 : Lie flat on the back as in the previous exercise with \\nthe legs folded up to the chest, holding the knees with the hands.Rotate the knees as if you are drawing circles with them, 10 times clockwise and 10 times anti-clockwise.Exhale as the knees are brought close to the body and inhale as they are moved away from the body.When completed, exhale while stretching the legs out and assuming shavasana.This exercise benefits the lumbar nerves and muscles.\\nJhulana Lurhakanasana (rocking and rolling)Stage 1: Lie on the back, the legs folded up to the chest.\\nInterlock the fingers and clasp the legs around the knees.Roll the body from side to side, touching the elbow and the side of the legs to the floor.Rolling to the right and then to the left is one round.Do 10 rounds, rolling very slowly and carefully with complete awareness placed on the entire spinal column.When completed, exhale while returning legs to the floor.\\nStage 2: Sit in the squatting position with the buttocks just \\nabove the floor.Interlock the fingers of both hands and wrap them around both knees. Rock the whole body forwards and backwards on the spine.\\nBSY ©158Try to come into a squatting pose on the feet when \\nrocking forward.Do 5 to 10 backward and forward movements.\\nPrecautions : Use a folded blanket so there is no possibility \\nof causing damage to the spine, and be careful not to hit the head on the ground while rocking back. The head should be held tilted towards the chest.Do not strain.\\nBenefits : This exercise massages the back, buttocks and \\nhips, and is most beneficial if practised first thing in the morning. It should not be performed by anyone with spinal problems.\\nSupta Pawanmuktasana 1 (simple leg lock pose)\\nLie in shavasana. Become aware of the whole body and make sure that it is relaxed and steady.Slowly bend the right knee and bring the thigh near the chest.Interlock the fingers and place them over the knee.Inhale and pull the knee as close to the chest as possible while retaining the breath inside.Slowly exhale, return the right leg to the floor and resume shavasana.Check the breath and heartbeat. If they are normal, repeat the same procedure with the left leg.\\nBSY ©159Then repeat with both legs together.\\nThe right leg, left leg and both legs together equals one round.Practise 5 to 10 rounds.\\nBenefits : As a general rule, the lungs are empty when one \\npractises bending forward or bringing the knees close to the chest, causing pressure on the lungs. However, in this exercise the lungs are filled. The extended diaphragm gently presses against the abdominal organs, bringing stimulation through activation of pressure receptors, and helping to remove constipation and flatulence.\\nSupta Pawanmuktasana 2 (leg lock pose)\\nLie in shavasana.Inhale slowly, bend the right knee and bring it close to the chest. Interlock the fingers and place them over the knee.While exhaling, raise the head and pull the knee close to the chest so that the forehead or nose touches the knee.Hold as long as is comfortable with the breath held out.Inhale and bring the head back to the floor.\\nBSY ©\\nBSY ©160Release the leg from the chest but keep it folded and \\nclasped with the hands. Make sure that the shoulders, head and neck are completely relaxed.Exhale while raising the head, pulling the knee close to the chest so that the forehead and knee touch again. Inhale while returning the head to the floor as before.Practise from 3 to 7 times.Then, while exhaling, return the right leg to the floor and resume shavasana.When the heartbeat and breath rate are normal, repeat the same procedure with the left leg, and then with both legs together.\\nBenefits : This exercise has a direct massaging influence on \\nthe abdomen and digestive organs and is, therefore, \\nhighly recommended for anyone suffering from flatu -\\nlence and constipation. It strengthens and relaxes the lower back muscles and loosens the spinal vertebrae.\\nChakra Padasana (leg rotation)\\nLie in shavasana. Become calm and steady.Raise the right leg 5 cm off the ground, keeping the knee straight. Rotate the right leg clockwise 10 times, making a large circle. The heel should not touch the floor during the rotation.\\nBSY ©161Breathe deeply.\\nReturn the leg to the floor.Rotate 10 times in the opposite direction.Repeat the same procedure with the left leg.Then rotate both legs clockwise and then anti-clockwise up to 5 times.Keep the rest of the body, including the head, flat on the floor. Always check the breath and heartbeat after completion of the 10 rounds and allow them to become normal before starting again. Remember that the pelvic joint is a ball and socket so try to get maximum movement during the exercise without any strain.\\nBenefits : Good for hip joints, obesity, toning of abdominal \\nand spinal muscles.\\nPada Sanchalanasana (cycling) \\nLying in shavasana, become calm and steady.Raise the right leg and make cycling movements as if cycling forward at least 10 times, then cycle backwards 10 times.Repeat the same with the left leg.Then cycle with both legs, alternating as if riding a bicycle.Breathe deeply. Keep the rest of the body, including the head, flat on the floor.\\nBSY ©162After completing each part of the exercise, rest in \\nshavasana until respiration returns to normal.Do not strain.\\nBenefits\\n: Good for hip and knee joints. Strengthens abdomi -\\nnal and lower back muscles.\\nShashankasana (pose of the moon or hare pose)\\nSit in vajrasana and place the hands on the knees.Keep the spine and head straight.Bring the awareness to the whole body and become steady and relaxed. While slowly inhaling, raise the arms above the head, synchronizing the movement of arms and breath. Keep the arms shoulder-width apart. Exhale slowly and bend the trunk forward bringing the chest to rest on the thighs and the forehead to the floor in front of the knees.The arms remain outstretched in front of the body and the palms and elbows are resting on the floor.Breathe normally, holding the posture for 10 seconds.Inhale while returning slowly back to the upright position with arms stretched over the head.Repeat up to 10 times.After inhaling and returning to the upright position, exhale and bring the hands back to rest on the knees.The breath should be slow and coordinated with the physical movements.Concentration may be focused on manipura chakra, the solar plexus, or the natural breath.\\nBSY ©163BSY ©Benefits : This asana (and variation 1) is very effective for \\ntoning the pelvic muscles, relaxing the sciatic nerves \\nand regulating the functioning of the adrenal glands. \\nShashank  asana helps relieve constipation, sciatica and \\nanger. It is also a very effective asana for preventing an underdeveloped pelvis, and is beneficial for removing sexual disorders in general.\\nVariation 1 : Sit in vajrasana and hold the right wrist with the \\nleft hand behind the back.Become aware of the whole body and become relaxed and steady. Inhale slowly and deeply.While exhaling slowly bend the body forward, bringing the chest to rest on the thighs and the forehead to the floor in front of the knees.Breathe normally while maintaining the position for about 10 seconds. Inhale deeply and slowly raise the body to the upright position. Repeat up to 10 times.\\nVariation 2 : Sit in vajrasana and place the fists in front of the \\nlower abdomen. Let the little fingers of the fists rest on the lap.Inhale deeply. While exhaling slowly bend the body forward to rest the chest on the thighs and the forehead to the floor in front of the knees. Breathe normally while holding the posture for about 10 seconds.\\n164Inhale while returning to the upright position.\\nRepeat up to 10 times.For greater comfort and easier execution, overweight people can place the hands flat on the abdomen.\\nBenefits : This variation massages and improves the \\nefficiency of the intestines and digestive organs and is especially recommended for anyone suffering from constipation and excessive wind.\\nBSY ©',\n",
       " '165Pawanmuktasana 3\\nENERGIZING ASANAS\\nThese asanas are also combined with breathing, synchroniza -\\ntion of movements and breath. They are called shakti \\nbandha, or energy releasing asanas.\\nGayatmak Meru Vakrasana (dynamic spinal twist)\\nSit with both legs outstretched. \\nSeparate the legs as wide apart as is comfortable. Raise the arms straight out to the sides, twist the upper body and reach for the left toes with the right hand.The left hand is stretched out behind the back and the head is turned to look at the outstretched left hand.Close the eyes and feel the body. Open the eyes and slowly twist the upper body back to the front and then to the other side.\\nBSY ©166Touch the right toes with the left hand and stretch the \\nright hand behind the back. The head is turned to look at the outstretched right hand.Again close the eyes and feel the whole body. This is one round. At the beginning, the exercise is done slowly, then the speed is gradually increased.Do at least 10 rounds.Exhale as you twist; inhale as you return to the centre.\\nPrecautions : People suffering from high blood pressure or \\nslipped disc should not practise this asana.\\nBenefits : This asana is not only beneficial for reducing the \\nwaistline and keeping the lateral movements of the spinal cord supple, but when practised with a little speed it stimulates and massages the abdominal organs and helps remove sluggishness and constipation.\\nNamaskarasana (salutation pose)Stage 1 : Squat with feet flat on the floor and the knees wide \\napart. Place the hands together at the chest in a gesture of prayer. Press the elbows against the inner side of the knees. In this posture it is as if the elbows and knees are glued together. Where the knees go the elbows go, where the elbows go the knees go. There are 4 parts to this asana so altogether it takes concentration.\\nStage 2: Inhale and bend the head backwards, pushing the \\nknees as wide apart as possible.\\nStage 3: Exhale while lowering the chin to the chest, and \\nstraightening the arms directly in front of the body. At the same time push the upper arms in with the knees. \\nStage 4 : Inhale while raising the head and chin and pushing \\nthe knees wide apart with the elbows. Bring the hands to the chest, palms together in prayer position, as in stage one.\\nStage 5: Exhale and lower the head and chin back down to \\nthe chest.Practise 5 to 8 rounds.167\\nBSY ©\\nBSY ©\\nBenefits : This practice has a very powerful effect on the \\nnerves of the thighs, knees, shoulders, arms and neck. It \\nalso increases flexibility in the hips. When practised in 4 stages it helps to develop concentration and awareness of body and breath moving in harmony.\\nVayu Nishkasana (wind releasing pose)\\nSquat with both feet flat on the floor, 60 cm apart.If the heels will not touch the floor then place a blanket or pillow under them so that the whole foot is taking the body weight, not just the toes.Place the fingers under the feet from the inside so that the palms are under the arches, with the back of the hands resting on the floor. The elbows should press against the inner sides of the knees.Inhale and raise the head.Exhale, while straightening the legs, raising the buttocks, and bringing the head forward towards the knees.168Maintain the position for a few seconds.\\nInhale and return to the starting position.Practise up to 8 times slowly and with great control and awareness.\\nPrecautions : People with high blood pressure, sciatica or \\nslipped disc should not practise this asana.\\nBenefits : This asana is beneficial for the nerves and muscles \\nof the thighs, knees, shoulders, arms and neck. It stretches the hamstrings and promotes flexibility of the knee and hip joints. \\nUdarakarshanasana (abdominal stretch pose)\\nSquat with both feet flat on the floor and the hands on the knees.Bring the right knee to the ground near the left foot while turning the trunk as much as possible to the left.Look behind the body, and keep the hands on the knees.Return to the starting position.Repeat the same procedure twisting the body in the opposite direction. Twist the body up to 10 times each way. Inhale in the starting position, exhale turning to the side.\\nBSY ©\\nBSY ©169\\nBSY ©\\nBenefits : This is a very useful asana for abdominal ailments \\nbecause it alternately compresses and stretches the \\ndigestive organs and muscles. Constipation sufferers should practise it regularly.\\nPractice note : This is one of the asanas practised during \\nshankhaprakshalana for cleaning the intestines and stomach.\\nUtthanasana (squat and rise pose)\\nStand with the feet about 1 metre apart.Turn the toes out to the sides.Interlock the fingers in front of the abdomen and allow the arms to hang freely.\\nStage 1 : Slowly bend the knees and lower the buttocks about \\n20 cm.Straighten the knees and return to the upright position. \\nStage 2: Bend the knees and descend about half a metre.\\nAgain return to the upright position.\\nStage 3: Bend the knees and descend again until the hands \\nare about 30 cms from the floor. Make sure that the spinal column is kept straight and the buttocks tucked in. Return to the upright position.\\nStage 4: Finally, lower the buttocks until the hands rest on\\nor near the floor. Try not to bend forward.Return to the upright position.Repeat 5 to 10 times.170Breathing : Exhale while lowering, inhale while rising.\\nBenefits : This exercise strengthens the muscles of the middle \\nof the back, pelvis and uterus, and also the inner thighs, \\nknees and ankles. It helps encourage correct posture.\\nSaithalyasana (animal relaxation pose)\\nSit in the base position.Bend the right knee and place the sole of the foot against the inside left thigh.Bend the left knee and place the heel to the outside of the left buttock.Inhale and raise both hands slowly above the head.While exhaling slowly bend forward over the right knee, bringing the forehead to the floor. Retain the position for about 1 minute, breathing normally and rhythmically.Inhale while raising the arms and body, exhale and lower the hands to the right knee.Practise 5 times on the right side, then reverse the position of the legs and repeat 5 times on the left side.\\nBSY ©\\nBSY ©',\n",
       " '171\\nBSY ©19\\nEye Exercises\\nThe following exercises can remove and prevent most eye \\ndiseases, both muscular and optical, if they are practised with patience and perseverance. Many people who have done \\nthese exercises over a long period of time have dis  carded \\ntheir spectacles. Aldous Huxley was one such person.\\n After each of the exercises, the eyes should be closed and \\nrested for at least half a minute. The more often the exercises are done the better; however, if there is lack of time in the daily program then the whole series performed once in the morning and once in the evening will suffice. If this is the case, there is extra reason to do the exercises with maximum dedication and awareness.\\nExercise 1: Palming\\nSit quietly with the eyes \\nclosed and face the sun if possible.Rub the palms of the hands \\ntogether vigor  ously until  \\ntheybecome hot.Place the palms gently over the eyelids.Feel that warmth and energy  \\nis being transmitted from your hands into the eyes.172Remain in this position until the heat from the palms \\nhas been absorbed by the eyes. Keep the eyes closed.Repeat the exercise at least 3 times.\\nExercise 2: Sideways viewing\\nAssume the base position.Raise the arms out to the sides at shoulder level, keeping them straight, and point the thumbs upwards.Without moving the head sideways, focus the eyes in the following sequence one after the other:\\na) left thumb\\nb) space between the eyebrows (bhrumadhya)\\nc) right thumb\\nd) space between the eyebrows\\ne) left thumb\\nRepeat this cycle 15 to 20 times, and then close and rest the eyes. Palming may be performed several times.\\nExercise 3: Front and sideways viewing\\nSit in the base position as in exercise 2 but place the left fist on the left knee so that the thumb points upwards.Hold the right thumb to the right of the body, slightly above shoulder level.\\nBSY ©173BSY ©\\nWithout moving the head, focus the eyes first on the left \\nthumb, then on the right thumb and then return to the \\nleft thumb and repeat.Repeat this process 15 to 20 times.Now close the eyes and rest, continuing to practise the technique mentally.Repeat the same procedure with the right fist resting on the right knee and the left hand extended to the side just above shoulder level. Finally, close and rest the eyes.Palming may be performed several times.\\nExercise 4: Rotational viewing\\nMaintain the same body position as before, but place the left hand on the left knee and hold the right fist above the right leg.The right thumb should point upwards and the right arm must be straight.Slowly make a large circular movement with the right arm moving to the right, then upwards, curving to the left of the body and finally returning to the starting position.During this movement keep your eyes focused on the thumb without moving the head.174Perform 5 times clockwise and 5 times anti-clockwise.\\nRepeat with the left thumb.Finally, close and rest the eyes. Palming may be performed several times.\\nExercise 5: Up and down viewing\\nAssume the base position and place both fists on the knees, with both thumbs pointing upwards.Keeping the arms straight and the head motionless, slowly raise the right thumb, while following the motion of the thumb with the eyes.\\nBSY ©\\nBSY ©175\\nBSY ©On reaching the highest elevation, slowly return to the \\nstarting position, keeping the eyes focused on the thumb all the time.Practise the same movement with the left hand.Repeat 5 times with each thumb.Finally close and rest the eyes.Palming may be performed several times.\\nExercise 6: Near and distant viewing\\nMaintain the same body position as before, relaxing the hands on the knees or the thighs.Focus the eyes on the nosetip, then focus them on a distant object. Focus on the nosetip again.Repeat this process 10 to 20 times.Afterwards, close the eyes and relax.Palming may be performed.\\nBenefits : These exercises relax, revitalize and recharge the \\noptic nerves.',\n",
       " '17620\\nSurya Namaskara\\n SALUTATIONS TO THE SUN\\nPosition 1: Pranamasana (prayer pose)\\nFace the sun if possible.\\nStand erect with feet together, palms together resting on the centre of the chest, arms relaxed against the body.Breathe in and out with awareness until the breath is normal.The whole body should be completely relaxed, spinal column straight but not rigid.\\nBenefits: This asana establishes a state of concentration, \\ncalmness and awareness of the practice being performed.BSY ©\\n177\\nBSY © BSY ©\\nPosition 2 Position 3\\nPosition 2: Hasta Utthanasana (raised arms pose)\\nInhale deeply while slowly raising the arms above the \\nhead. Keep the arms separated, shoulder width apart.Tilt the pelvis while arching the back and bending the head back as far as is comfortable. The spinal column is arched slightly in the beginning. The amount of the arch can increase with practice.\\nBenefits : This asana stretches all the abdominal organs fully, \\nexercises the arms and shoulders, tones the spinal cord and opens up the lungs .\\nPosition 3: Padahastasana (hand to foot pose)\\nExhale deeply while slowly bending forward, keeping the knees straight. Place the fingers or palms of the hands beside the toes on the floor. Try to touch the knees with the forehead. The spinal column is bent forward at the hip joints. Initially bend forward only as far as is comfortable. With practice it will come easily.178Benefits : This asana aids in preventing, relieving and \\neliminating stomach ailments. It reduces surplus ab -\\ndominal fat, improves digestion, eliminates constipation, \\nimproves circulation and keeps the spine supple.\\nPosition 4: Ashwa Sanchalanasana (equestrian pose)\\nKeep the palms of the hands or the fingertips on the floor beside the feet.Inhale deeply while slowly stretching the right leg back as far as is possible, and bending the left knee.The right toe and knee touch the floor. Arch the back and look up.The spinal column is once again arched and the chin should be raised as high as is possible. After some practice the spinal arch will become very pronounced.\\nBenefits\\n: This asana tones the abdominal muscles, streng -\\nthens the muscles of the thighs and legs and induces balance in the nervous system. \\nPosition 5: Parvatasana (mountain pose)\\nExhale deeply while slowly stretching the right leg back and placing it beside the left leg.At the same time raise the buttocks and lower the head between the arms, so that the back and legs form two sides of a triangle.The legs and arms should be straight in the final position.\\nBSY ©179BSY ©\\nBSY ©Try to keep the heels on the ground and bring the head \\ntowards the knees. This is often called the dog pose.\\nBenefits : This asana strengthens the nerves and muscles of \\nthe arms and legs, exercises the spine and stimulates circulation especially in the upper spine. It is an inverted posture which can be practised by those who are unable to do sirshasana, the headstand pose, due to myopia.\\nPosition 6: Ashtanga Namaskara (salute with 8 limbs)\\nSlowly lower the knees to the floor, then the chest and finally the chin.In the final position only the toes, knees, chest, hands and chin touch the floor.The spinal column is arched slightly in this balancing pose.With practise, it should be possible to touch the knees, chest and chin to the floor at the same time.Exhale and inhale as much as is necessary in this position, or retain the breath outside. \\nBenefits : This asana tones the shoulders and neck muscles, \\nstrengthens leg and arm muscles and develops the chest.180Position 7: Bhujangasana (cobra pose)\\nWhile inhaling deeply slowly lower the buttocks and hips \\nto the floor. Straighten the elbows, arch the back and push the chest forward into the cobra pose.Bend the head back.\\nBenefits : As given for ashtanga namaskara. Also, in this \\nasana the abdominal stretch helps to squeeze stagnant blood from the abdominal organs and encourage a flow of fresh blood. This pose is useful for all stomach ailments, including indigestion and constipation. The arching of the back keeps the spine supple, improves circulation and revitalizes most important spinal nerves. It also has a balancing effect on many hormones.\\nPosition 8: Parvatasana (mountain pose)\\nRelax the arch and exhale deeply, while slowly raising the buttocks and lowering the heels to the floor.The hands and feet do not move from position 7.The body should look like a triangle as in position 5 with the chin tucked in close to the chest.\\nPosition 9: Ashwa Sanchalanasana (equestrian pose)\\nWhile inhaling deeply slowly bring the left foot forward between the two hands.At the same time, lower the right knee down to the floor and push the pelvis forward.\\nArch the back and look up, with the chin as high as pos  -\\nsible. This is the same as position 4.\\nBSY ©181Position 10: Padahastasana (hand to foot pose)\\nWhile exhaling slowly bring the left foot forward next to \\nthe right foot.Straighten the knees and bring the forehead as close as possible to the knees without straining, as in position 3.\\nPosition 11: Hasta Utthanasana (raised arms pose)\\nInhale deeply while slowly raising the body from the hip and stretching the arms overhead, shoulder width apart.Tilt the pelvis then arch the back, and raise the chin as high as possible, as in position 2.\\nPosition 12: Pranamasana (prayer pose)\\nExhale while bringing the palms together in front of the chest, standing erect as in position 1.Relax the body and watch the breath return to normal.\\nPositions 13–24 : Positions 1–12 constitute half a round. The \\nsecond half round consists of the same twelve positions. The only difference is in position 16 where the left leg is taken back, and in position 21 where the right foot is brought forward between the hands. Start the second half round when the heartbeat and breath have returned to normal. When a number of full rounds have been completed, lie in shavasana to rest and relax the body and breath.\\nBenefits : \\nWhen one performs surya namaskara synchro -\\nnizing the physical movements with the breath, all the muscles, joints and major internal organs are stimulated and balanced. It is for this reason that surya namaskara is an ideal practice for people with only a limited amount of time to devote to the practice of asana and pranayama. Surya namaskara also influences the pineal gland and the hypothalamus, helping to prevent pineal degeneration and calcification. This balances the transition period between childhood and adolescence in growing children. ']"
      ]
     },
     "execution_count": 31,
     "metadata": {},
     "output_type": "execute_result"
    }
   ],
   "source": [
    "all_splits"
   ]
  },
  {
   "cell_type": "code",
   "execution_count": 40,
   "metadata": {},
   "outputs": [],
   "source": [
    "# Loading documents\n",
    "from langchain.document_loaders import PyPDFLoader\n",
    "\n",
    "loader = PyPDFLoader(\"Yoga Education for Children Vol 1.pdf\")\n",
    "pages = loader.load()"
   ]
  },
  {
   "cell_type": "code",
   "execution_count": null,
   "metadata": {},
   "outputs": [],
   "source": [
    "# %matplotlib inline\n",
    "# from lib.common import plot_chunk_histogram, get_token_length\n",
    "\n",
    "# page_content = [page.page_content for page in pages]\n",
    "\n",
    "# plot_chunk_histogram(\n",
    "#     chunks=page_content,\n",
    "#     length_fn=len,\n",
    "#     title=\"Distribution of page character lengths\",\n",
    "#     xlabel=\"Page character length\",\n",
    "#     ylabel=\"Page count\")\n",
    "# plot_chunk_histogram(\n",
    "#     chunks=page_content,\n",
    "#     length_fn=get_token_length,\n",
    "#     title=\"Distribution of page token lengths\",\n",
    "#     xlabel=\"Page token length\",\n",
    "#     ylabel=\"Page count\")"
   ]
  },
  {
   "cell_type": "code",
   "execution_count": 41,
   "metadata": {},
   "outputs": [],
   "source": [
    "# Embedding text into vector database - ChromaDB\n",
    "embeddings = HuggingFaceEmbeddings(model_name=\"sentence-transformers/all-MiniLM-L6-v2\",\n",
    "                                   model_kwargs={\"device\": \"cpu\"})\n",
    "vector_db = Chroma.from_documents(documents=pages, \n",
    "                                  embedding=embeddings, \n",
    "                                  persist_directory=\"chroma_db\")"
   ]
  },
  {
   "cell_type": "code",
   "execution_count": 43,
   "metadata": {},
   "outputs": [],
   "source": [
    "# Initializing chain\n",
    "retriever = vector_db.as_retriever()\n",
    "\n",
    "qa = RetrievalQA.from_chain_type(\n",
    "    llm = model,\n",
    "    chain_type = \"stuff\",\n",
    "    retriever = retriever,\n",
    "    verbose = True\n",
    ")"
   ]
  },
  {
   "cell_type": "code",
   "execution_count": 44,
   "metadata": {},
   "outputs": [
    {
     "name": "stdout",
     "output_type": "stream",
     "text": [
      "\n",
      "\n",
      "\u001b[1m> Entering new RetrievalQA chain...\u001b[0m\n"
     ]
    },
    {
     "name": "stderr",
     "output_type": "stream",
     "text": [
      "Llama.generate: prefix-match hit\n",
      "\n",
      "llama_print_timings:        load time =    5117.94 ms\n",
      "llama_print_timings:      sample time =      61.89 ms /   231 runs   (    0.27 ms per token,  3732.43 tokens per second)\n",
      "llama_print_timings: prompt eval time =  340348.73 ms /  1256 tokens (  270.98 ms per token,     3.69 tokens per second)\n",
      "llama_print_timings:        eval time =   88607.05 ms /   230 runs   (  385.25 ms per token,     2.60 tokens per second)\n",
      "llama_print_timings:       total time =  431332.36 ms /  1486 tokens\n"
     ]
    },
    {
     "name": "stdout",
     "output_type": "stream",
     "text": [
      "\n",
      "\u001b[1m> Finished chain.\u001b[0m\n",
      "AI: {'query': '\\n<|system|>\\nYou are a Yoga GPT that gives advices and suggestions related to Yoga. Please give correct and detailed stepwise instructions.\\n</s>\\n<|user|>\\nWhat are some of the most popular Pawanmuktasana?\\n</s>\\n<|Yoga GPT|>\\n', 'result': ' \\n\\nThe most common Pawanmuktasanas are:\\n\\n1. Ankle Bending (5 times): Bend your ankles towards each other, one at a time.\\n2. Knee Bending (5 times each leg): Sit on the ground and bend your knees. One at a time, reach for your toes and straighten your legs.\\n3. Squat and Rise Pose: Stand with feet shoulder-width apart and lower yourself into a squatting position. Hold for 2-3 seconds before rising back up to standing.\\n4. Hand Clenching (5 times): Make fists with both hands and hold them tight. Release and repeat.\\n5. Wrist Bending (5 times): Flex your wrists towards each other, one at a time.\\n6. Shoulder Rotations (5 times clockwise/anti-clockwise): Hold arms straight in front of you, rotate shoulders forward in circles.\\n7. Neck Movements (5 times each variation): Gently tilt head to left and right side.'} /n Time taken: 431.558 sec\n"
     ]
    }
   ],
   "source": [
    "query = \"What are some of the most popular Pawanmuktasana?\"\n",
    "prompt = f\"\"\"\n",
    "<|system|>\n",
    "You are a Yoga GPT that gives advices and suggestions related to Yoga. Please give correct and detailed stepwise instructions.\n",
    "</s>\n",
    "<|user|>\n",
    "{query}\n",
    "</s>\n",
    "<|Yoga GPT|>\n",
    "\"\"\"\n",
    "\n",
    "t1 = time()\n",
    "response = qa.invoke(prompt)\n",
    "t2 = time()\n",
    "print(f\"AI: {response} /n Time taken: {round(t2-t1, 3)} sec\")"
   ]
  },
  {
   "cell_type": "code",
   "execution_count": 45,
   "metadata": {},
   "outputs": [],
   "source": [
    "import json"
   ]
  },
  {
   "cell_type": "code",
   "execution_count": 46,
   "metadata": {},
   "outputs": [
    {
     "name": "stdout",
     "output_type": "stream",
     "text": [
      "Query: What are some of the most popular Pawanmuktasana?\n",
      "Retrieved docs: 4\n",
      "Source:  Yoga Education for Children Vol 1.pdf\n",
      "Text:  13918\n",
      "Pawanmuktasana Series\n",
      "Pawanmuktasana is a group of exercises which release  \n",
      "wind and gases from the body. Pawan means ‘wind’; \n",
      "mukta means ‘release’, asana  means ‘posture’. The pawan -\n",
      "muktasana series is very simple, yet it is most effective in \n",
      "regulating what are referred to in India as the humours: phlegm or kapha , wind or vata and acid/bile, pitta.\n",
      " According to the ancient medical science known as \n",
      "ayurveda, these three humours control all the functions of the body. If any irregularity arises in their functions, negative reactions take place in the metabolism of the body and disease results.\n",
      "Physical yoga \n",
      "Pawanmuktasana are simple exercises for the development \n",
      "of body awareness. During the practice of each exercise the children should be encouraged to feel the part of the body being used. Since one covers all the body parts with these exercises it is like giving oneself a complete external physical \n",
      "examination. One quickly notices the difference in develop -\n",
      "ment of the two body sides. If pawanmuktasana is introduced to children it will facilitate equal development of the body, and both right and left hemispheres of the brain.\n",
      " The pawanmuktasana series should be practised very \n",
      "slowly. Since slow motion movements need more attention, this helps to develop concentration and in itself helps to  \n",
      "\n",
      "Source:  Yoga Education for Children Vol 1.pdf\n",
      "Text:  140induce relaxation. It is important to build in the discipline \n",
      "of counting from the very beginning.\n",
      " Pawanmuktasana movements are simple; all yoga \n",
      "exercises and asanas are slow, conscious stretching or conscious postures and not the fast energy burning movements that we experience in gymnastics or keep fit classes. Problems such as straining or pulled ligaments or muscles should never occur since one should at all times be completely aware of the movement in the particular body part being used. This awareness is the important difference between yoga asanas and gymnastics.\n",
      " The pawanmuktasana series of exercises is divided into \n",
      "three distinct groups: anti-rheumatic, anti-gastric, and energy-releasing. \n",
      "\n",
      "Source:  Yoga Education for Children Vol 1.pdf\n",
      "Text:  28416. Naukasana\n",
      "17. Sarvangasana\n",
      "18. Halasana\n",
      "19. Ushtrasana\n",
      "20. Ardha matsyendrasana\n",
      "21. Bhujangasana \n",
      "22. Shalabhasana\n",
      "23. Dhanurasana\n",
      "24. T adasana\n",
      "25. T rikonasana\n",
      "26. Garudasana\n",
      "27. Shavasana\n",
      "28. Nadi shodhana\n",
      "29. Bhramari\n",
      "30. Sheetali\n",
      "31. Seetkari\n",
      "32. Bhastrika\n",
      "LESSON 50\n",
      "Repetition of Lesson 49. \n",
      "\n",
      "Source:  Yoga Education for Children Vol 1.pdf\n",
      "Text:  viii17. Introduction to Asana  133\n",
      "18. Pawanmuktasana Series  139\n",
      "Pawanmuktasana 1: Anti-Rheumatic Asanas  141\n",
      "Pawanmuktasana 2: Anti-Gastric Asanas  156\n",
      "Pawanmuktasana 3: Energizing Asanas  165\n",
      "19.  Eye Exercises  171\n",
      "20. Surya Namaskara: Salutations to the Sun  176\n",
      "21. Chandra Namaskara: Salutations to the Moon  182\n",
      "22. Warrior Sequence  188\n",
      "23. Relaxation Asanas  193\n",
      "24. Animal Asanas  196\n",
      "25. Object Asanas  222\n",
      "26. Characters and P ersons  249\n",
      "27. Alphabet Asanas  255\n",
      "28. Asanas Done in Pairs  259\n",
      "29. Pranayama  264\n",
      "30. Practical Teaching Syllabus  271\n",
      "31. Light of Existence Explained  285\n",
      "Bibliography  290\n",
      "Index of Practices  293\n",
      "General Index  299 \n",
      "\n"
     ]
    }
   ],
   "source": [
    "# Checking doc sources\n",
    "docs = vector_db.similarity_search(query)\n",
    "print(f\"Query: {query}\")\n",
    "print(f\"Retrieved docs: {len(docs)}\")\n",
    "\n",
    "for doc in docs:\n",
    "    doc_details = doc.to_json()['kwargs']\n",
    "    print(\"Source: \", doc_details['metadata']['source'])\n",
    "    print(\"Text: \", doc_details['page_content'], \"\\n\")"
   ]
  },
  {
   "cell_type": "code",
   "execution_count": null,
   "metadata": {},
   "outputs": [],
   "source": [
    "def generate_embedding(text):\n",
    "  encoded_input = tokenizer(text, return_tensors=\"pt\")\n",
    "\n",
    "  with torch.no_grad():\n",
    "    output = embedding_model(**encoded_input)\n",
    "\n",
    "  # Extracting sentence embeddings\n",
    "  return output.last_hidden_state[:, 0].tolist()"
   ]
  },
  {
   "cell_type": "code",
   "execution_count": null,
   "metadata": {},
   "outputs": [],
   "source": [
    "def get_sentence_embedding(text):\n",
    "  sentences = text.split(\". \") # Splitting by sentences\n",
    "  embeddings = []\n",
    "  for sentence in sentences:\n",
    "    embedding = generate_embedding(sentence)\n",
    "    embeddings.append(embedding)\n",
    "\n",
    "  # Returning average of sentence embeddings\n",
    "  return np.mean(embeddings, axis=0)"
   ]
  },
  {
   "cell_type": "code",
   "execution_count": null,
   "metadata": {},
   "outputs": [],
   "source": [
    "def createStore_doc(topic, text_content):\n",
    "  # Generating vector embedding for the content\n",
    "  embedding = get_sentence_embedding(text_content)\n",
    "\n",
    "  # Creating class obj\n",
    "  obj = {\n",
    "      'topic': topic,\n",
    "      'content': text_content\n",
    "  }\n",
    "  uuid = client.data_object.create(\n",
    "      class_name = \"TopicContent\",\n",
    "      data_object = obj,\n",
    "      # uuid = generate_uuid5(data_object)\n",
    "  )"
   ]
  },
  {
   "cell_type": "code",
   "execution_count": null,
   "metadata": {},
   "outputs": [],
   "source": [
    "for i in range(len(topics_page)-1):\n",
    "  topic, start_page = topics_page[i]\n",
    "  if i+1 < len(topics_page):\n",
    "    _, end_page = topics_page[i + 1]\n",
    "    text = extract_text_by_topic(topic, int(start_page) + 8, int(end_page) + 8)\n",
    "    createStore_doc(topic, text)\n",
    "\n",
    "print(\"Text data stored successfully in ChromaDB!\")"
   ]
  },
  {
   "cell_type": "markdown",
   "metadata": {},
   "source": [
    "### 2. Using Model API Inference"
   ]
  },
  {
   "cell_type": "code",
   "execution_count": null,
   "metadata": {},
   "outputs": [],
   "source": [
    "# Setting quantization config to load LLM with less GPU memory\n",
    "# bnb_config = transformers.BitsAndBytesConfig(\n",
    "#     load_in_8bit=False,\n",
    "#     load_in_4bit=True,\n",
    "#     bnb_4bit_compute_dtype=bfloat16,\n",
    "#     bnb_4bit_quant_type='nf4',\n",
    "#     bnb_4bit_use_double_quant=True\n",
    "# )\n",
    "# bnb_config"
   ]
  },
  {
   "cell_type": "code",
   "execution_count": null,
   "metadata": {},
   "outputs": [],
   "source": [
    "model_id = 'mistralai/Mistral-7B-Instruct-v0.2'\n",
    "pipeline = HuggingFacePipeline."
   ]
  },
  {
   "cell_type": "code",
   "execution_count": 9,
   "metadata": {},
   "outputs": [
    {
     "data": {
      "text/plain": [
       "LlamaTokenizerFast(name_or_path='mistralai/Mistral-7B-Instruct-v0.2', vocab_size=32000, model_max_length=1000000000000000019884624838656, is_fast=True, padding_side='left', truncation_side='right', special_tokens={'bos_token': '<s>', 'eos_token': '</s>', 'unk_token': '<unk>'}, clean_up_tokenization_spaces=False),  added_tokens_decoder={\n",
       "\t0: AddedToken(\"<unk>\", rstrip=False, lstrip=False, single_word=False, normalized=False, special=True),\n",
       "\t1: AddedToken(\"<s>\", rstrip=False, lstrip=False, single_word=False, normalized=False, special=True),\n",
       "\t2: AddedToken(\"</s>\", rstrip=False, lstrip=False, single_word=False, normalized=False, special=True),\n",
       "}"
      ]
     },
     "execution_count": 9,
     "metadata": {},
     "output_type": "execute_result"
    }
   ],
   "source": [
    "# Loading tokenizer\n",
    "\n",
    "tokenizer = AutoTokenizer.from_pretrained('mistralai/Mistral-7B-Instruct-v0.2')\n",
    "tokenizer"
   ]
  },
  {
   "cell_type": "code",
   "execution_count": 10,
   "metadata": {},
   "outputs": [
    {
     "ename": "TypeError",
     "evalue": "Could not infer framework from class <class 'langchain_community.llms.llamacpp.LlamaCpp'>.",
     "output_type": "error",
     "traceback": [
      "\u001b[1;31m---------------------------------------------------------------------------\u001b[0m",
      "\u001b[1;31mTypeError\u001b[0m                                 Traceback (most recent call last)",
      "Cell \u001b[1;32mIn[10], line 4\u001b[0m\n\u001b[0;32m      1\u001b[0m \u001b[38;5;66;03m# Defining query pipeline\u001b[39;00m\n\u001b[0;32m      2\u001b[0m t1 \u001b[38;5;241m=\u001b[39m time()\n\u001b[1;32m----> 4\u001b[0m query_pipeline \u001b[38;5;241m=\u001b[39m \u001b[43mtransformers\u001b[49m\u001b[38;5;241;43m.\u001b[39;49m\u001b[43mpipeline\u001b[49m\u001b[43m(\u001b[49m\n\u001b[0;32m      5\u001b[0m \u001b[43m    \u001b[49m\u001b[38;5;124;43m\"\u001b[39;49m\u001b[38;5;124;43mtext-generation\u001b[39;49m\u001b[38;5;124;43m\"\u001b[39;49m\u001b[43m,\u001b[49m\n\u001b[0;32m      6\u001b[0m \u001b[43m    \u001b[49m\u001b[43mmodel\u001b[49m\u001b[38;5;241;43m=\u001b[39;49m\u001b[43mmodel\u001b[49m\u001b[43m,\u001b[49m\n\u001b[0;32m      7\u001b[0m \u001b[43m    \u001b[49m\u001b[43mtokenizer\u001b[49m\u001b[38;5;241;43m=\u001b[39;49m\u001b[43mtokenizer\u001b[49m\u001b[43m,\u001b[49m\n\u001b[0;32m      8\u001b[0m \u001b[43m    \u001b[49m\u001b[43mtorch_dtype\u001b[49m\u001b[38;5;241;43m=\u001b[39;49m\u001b[43mtorch\u001b[49m\u001b[38;5;241;43m.\u001b[39;49m\u001b[43mfloat16\u001b[49m\u001b[43m,\u001b[49m\n\u001b[0;32m      9\u001b[0m \u001b[43m    \u001b[49m\u001b[43mdevice_map\u001b[49m\u001b[38;5;241;43m=\u001b[39;49m\u001b[38;5;124;43m'\u001b[39;49m\u001b[38;5;124;43mauto\u001b[39;49m\u001b[38;5;124;43m'\u001b[39;49m\n\u001b[0;32m     10\u001b[0m \u001b[43m)\u001b[49m\n\u001b[0;32m     12\u001b[0m t2 \u001b[38;5;241m=\u001b[39m time()\n\u001b[0;32m     13\u001b[0m \u001b[38;5;28mprint\u001b[39m(\u001b[38;5;124mf\u001b[39m\u001b[38;5;124m\"\u001b[39m\u001b[38;5;124mPreparing pipeline: \u001b[39m\u001b[38;5;132;01m{\u001b[39;00m\u001b[38;5;28mround\u001b[39m(t2\u001b[38;5;241m-\u001b[39mt1,\u001b[38;5;250m \u001b[39m\u001b[38;5;241m3\u001b[39m)\u001b[38;5;132;01m}\u001b[39;00m\u001b[38;5;124m sec.\u001b[39m\u001b[38;5;124m\"\u001b[39m)\n",
      "File \u001b[1;32md:\\SD\\GenAI\\RAG_LangChain_ChromaDB\\.venv\\Lib\\site-packages\\transformers\\pipelines\\__init__.py:905\u001b[0m, in \u001b[0;36mpipeline\u001b[1;34m(task, model, config, tokenizer, feature_extractor, image_processor, framework, revision, use_fast, token, device, device_map, torch_dtype, trust_remote_code, model_kwargs, pipeline_class, **kwargs)\u001b[0m\n\u001b[0;32m    903\u001b[0m \u001b[38;5;28;01mif\u001b[39;00m \u001b[38;5;28misinstance\u001b[39m(model, \u001b[38;5;28mstr\u001b[39m) \u001b[38;5;129;01mor\u001b[39;00m framework \u001b[38;5;129;01mis\u001b[39;00m \u001b[38;5;28;01mNone\u001b[39;00m:\n\u001b[0;32m    904\u001b[0m     model_classes \u001b[38;5;241m=\u001b[39m {\u001b[38;5;124m\"\u001b[39m\u001b[38;5;124mtf\u001b[39m\u001b[38;5;124m\"\u001b[39m: targeted_task[\u001b[38;5;124m\"\u001b[39m\u001b[38;5;124mtf\u001b[39m\u001b[38;5;124m\"\u001b[39m], \u001b[38;5;124m\"\u001b[39m\u001b[38;5;124mpt\u001b[39m\u001b[38;5;124m\"\u001b[39m: targeted_task[\u001b[38;5;124m\"\u001b[39m\u001b[38;5;124mpt\u001b[39m\u001b[38;5;124m\"\u001b[39m]}\n\u001b[1;32m--> 905\u001b[0m     framework, model \u001b[38;5;241m=\u001b[39m \u001b[43minfer_framework_load_model\u001b[49m\u001b[43m(\u001b[49m\n\u001b[0;32m    906\u001b[0m \u001b[43m        \u001b[49m\u001b[43mmodel\u001b[49m\u001b[43m,\u001b[49m\n\u001b[0;32m    907\u001b[0m \u001b[43m        \u001b[49m\u001b[43mmodel_classes\u001b[49m\u001b[38;5;241;43m=\u001b[39;49m\u001b[43mmodel_classes\u001b[49m\u001b[43m,\u001b[49m\n\u001b[0;32m    908\u001b[0m \u001b[43m        \u001b[49m\u001b[43mconfig\u001b[49m\u001b[38;5;241;43m=\u001b[39;49m\u001b[43mconfig\u001b[49m\u001b[43m,\u001b[49m\n\u001b[0;32m    909\u001b[0m \u001b[43m        \u001b[49m\u001b[43mframework\u001b[49m\u001b[38;5;241;43m=\u001b[39;49m\u001b[43mframework\u001b[49m\u001b[43m,\u001b[49m\n\u001b[0;32m    910\u001b[0m \u001b[43m        \u001b[49m\u001b[43mtask\u001b[49m\u001b[38;5;241;43m=\u001b[39;49m\u001b[43mtask\u001b[49m\u001b[43m,\u001b[49m\n\u001b[0;32m    911\u001b[0m \u001b[43m        \u001b[49m\u001b[38;5;241;43m*\u001b[39;49m\u001b[38;5;241;43m*\u001b[39;49m\u001b[43mhub_kwargs\u001b[49m\u001b[43m,\u001b[49m\n\u001b[0;32m    912\u001b[0m \u001b[43m        \u001b[49m\u001b[38;5;241;43m*\u001b[39;49m\u001b[38;5;241;43m*\u001b[39;49m\u001b[43mmodel_kwargs\u001b[49m\u001b[43m,\u001b[49m\n\u001b[0;32m    913\u001b[0m \u001b[43m    \u001b[49m\u001b[43m)\u001b[49m\n\u001b[0;32m    915\u001b[0m model_config \u001b[38;5;241m=\u001b[39m model\u001b[38;5;241m.\u001b[39mconfig\n\u001b[0;32m    916\u001b[0m hub_kwargs[\u001b[38;5;124m\"\u001b[39m\u001b[38;5;124m_commit_hash\u001b[39m\u001b[38;5;124m\"\u001b[39m] \u001b[38;5;241m=\u001b[39m model\u001b[38;5;241m.\u001b[39mconfig\u001b[38;5;241m.\u001b[39m_commit_hash\n",
      "File \u001b[1;32md:\\SD\\GenAI\\RAG_LangChain_ChromaDB\\.venv\\Lib\\site-packages\\transformers\\pipelines\\base.py:297\u001b[0m, in \u001b[0;36minfer_framework_load_model\u001b[1;34m(model, config, model_classes, task, framework, **model_kwargs)\u001b[0m\n\u001b[0;32m    292\u001b[0m         \u001b[38;5;28;01mraise\u001b[39;00m \u001b[38;5;167;01mValueError\u001b[39;00m(\n\u001b[0;32m    293\u001b[0m             \u001b[38;5;124mf\u001b[39m\u001b[38;5;124m\"\u001b[39m\u001b[38;5;124mCould not load model \u001b[39m\u001b[38;5;132;01m{\u001b[39;00mmodel\u001b[38;5;132;01m}\u001b[39;00m\u001b[38;5;124m with any of the following classes: \u001b[39m\u001b[38;5;132;01m{\u001b[39;00mclass_tuple\u001b[38;5;132;01m}\u001b[39;00m\u001b[38;5;124m. See the original errors:\u001b[39m\u001b[38;5;130;01m\\n\u001b[39;00m\u001b[38;5;130;01m\\n\u001b[39;00m\u001b[38;5;132;01m{\u001b[39;00merror\u001b[38;5;132;01m}\u001b[39;00m\u001b[38;5;130;01m\\n\u001b[39;00m\u001b[38;5;124m\"\u001b[39m\n\u001b[0;32m    294\u001b[0m         )\n\u001b[0;32m    296\u001b[0m \u001b[38;5;28;01mif\u001b[39;00m framework \u001b[38;5;129;01mis\u001b[39;00m \u001b[38;5;28;01mNone\u001b[39;00m:\n\u001b[1;32m--> 297\u001b[0m     framework \u001b[38;5;241m=\u001b[39m \u001b[43minfer_framework\u001b[49m\u001b[43m(\u001b[49m\u001b[43mmodel\u001b[49m\u001b[38;5;241;43m.\u001b[39;49m\u001b[38;5;18;43m__class__\u001b[39;49m\u001b[43m)\u001b[49m\n\u001b[0;32m    298\u001b[0m \u001b[38;5;28;01mreturn\u001b[39;00m framework, model\n",
      "File \u001b[1;32md:\\SD\\GenAI\\RAG_LangChain_ChromaDB\\.venv\\Lib\\site-packages\\transformers\\utils\\generic.py:735\u001b[0m, in \u001b[0;36minfer_framework\u001b[1;34m(model_class)\u001b[0m\n\u001b[0;32m    733\u001b[0m         \u001b[38;5;28;01mreturn\u001b[39;00m \u001b[38;5;124m\"\u001b[39m\u001b[38;5;124mflax\u001b[39m\u001b[38;5;124m\"\u001b[39m\n\u001b[0;32m    734\u001b[0m \u001b[38;5;28;01melse\u001b[39;00m:\n\u001b[1;32m--> 735\u001b[0m     \u001b[38;5;28;01mraise\u001b[39;00m \u001b[38;5;167;01mTypeError\u001b[39;00m(\u001b[38;5;124mf\u001b[39m\u001b[38;5;124m\"\u001b[39m\u001b[38;5;124mCould not infer framework from class \u001b[39m\u001b[38;5;132;01m{\u001b[39;00mmodel_class\u001b[38;5;132;01m}\u001b[39;00m\u001b[38;5;124m.\u001b[39m\u001b[38;5;124m\"\u001b[39m)\n",
      "\u001b[1;31mTypeError\u001b[0m: Could not infer framework from class <class 'langchain_community.llms.llamacpp.LlamaCpp'>."
     ]
    }
   ],
   "source": [
    "# Defining query pipeline\n",
    "t1 = time()\n",
    "\n",
    "query_pipeline = transformers.pipeline(\n",
    "    \"text-generation\",\n",
    "    model=model,\n",
    "    tokenizer=tokenizer,\n",
    "    torch_dtype=torch.float16,\n",
    "    device_map='auto'\n",
    ")\n",
    "\n",
    "t2 = time()\n",
    "print(f\"Preparing pipeline: {round(t2-t1, 3)} sec.\")"
   ]
  },
  {
   "cell_type": "code",
   "execution_count": null,
   "metadata": {},
   "outputs": [],
   "source": [
    "# model = transformers.AutoModelForCausalLM.from_pretrained(\n",
    "#     model_id,\n",
    "#     trust_remote_code = True,\n",
    "#     config = model_cfg,\n",
    "#     # quantization_config = bnb_config,\n",
    "#     device_map = 'auto'\n",
    "# )\n",
    "# model"
   ]
  }
 ],
 "metadata": {
  "kernelspec": {
   "display_name": "venv",
   "language": "python",
   "name": "python3"
  },
  "language_info": {
   "codemirror_mode": {
    "name": "ipython",
    "version": 3
   },
   "file_extension": ".py",
   "mimetype": "text/x-python",
   "name": "python",
   "nbconvert_exporter": "python",
   "pygments_lexer": "ipython3",
   "version": "3.11.9"
  }
 },
 "nbformat": 4,
 "nbformat_minor": 2
}
