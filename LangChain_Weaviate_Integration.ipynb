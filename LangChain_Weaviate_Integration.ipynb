{
  "nbformat": 4,
  "nbformat_minor": 0,
  "metadata": {
    "colab": {
      "provenance": [],
      "gpuType": "T4",
      "authorship_tag": "ABX9TyP2mL/n3HzlORDXM/Mb/fmC",
      "include_colab_link": true
    },
    "kernelspec": {
      "name": "python3",
      "display_name": "Python 3"
    },
    "language_info": {
      "name": "python"
    },
    "accelerator": "GPU"
  },
  "cells": [
    {
      "cell_type": "markdown",
      "metadata": {
        "id": "view-in-github",
        "colab_type": "text"
      },
      "source": [
        "<a href=\"https://colab.research.google.com/github/Sweta-Das/LangChain-HuggingFace-LLM/blob/SentenceTransformers/LangChain_Weaviate_Integration.ipynb\" target=\"_parent\"><img src=\"https://colab.research.google.com/assets/colab-badge.svg\" alt=\"Open In Colab\"/></a>"
      ]
    },
    {
      "cell_type": "code",
      "execution_count": null,
      "metadata": {
        "id": "iowenGUHWFte"
      },
      "outputs": [],
      "source": [
        "%pip install -q PyPDF2\n",
        "%pip install -q langchain\n",
        "%pip install -q transformers\n",
        "%pip install -q huggingface-hub\n",
        "%pip install -U weaviate-client\n",
        "%pip install -q sentence-transformers"
      ]
    },
    {
      "cell_type": "code",
      "source": [
        "# Importing libraries\n",
        "import os\n",
        "import json\n",
        "import torch\n",
        "import PyPDF2\n",
        "import weaviate\n",
        "import numpy as np\n",
        "from google.colab import drive\n",
        "from google.colab import userdata\n",
        "from weaviate.embedded import EmbeddedOptions\n",
        "from weaviate.util import generate_uuid5\n",
        "from transformers import AutoTokenizer, AutoModel"
      ],
      "metadata": {
        "id": "GNOUkViRKTwP"
      },
      "execution_count": null,
      "outputs": []
    },
    {
      "cell_type": "code",
      "source": [
        "# Adding Weaviate and HuggingFace\n",
        "HF_KEY = userdata.get(\"HF_TOKEN\")\n",
        "client = weaviate.Client(\n",
        "    embedded_options=EmbeddedOptions(),\n",
        "    additional_headers = {\n",
        "        \"X-HuggingFace-Api-Key\": HF_KEY\n",
        "    }\n",
        ")\n",
        "# Mount Google Drive\n",
        "drive.mount('/content/drive/')\n",
        "model = 'drive/MyDrive/LLM_Model/mistral-7b-instruct-v0.1.Q3_K_S.gguf'"
      ],
      "metadata": {
        "id": "h2CMGosPWcG9",
        "colab": {
          "base_uri": "https://localhost:8080/"
        },
        "outputId": "b433bdbb-5de3-4a81-eb9f-cbbe5b54f486"
      },
      "execution_count": null,
      "outputs": [
        {
          "output_type": "stream",
          "name": "stdout",
          "text": [
            "embedded weaviate is already listening on port 8079\n",
            "Drive already mounted at /content/drive/; to attempt to forcibly remount, call drive.mount(\"/content/drive/\", force_remount=True).\n"
          ]
        }
      ]
    },
    {
      "cell_type": "code",
      "source": [
        "client.is_ready()"
      ],
      "metadata": {
        "colab": {
          "base_uri": "https://localhost:8080/"
        },
        "id": "Y0FLMo7cMJUt",
        "outputId": "ae820f47-ac2a-4c52-f67f-947fc33aa708"
      },
      "execution_count": null,
      "outputs": [
        {
          "output_type": "execute_result",
          "data": {
            "text/plain": [
              "True"
            ]
          },
          "metadata": {},
          "execution_count": 29
        }
      ]
    },
    {
      "cell_type": "code",
      "source": [
        "# Reading PDF and extracting ToC\n",
        "def extract_ToC(pdf_path, start_page, end_page):\n",
        "\n",
        "  with open(pdf_path, 'rb') as file:\n",
        "    pdf_reader = PyPDF2.PdfReader(file)\n",
        "\n",
        "    toc_entries = []\n",
        "\n",
        "    for page in range(start_page, end_page+1):\n",
        "      page = pdf_reader.pages[page]\n",
        "      text = page.extract_text()\n",
        "      text = text.replace(\"vii\", \"\").replace(\"viii\", \"\").replace(\"i17\", \"17\")\n",
        "\n",
        "      toc_lines = text.splitlines()\n",
        "\n",
        "      for i in toc_lines:\n",
        "        toc_entries.append(i)\n",
        "    return toc_entries\n",
        "\n",
        "pdf_path = \"drive/MyDrive/LLM_Model//Yoga Education for Children Vol 1.pdf\"\n",
        "toc = extract_ToC(pdf_path, 7, 8)"
      ],
      "metadata": {
        "id": "IQ0uuaEKKng8"
      },
      "execution_count": null,
      "outputs": []
    },
    {
      "cell_type": "code",
      "source": [
        "# Table of Content\n",
        "toc"
      ],
      "metadata": {
        "colab": {
          "base_uri": "https://localhost:8080/"
        },
        "id": "eidMqB59efoX",
        "outputId": "eb58e066-08a7-4e0f-bf3b-102d9c28714e"
      },
      "execution_count": null,
      "outputs": [
        {
          "output_type": "execute_result",
          "data": {
            "text/plain": [
              "['Contents',\n",
              " 'Introduction  1',\n",
              " 'Yoga and Education  ',\n",
              " ' 1. The Need for a Y oga-Based Education System  13',\n",
              " ' 2. Yoga and Children’s Problems  22',\n",
              " ' 3. Yoga with Pre-School Children  25',\n",
              " ' 4. Yoga Lessons Begin at Age Eight  31',\n",
              " ' 5. Student Unr est and Its Remedy  34',\n",
              " ' 6. Yoga and the Youth Problem  39',\n",
              " ' 7. Better Ways of Educatio n 45',\n",
              " ' 8. Yoga at School  50',\n",
              " ' 9. Yoga and Education  57',\n",
              " '10. Questions and Answers  65',\n",
              " 'Yoga as Therapy  ',\n",
              " '11. Yoga for Emotional Disturbances  77',\n",
              " '12. Yoga for the Disabled  83',\n",
              " '13. Yoga Benefits Juvenile Diabetes  87',\n",
              " 'Practices  ',\n",
              " '14. Yoga Techniques for Pre-School Children  93',\n",
              " '15. Yoga Techniques for 7–14 Y ear-Olds  101',\n",
              " '16. Yoga Techniques for the Classroom  110',\n",
              " '17. Introduction to Asana  133',\n",
              " '18. Pawanmuktasana Series  139',\n",
              " 'Pawanmuktasana 1: Anti-Rheumatic Asanas  141',\n",
              " 'Pawanmuktasana 2: Anti-Gastric Asanas  156',\n",
              " 'Pawanmuktasana 3: Energizing Asanas  165',\n",
              " '19.  Eye Exercises  171',\n",
              " '20. Surya Namaskara: Salutations to the Sun  176',\n",
              " '21. Chandra Namaskara: Salutations to the Moon  182',\n",
              " '22. Warrior Sequence  188',\n",
              " '23. Relaxation Asanas  193',\n",
              " '24. Animal Asanas  196',\n",
              " '25. Object Asanas  222',\n",
              " '26. Characters and P ersons  249',\n",
              " '27. Alphabet Asanas  255',\n",
              " '28. Asanas Done in Pairs  259',\n",
              " '29. Pranayama  264',\n",
              " '30. Practical Teaching Syllabus  271',\n",
              " '31. Light of Existence Explained  285',\n",
              " 'Bibliography  290',\n",
              " 'Index of Practices  293',\n",
              " 'General Index  299']"
            ]
          },
          "metadata": {},
          "execution_count": 31
        }
      ]
    },
    {
      "cell_type": "code",
      "source": [
        "# Topics to extract text from\n",
        "topics = []\n",
        "for topic in range(18, 29):\n",
        "  topics.append(toc[topic])"
      ],
      "metadata": {
        "id": "15nkLGygeoh2"
      },
      "execution_count": null,
      "outputs": []
    },
    {
      "cell_type": "code",
      "source": [
        "topics"
      ],
      "metadata": {
        "colab": {
          "base_uri": "https://localhost:8080/"
        },
        "id": "7gleBrWbhRZd",
        "outputId": "26621ad3-6c5d-4446-84f7-06b95e1ddb7b"
      },
      "execution_count": null,
      "outputs": [
        {
          "output_type": "execute_result",
          "data": {
            "text/plain": [
              "['14. Yoga Techniques for Pre-School Children  93',\n",
              " '15. Yoga Techniques for 7–14 Y ear-Olds  101',\n",
              " '16. Yoga Techniques for the Classroom  110',\n",
              " '17. Introduction to Asana  133',\n",
              " '18. Pawanmuktasana Series  139',\n",
              " 'Pawanmuktasana 1: Anti-Rheumatic Asanas  141',\n",
              " 'Pawanmuktasana 2: Anti-Gastric Asanas  156',\n",
              " 'Pawanmuktasana 3: Energizing Asanas  165',\n",
              " '19.  Eye Exercises  171',\n",
              " '20. Surya Namaskara: Salutations to the Sun  176',\n",
              " '21. Chandra Namaskara: Salutations to the Moon  182']"
            ]
          },
          "metadata": {},
          "execution_count": 33
        }
      ]
    },
    {
      "cell_type": "code",
      "source": [
        "# Separating topics and their pages\n",
        "topics_page = []\n",
        "for i in topics:\n",
        "  # Splitting string into words\n",
        "  parts = i.split()\n",
        "  topic = ' '.join(parts[:-1])\n",
        "  page_num = parts[-1]\n",
        "  topics_page.append((topic, page_num))"
      ],
      "metadata": {
        "id": "Wzm-Nb5ejQc9"
      },
      "execution_count": null,
      "outputs": []
    },
    {
      "cell_type": "code",
      "source": [
        "topics_page"
      ],
      "metadata": {
        "colab": {
          "base_uri": "https://localhost:8080/"
        },
        "id": "BqmgtFHKjwTE",
        "outputId": "0f54b863-d6ab-425f-a297-95d057bb752a"
      },
      "execution_count": null,
      "outputs": [
        {
          "output_type": "execute_result",
          "data": {
            "text/plain": [
              "[('14. Yoga Techniques for Pre-School Children', '93'),\n",
              " ('15. Yoga Techniques for 7–14 Y ear-Olds', '101'),\n",
              " ('16. Yoga Techniques for the Classroom', '110'),\n",
              " ('17. Introduction to Asana', '133'),\n",
              " ('18. Pawanmuktasana Series', '139'),\n",
              " ('Pawanmuktasana 1: Anti-Rheumatic Asanas', '141'),\n",
              " ('Pawanmuktasana 2: Anti-Gastric Asanas', '156'),\n",
              " ('Pawanmuktasana 3: Energizing Asanas', '165'),\n",
              " ('19. Eye Exercises', '171'),\n",
              " ('20. Surya Namaskara: Salutations to the Sun', '176'),\n",
              " ('21. Chandra Namaskara: Salutations to the Moon', '182')]"
            ]
          },
          "metadata": {},
          "execution_count": 35
        }
      ]
    },
    {
      "cell_type": "code",
      "source": [
        "# Function to extract text from specified topics\n",
        "def extract_text_by_topic(topic, start_page, end_page):\n",
        "  with open(pdf_path, 'rb') as file:\n",
        "    pdf_reader = PyPDF2.PdfReader(file)\n",
        "    text = ''\n",
        "    for page_num in range(start_page, end_page):\n",
        "      page = pdf_reader.pages[page_num]\n",
        "      text += page.extract_text()\n",
        "  return text"
      ],
      "metadata": {
        "id": "OQQMLcf9hQdY"
      },
      "execution_count": null,
      "outputs": []
    },
    {
      "cell_type": "code",
      "source": [
        "# Text Vectorization\n",
        "embedding_model_name = \"sentence-transformers/all-mpnet-base-v2\"\n",
        "tokenizer = AutoTokenizer.from_pretrained(embedding_model_name)\n",
        "embedding_model = AutoModel.from_pretrained(embedding_model_name)"
      ],
      "metadata": {
        "id": "OpxH9rru9C3j"
      },
      "execution_count": null,
      "outputs": []
    },
    {
      "cell_type": "code",
      "source": [
        "# Defining Weaviate class schema\n",
        "class_schema = {\n",
        "    \"class\": \"TopicContent\",\n",
        "    \"description\": \"A Document class to store topic content\",\n",
        "    \"vectorizer\": \"text2vec-huggingface\",\n",
        "    \"properties\": [\n",
        "        {\n",
        "          \"dataType\": [\"string\"],\n",
        "          \"name\": \"topic\",\n",
        "          \"description\": \"Topic name\"\n",
        "        },\n",
        "        {\n",
        "           \"dataType\": [\"text\"],\n",
        "           \"name\": \"content\",\n",
        "           \"description\": \"Content related to topic\"\n",
        "        },\n",
        "      ]\n",
        "}\n",
        "\n",
        "# Creating class based on given schema\n",
        "client.schema.create_class(class_schema)"
      ],
      "metadata": {
        "id": "935SlGRBOZxd"
      },
      "execution_count": null,
      "outputs": []
    },
    {
      "cell_type": "code",
      "source": [
        "def generate_embedding(text):\n",
        "  encoded_input = tokenizer(text, return_tensors=\"pt\")\n",
        "\n",
        "  with torch.no_grad():\n",
        "    output = embedding_model(**encoded_input)\n",
        "\n",
        "  # Extracting sentence embeddings\n",
        "  return output.last_hidden_state[:, 0].tolist()"
      ],
      "metadata": {
        "id": "4irGSM4LESnC"
      },
      "execution_count": null,
      "outputs": []
    },
    {
      "cell_type": "code",
      "source": [
        "def get_sentence_embedding(text):\n",
        "  sentences = text.split(\". \") # Splitting by sentences\n",
        "  embeddings = []\n",
        "  for sentence in sentences:\n",
        "    embedding = generate_embedding(sentence)\n",
        "    embeddings.append(embedding)\n",
        "\n",
        "  # Returning average of sentence embeddings\n",
        "  return np.mean(embeddings, axis=0)"
      ],
      "metadata": {
        "id": "chvXJGCEJGxZ"
      },
      "execution_count": null,
      "outputs": []
    },
    {
      "cell_type": "code",
      "source": [
        "def createStore_doc(topic, text_content):\n",
        "  # Generating vector embedding for the content\n",
        "  embedding = get_sentence_embedding(text_content)\n",
        "\n",
        "  # Creating class obj\n",
        "  obj = {\n",
        "      'topic': topic,\n",
        "      'content': text_content\n",
        "  }\n",
        "  uuid = client.data_object.create(\n",
        "      class_name = \"TopicContent\",\n",
        "      data_object = obj,\n",
        "      uuid = generate_uuid5(data_object)\n",
        "  )"
      ],
      "metadata": {
        "id": "j15Z_MiBFf7f"
      },
      "execution_count": null,
      "outputs": []
    },
    {
      "cell_type": "code",
      "source": [
        "for i in range(len(topics_page)-1):\n",
        "  topic, start_page = topics_page[i]\n",
        "  if i+1 < len(topics_page):\n",
        "    _, end_page = topics_page[i + 1]\n",
        "    text = extract_text_by_topic(topic, int(start_page) + 8, int(end_page) + 8)\n",
        "    createStore_doc(topic, text)\n",
        "\n",
        "print(\"Text data stored successfully in Weaviate!\")"
      ],
      "metadata": {
        "id": "I7cXwIFUiPA9"
      },
      "execution_count": null,
      "outputs": []
    },
    {
      "cell_type": "code",
      "source": [
        "result = client.query.get(\n",
        "    class_name = 'TopicContent',\n",
        "    properties = 'topic'\n",
        ").do()\n",
        "result"
      ],
      "metadata": {
        "colab": {
          "base_uri": "https://localhost:8080/"
        },
        "id": "JwBbT48NIJfN",
        "outputId": "c5658378-b1ee-4261-b42d-315231b64b26"
      },
      "execution_count": null,
      "outputs": [
        {
          "output_type": "execute_result",
          "data": {
            "text/plain": [
              "{'data': {'Get': {'TopicContent': [{'topic': '15. Yoga Techniques for 7–14 Y ear-Olds'},\n",
              "    {'topic': '20. Surya Namaskara: Salutations to the Sun'},\n",
              "    {'topic': '19. Eye Exercises'},\n",
              "    {'topic': 'Pawanmuktasana 1: Anti-Rheumatic Asanas'},\n",
              "    {'topic': '18. Pawanmuktasana Series'},\n",
              "    {'topic': 'Pawanmuktasana 2: Anti-Gastric Asanas'},\n",
              "    {'topic': 'Pawanmuktasana 3: Energizing Asanas'},\n",
              "    {'topic': '14. Yoga Techniques for Pre-School Children'},\n",
              "    {'topic': '17. Introduction to Asana'},\n",
              "    {'topic': '16. Yoga Techniques for the Classroom'}]}}}"
            ]
          },
          "metadata": {},
          "execution_count": 42
        }
      ]
    },
    {
      "cell_type": "code",
      "source": [
        "# Getting all data from class\n",
        "query = (\n",
        "    client.query.get('TopicContent', ['topic'])\n",
        "    .with_additional([\"id vector\"])\n",
        ").do()\n",
        "query"
      ],
      "metadata": {
        "colab": {
          "base_uri": "https://localhost:8080/"
        },
        "id": "X_kfLlNHYPlF",
        "outputId": "74e17211-408c-49a3-e40c-14c348b6b033"
      },
      "execution_count": null,
      "outputs": [
        {
          "output_type": "execute_result",
          "data": {
            "text/plain": [
              "{'data': {'Get': {'TopicContent': [{'_additional': {'generate': {'error': 'OpenAI API Key: no api key found neither in request header: X-Openai-Api-Key nor in environment variable under OPENAI_APIKEY',\n",
              "       'singleResult': None}}},\n",
              "    {'_additional': {'generate': {'error': 'OpenAI API Key: no api key found neither in request header: X-Openai-Api-Key nor in environment variable under OPENAI_APIKEY',\n",
              "       'singleResult': None}}},\n",
              "    {'_additional': {'generate': {'error': 'OpenAI API Key: no api key found neither in request header: X-Openai-Api-Key nor in environment variable under OPENAI_APIKEY',\n",
              "       'singleResult': None}}}]}}}"
            ]
          },
          "metadata": {},
          "execution_count": 47
        }
      ]
    },
    {
      "cell_type": "code",
      "source": [
        "class_schema = client.schema.get('TopicContent')\n",
        "class_schema"
      ],
      "metadata": {
        "id": "pY4UrIC7fbpp"
      },
      "execution_count": null,
      "outputs": []
    },
    {
      "cell_type": "code",
      "source": [
        "# Deleting class from Weaviate\n",
        "client.schema.delete_class(class_name=\"TopicContent\")\n",
        "client.data_object.delete(\n",
        "    class_name='TopicContent'\n",
        ")"
      ],
      "metadata": {
        "id": "8RG1DGEmd7P9"
      },
      "execution_count": null,
      "outputs": []
    }
  ]
}